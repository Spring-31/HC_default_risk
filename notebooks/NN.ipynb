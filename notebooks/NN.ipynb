{
 "cells": [
  {
   "cell_type": "code",
   "execution_count": 1,
   "metadata": {},
   "outputs": [],
   "source": [
    "# numpy and pandas for data manipulation\n",
    "import numpy as np\n",
    "import pandas as pd \n",
    "\n",
    "# File system manangement\n",
    "import os\n",
    "\n",
    "# Suppress warnings \n",
    "import warnings\n",
    "warnings.filterwarnings('ignore')\n",
    "\n",
    "# No truncation of column content\n",
    "pd.set_option('display.max_colwidth', None)  \n",
    "\n",
    "import matplotlib.pyplot as plt\n",
    "import seaborn as sns\n",
    "\n",
    "FileOut = '../output/'"
   ]
  },
  {
   "cell_type": "markdown",
   "metadata": {},
   "source": [
    "## EDA"
   ]
  },
  {
   "cell_type": "markdown",
   "metadata": {},
   "source": [
    "### Загружаем сырые данные"
   ]
  },
  {
   "cell_type": "code",
   "execution_count": 2,
   "metadata": {},
   "outputs": [
    {
     "name": "stdout",
     "output_type": "stream",
     "text": [
      "['application_test.csv', 'application_train.csv', 'bureau.csv', 'bureau_balance.csv', 'credit_card_balance.csv', 'HomeCredit_columns_description.csv', 'HomeCredit_columns_description.ods', 'installments_payments.csv', 'POS_CASH_balance.csv', 'previous_application.csv', 'sample_submission.csv']\n"
     ]
    }
   ],
   "source": [
    "# List files available\n",
    "print(os.listdir('../../Kaggle/home-credit-default-risk/input/'))"
   ]
  },
  {
   "cell_type": "code",
   "execution_count": 3,
   "metadata": {},
   "outputs": [
    {
     "name": "stdout",
     "output_type": "stream",
     "text": [
      "Training data shape:  (307511, 122)\n",
      "float64    65\n",
      "int64      41\n",
      "object     16\n",
      "Name: count, dtype: int64\n",
      "доля пустых значений: 0.24395941907129431\n"
     ]
    }
   ],
   "source": [
    "# 1.1 Training data\n",
    "app_train = pd.read_csv('../../Kaggle/home-credit-default-risk/input/application_train.csv')\n",
    "print('Training data shape: ', app_train.shape)\n",
    "# app_train.sample(3)\n",
    "print(app_train.dtypes.value_counts())\n",
    "print(f\"доля пустых значений: {app_train.isnull().sum().sum() / app_train.size}\")"
   ]
  },
  {
   "cell_type": "code",
   "execution_count": 4,
   "metadata": {},
   "outputs": [
    {
     "name": "stdout",
     "output_type": "stream",
     "text": [
      "Test data shape:  (48744, 121)\n"
     ]
    }
   ],
   "source": [
    "# 1.2 Test data\n",
    "app_test = pd.read_csv('../../Kaggle/home-credit-default-risk/input/application_test.csv')\n",
    "print('Test data shape: ', app_test.shape)\n",
    "# app_test.sample(3)"
   ]
  },
  {
   "cell_type": "code",
   "execution_count": 5,
   "metadata": {},
   "outputs": [
    {
     "name": "stdout",
     "output_type": "stream",
     "text": [
      "количество кредитов без просрочек в  11 раз превышает количество кредитов с просрочками, т.е. тренировочная выборка не сбалансирована\n"
     ]
    }
   ],
   "source": [
    "targets = app_train['TARGET'].value_counts()\n",
    "print(f'количество кредитов без просрочек в {targets[0]/targets[1]: .0f} раз превышает количество кредитов с просрочками, т.е. тренировочная выборка не сбалансирована')"
   ]
  },
  {
   "cell_type": "code",
   "execution_count": 6,
   "metadata": {},
   "outputs": [
    {
     "name": "stdout",
     "output_type": "stream",
     "text": [
      "Test data shape:  (1716428, 17)\n"
     ]
    }
   ],
   "source": [
    "# 2 bureau_df data\n",
    "bureau_df = pd.read_csv('../../Kaggle/home-credit-default-risk/input/bureau.csv')\n",
    "print('Test data shape: ', bureau_df.shape)\n",
    "# bureau_df.sample(3)"
   ]
  },
  {
   "cell_type": "code",
   "execution_count": 7,
   "metadata": {},
   "outputs": [
    {
     "name": "stdout",
     "output_type": "stream",
     "text": [
      "Test data shape:  (27299925, 3)\n"
     ]
    }
   ],
   "source": [
    "# 3 bureau_balance data\n",
    "bureau_balance_df = pd.read_csv('../../Kaggle/home-credit-default-risk/input/bureau_balance.csv')\n",
    "print('Test data shape: ', bureau_balance_df.shape)\n",
    "# bureau_balance_df.sample(1)"
   ]
  },
  {
   "cell_type": "code",
   "execution_count": 8,
   "metadata": {},
   "outputs": [
    {
     "name": "stdout",
     "output_type": "stream",
     "text": [
      "Test data shape:  (10001358, 8)\n"
     ]
    }
   ],
   "source": [
    "# 4 POS_CASH_balance data\n",
    "POS_CASH_balance_df = pd.read_csv('../../Kaggle/home-credit-default-risk/input/POS_CASH_balance.csv')\n",
    "print('Test data shape: ', POS_CASH_balance_df.shape)\n",
    "# POS_CASH_balance_df.sample(1)"
   ]
  },
  {
   "cell_type": "code",
   "execution_count": 9,
   "metadata": {},
   "outputs": [
    {
     "name": "stdout",
     "output_type": "stream",
     "text": [
      "credit_card_balance data shape:  (3840312, 23)\n"
     ]
    }
   ],
   "source": [
    "# 5 credit_card_balance data\n",
    "credit_card_balance_df = pd.read_csv('../../Kaggle/home-credit-default-risk/input/credit_card_balance.csv')\n",
    "print('credit_card_balance data shape: ', credit_card_balance_df.shape)\n",
    "# credit_card_balance_df.sample(1)"
   ]
  },
  {
   "cell_type": "code",
   "execution_count": 10,
   "metadata": {},
   "outputs": [
    {
     "name": "stdout",
     "output_type": "stream",
     "text": [
      "previous_application data shape:  (1670214, 37)\n"
     ]
    }
   ],
   "source": [
    "# 6 previous_application data\n",
    "previous_application_df = pd.read_csv('../../Kaggle/home-credit-default-risk/input/previous_application.csv')\n",
    "print('previous_application data shape: ', previous_application_df.shape)\n",
    "# previous_application_df.sample(1)"
   ]
  },
  {
   "cell_type": "code",
   "execution_count": 11,
   "metadata": {},
   "outputs": [
    {
     "name": "stdout",
     "output_type": "stream",
     "text": [
      "installments_payments shape:  (13605401, 8)\n"
     ]
    }
   ],
   "source": [
    "# 7 installments_payments data\n",
    "installments_payments_df = pd.read_csv('../../Kaggle/home-credit-default-risk/input/installments_payments.csv')\n",
    "print('installments_payments shape: ', installments_payments_df.shape)\n",
    "# installments_payments_df.sample(1)"
   ]
  },
  {
   "cell_type": "code",
   "execution_count": 12,
   "metadata": {},
   "outputs": [
    {
     "name": "stdout",
     "output_type": "stream",
     "text": [
      "installments_payments shape:  (219, 4)\n"
     ]
    }
   ],
   "source": [
    "# 8 метаданные\n",
    "columns_description_df = pd.read_csv('../../Kaggle/home-credit-default-risk/input/HomeCredit_columns_description.csv',index_col=0, encoding='latin1')\n",
    "print('installments_payments shape: ', columns_description_df.shape)\n",
    "# columns_description_df.sample(1)"
   ]
  },
  {
   "cell_type": "markdown",
   "metadata": {},
   "source": [
    "### Функции"
   ]
  },
  {
   "cell_type": "code",
   "execution_count": 13,
   "metadata": {},
   "outputs": [],
   "source": [
    "# функция саммаризирует датасет (количество пропущенных и уникательных значений, тип данных)\n",
    "def summarize_df(df):\n",
    "    df_info = pd.DataFrame({\n",
    "    \"DataType\": df.dtypes,\n",
    "    \"MissingValues\": df.isnull().sum(),\n",
    "    \"UniqueValues\": df.nunique()\n",
    "    }).sort_values(by=\"MissingValues\", ascending=False)\n",
    "    df_info['MissingValuesRatio'] = round(df_info['MissingValues'] / len(df),2)\n",
    "         \n",
    "    return df_info"
   ]
  },
  {
   "cell_type": "code",
   "execution_count": 14,
   "metadata": {},
   "outputs": [],
   "source": [
    "# типизация колонок датафрейма\n",
    "def columns_types_assumption(df):\n",
    "    binary_cols = [cname for cname in df.columns if\n",
    "                    df[cname].nunique() <= 2 and \n",
    "                    df[cname].dtype in ['int64', 'object','bool','float64']]\n",
    "\n",
    "    categorical_cols = [cname for cname in df.columns if\n",
    "                    df[cname].nunique() < 12 and df[cname].nunique() > 2 and\n",
    "                    df[cname].dtype in ['object']]\n",
    "\n",
    "    numerical_cols = [cname for cname in df.columns if \n",
    "                df[cname].dtype in ['int64', 'float64'] and df[cname].nunique() > 2]\n",
    "\n",
    "    return binary_cols, categorical_cols, numerical_cols"
   ]
  },
  {
   "cell_type": "code",
   "execution_count": 15,
   "metadata": {},
   "outputs": [],
   "source": [
    "# функция исключает аномалии методом 3-сигм\n",
    "def cap_outliers_3sigma(df, columns):\n",
    "    \"\"\"\n",
    "    Caps values in specified columns at the 3-sigma threshold and calculates the percentage of outliers.\n",
    "    \n",
    "    Parameters:\n",
    "        df (pd.DataFrame): The input DataFrame.\n",
    "        columns (list): List of column names to cap.\n",
    "    \n",
    "    Returns:\n",
    "        pd.DataFrame: DataFrame with capped values.\n",
    "        pd.Series: Percentage of outliers for each column.\n",
    "    \"\"\"\n",
    "    df_capped = df.copy()\n",
    "    outlier_percentages = {}\n",
    "\n",
    "    for col in columns:\n",
    "        mean = df[col].mean()\n",
    "        std = df[col].std()\n",
    "        lower_bound = mean - 3 * std\n",
    "        upper_bound = mean + 3 * std\n",
    "\n",
    "        # Calculate outlier percentage\n",
    "        num_outliers = ((df[col] < lower_bound) | (df[col] > upper_bound)).sum()\n",
    "        outlier_percentages[col] = (num_outliers / len(df)) * 100\n",
    "\n",
    "        # Apply capping\n",
    "        df_capped[col] = df[col].clip(lower=lower_bound, upper=upper_bound)\n",
    "\n",
    "    return df_capped, pd.Series(outlier_percentages, name=\"Outlier Percentage\")"
   ]
  },
  {
   "cell_type": "code",
   "execution_count": 16,
   "metadata": {},
   "outputs": [],
   "source": [
    "# функция исключает аномалии методом 3-сигм\n",
    "def cap_outliers_3sigma(df, columns):\n",
    "    \"\"\"\n",
    "    Caps values in specified columns at the 3-sigma threshold and calculates the percentage of outliers.\n",
    "    \n",
    "    Parameters:\n",
    "        df (pd.DataFrame): The input DataFrame.\n",
    "        columns (list): List of column names to cap.\n",
    "    \n",
    "    Returns:\n",
    "        pd.DataFrame: DataFrame with capped values.\n",
    "        pd.Series: Percentage of outliers for each column.\n",
    "    \"\"\"\n",
    "    df_capped = df.copy()\n",
    "    outlier_percentages = {}\n",
    "\n",
    "    for col in columns:\n",
    "        mean = df[col].mean()\n",
    "        std = df[col].std()\n",
    "        lower_bound = mean - 3 * std\n",
    "        upper_bound = mean + 3 * std\n",
    "\n",
    "        # Calculate outlier percentage\n",
    "        num_outliers = ((df[col] < lower_bound) | (df[col] > upper_bound)).sum()\n",
    "        outlier_percentages[col] = (num_outliers / len(df)) * 100\n",
    "\n",
    "        # Apply capping\n",
    "        df_capped[col] = df[col].clip(lower=lower_bound, upper=upper_bound)\n",
    "\n",
    "    return df_capped, pd.Series(outlier_percentages, name=\"Outlier Percentage\")"
   ]
  },
  {
   "cell_type": "markdown",
   "metadata": {},
   "source": [
    "## Предобработка"
   ]
  },
  {
   "cell_type": "markdown",
   "metadata": {},
   "source": [
    "### Основной датасет applications"
   ]
  },
  {
   "cell_type": "code",
   "execution_count": 17,
   "metadata": {},
   "outputs": [],
   "source": [
    "if 'app_train' in locals():\n",
    "    del(app_train)\n",
    "\n",
    "if 'app_test' in locals():\n",
    "    del(app_test)\n",
    "\n",
    "app_train = pd.read_csv('../../Kaggle/home-credit-default-risk/input/application_train.csv')"
   ]
  },
  {
   "cell_type": "code",
   "execution_count": 18,
   "metadata": {},
   "outputs": [],
   "source": [
    "# credit ratios\n",
    "app_train_orig = app_train.copy()\n",
    "app_train_orig['APPS_ANNUITY_CREDIT_RATIO'] = app_train_orig['AMT_ANNUITY']/app_train_orig['AMT_CREDIT']\n",
    "app_train_orig['APPS_EXT_SOURCE_MEAN'] = app_train_orig[['EXT_SOURCE_1', 'EXT_SOURCE_2', 'EXT_SOURCE_3']].mean(axis = 1)\n",
    "app_train_orig['APPS_EXT_SOURCE_STD'] = app_train_orig[['EXT_SOURCE_1', 'EXT_SOURCE_2', 'EXT_SOURCE_3']].std(axis=1)\n",
    "app_train_orig['APPS_EXT_SOURCE_STD'] = app_train_orig['APPS_EXT_SOURCE_STD'].fillna(app_train_orig['APPS_EXT_SOURCE_STD'].mean())\n",
    "app_train_orig['APPS_GOODS_CREDIT_RATIO'] = app_train_orig['AMT_GOODS_PRICE']/app_train_orig['AMT_CREDIT']\n",
    "app_train_orig['APPS_ANNUITY_INCOME_RATIO'] = app_train_orig['AMT_ANNUITY']/app_train_orig['AMT_INCOME_TOTAL']\n",
    "app_train_orig['APPS_INCOME_EMPLOYED_RATIO'] = app_train_orig['AMT_INCOME_TOTAL']/app_train_orig['DAYS_EMPLOYED']\n",
    "app_train_orig['APPS_EMPLOYED_BIRTH_RATIO'] = app_train_orig['DAYS_EMPLOYED']/app_train_orig['DAYS_BIRTH']\n",
    "\n",
    "app_train_orig['APPS_CAR_EMPLOYED_RATIO'] = app_train_orig['OWN_CAR_AGE'] / app_train_orig['DAYS_EMPLOYED']\n",
    "app_train_orig['APPS_INCOME_BIRTH_RATIO'] = app_train_orig['AMT_INCOME_TOTAL']/app_train_orig['DAYS_BIRTH']\n",
    "\n",
    "app_columns = app_train_orig.columns"
   ]
  },
  {
   "cell_type": "markdown",
   "metadata": {},
   "source": [
    "### Бюро кредитных историй bureau_df"
   ]
  },
  {
   "cell_type": "code",
   "execution_count": 19,
   "metadata": {},
   "outputs": [],
   "source": [
    "# difference and date ratio between the planned debt start and completion date and the actual debt completion date\n",
    "bureau_df['BUREAU_ENDDATE_FACT_DIFF'] = bureau_df['DAYS_CREDIT_ENDDATE'] - bureau_df['DAYS_ENDDATE_FACT']\n",
    "bureau_df['BUREAU_CREDIT_FACT_DIFF'] = bureau_df['DAYS_CREDIT'] - bureau_df['DAYS_ENDDATE_FACT']\n",
    "bureau_df['BUREAU_CREDIT_ENDDATE_DIFF'] = bureau_df['DAYS_CREDIT'] - bureau_df['DAYS_CREDIT_ENDDATE']\n",
    "\n",
    "bureau_df['BUREAU_CREDIT_DEBT_RATIO']=bureau_df['AMT_CREDIT_SUM_DEBT']/bureau_df['AMT_CREDIT_SUM']\n",
    "bureau_df['BUREAU_CREDIT_DEBT_DIFF'] = bureau_df['AMT_CREDIT_SUM_DEBT'] - bureau_df['AMT_CREDIT_SUM']\n",
    "\n",
    "bureau_df['BUREAU_IS_DPD'] = bureau_df['CREDIT_DAY_OVERDUE'].apply(lambda x: 1 if x > 0 else 0)\n",
    "bureau_df['BUREAU_IS_DPD_OVER120'] = bureau_df['CREDIT_DAY_OVERDUE'].apply(lambda x: 1 if x >120 else 0)"
   ]
  },
  {
   "cell_type": "code",
   "execution_count": 20,
   "metadata": {},
   "outputs": [],
   "source": [
    "# аггрегированные показатели\n",
    "bureau_agg_dict = {\n",
    "'SK_ID_BUREAU':['count'],\n",
    "'DAYS_CREDIT':['min', 'max', 'mean'],\n",
    "'CREDIT_DAY_OVERDUE':['min', 'max', 'mean'],\n",
    "'DAYS_CREDIT_ENDDATE':['min', 'max', 'mean'],\n",
    "'DAYS_ENDDATE_FACT':['min', 'max', 'mean'],\n",
    "'AMT_CREDIT_MAX_OVERDUE': ['max', 'mean'],\n",
    "'AMT_CREDIT_SUM': ['max', 'mean', 'sum'],\n",
    "'AMT_CREDIT_SUM_DEBT': ['max', 'mean', 'sum'],\n",
    "'AMT_CREDIT_SUM_OVERDUE': ['max', 'mean', 'sum'],\n",
    "'AMT_ANNUITY': ['max', 'mean', 'sum'],\n",
    "\n",
    "'BUREAU_ENDDATE_FACT_DIFF':['min', 'max', 'mean'],\n",
    "'BUREAU_CREDIT_FACT_DIFF':['min', 'max', 'mean'],\n",
    "'BUREAU_CREDIT_ENDDATE_DIFF':['min', 'max', 'mean'],\n",
    "'BUREAU_CREDIT_DEBT_RATIO':['min', 'max', 'mean'],\n",
    "'BUREAU_CREDIT_DEBT_DIFF':['min', 'max', 'mean'],\n",
    "'BUREAU_IS_DPD':['mean', 'sum'],\n",
    "'BUREAU_IS_DPD_OVER120':['mean', 'sum']\n",
    "}\n",
    "\n",
    "bureau_grp = bureau_df.groupby('SK_ID_CURR')\n",
    "bureau_amt_agg = bureau_grp.agg(bureau_agg_dict)\n",
    "bureau_amt_agg.columns = ['BUREAU_'+('_').join(column).upper() for column in bureau_amt_agg.columns.ravel()]\n",
    "bureau_amt_agg = bureau_amt_agg.reset_index()"
   ]
  },
  {
   "cell_type": "code",
   "execution_count": 21,
   "metadata": {},
   "outputs": [],
   "source": [
    "bureau_amt_agg_cols = bureau_amt_agg.columns"
   ]
  },
  {
   "cell_type": "code",
   "execution_count": 22,
   "metadata": {},
   "outputs": [],
   "source": [
    "# аггрегированные, касающиеся только активных кредитов  \n",
    "cond_active = bureau_df['CREDIT_ACTIVE'] == 'Active'\n",
    "bureau_active_grp = bureau_df[cond_active].groupby(['SK_ID_CURR'])\n",
    "bureau_agg_dict = {\n",
    "    'SK_ID_BUREAU':['count'],\n",
    "    'DAYS_CREDIT':['min', 'max', 'mean'],\n",
    "    'CREDIT_DAY_OVERDUE':['min', 'max', 'mean'],\n",
    "    'DAYS_CREDIT_ENDDATE':['min', 'max', 'mean'],\n",
    "    'DAYS_ENDDATE_FACT':['min', 'max', 'mean'],\n",
    "    'AMT_CREDIT_MAX_OVERDUE': ['max', 'mean'],\n",
    "    'AMT_CREDIT_SUM': ['max', 'mean', 'sum'],\n",
    "    'AMT_CREDIT_SUM_DEBT': ['max', 'mean', 'sum'],\n",
    "    'AMT_CREDIT_SUM_OVERDUE': ['max', 'mean', 'sum'],\n",
    "    'AMT_ANNUITY': ['max', 'mean', 'sum'],    \n",
    "    'BUREAU_ENDDATE_FACT_DIFF':['min', 'max', 'mean'],\n",
    "    'BUREAU_CREDIT_FACT_DIFF':['min', 'max', 'mean'],\n",
    "    'BUREAU_CREDIT_ENDDATE_DIFF':['min', 'max', 'mean'],\n",
    "    'BUREAU_CREDIT_DEBT_RATIO':['min', 'max', 'mean'],\n",
    "    'BUREAU_CREDIT_DEBT_DIFF':['min', 'max', 'mean'],\n",
    "    'BUREAU_IS_DPD':['mean', 'sum'],\n",
    "    'BUREAU_IS_DPD_OVER120':['mean', 'sum']\n",
    "    }\n",
    "bureau_active_agg = bureau_active_grp.agg(bureau_agg_dict)\n",
    "bureau_active_agg.columns = ['BUREAU_ACT_'+('_').join(column).upper() for column in bureau_active_agg.columns.ravel()]\n",
    "bureau_active_agg = bureau_active_agg.reset_index()"
   ]
  },
  {
   "cell_type": "code",
   "execution_count": 23,
   "metadata": {},
   "outputs": [
    {
     "data": {
      "text/plain": [
       "float64    39\n",
       "int64       8\n",
       "Name: count, dtype: int64"
      ]
     },
     "execution_count": 23,
     "metadata": {},
     "output_type": "execute_result"
    }
   ],
   "source": [
    "bureau_active_agg_cols = bureau_active_agg.columns\n",
    "bureau_active_agg.dtypes.value_counts()"
   ]
  },
  {
   "cell_type": "markdown",
   "metadata": {},
   "source": [
    "### Предыдущие заявки previous_application_df"
   ]
  },
  {
   "cell_type": "code",
   "execution_count": 24,
   "metadata": {},
   "outputs": [],
   "source": [
    "# кредитные показатели для предыдущих заявок\n",
    "previous_application_df['PREV_CREDIT_DIFF'] = previous_application_df['AMT_APPLICATION'] - previous_application_df['AMT_CREDIT']\n",
    "previous_application_df['PREV_GOODS_DIFF'] = previous_application_df['AMT_APPLICATION'] - previous_application_df['AMT_GOODS_PRICE']\n",
    "previous_application_df['PREV_CREDIT_APPL_RATIO'] = previous_application_df['AMT_CREDIT']/previous_application_df['AMT_APPLICATION']\n",
    "previous_application_df['PREV_GOODS_APPL_RATIO'] = previous_application_df['AMT_GOODS_PRICE']/previous_application_df['AMT_APPLICATION']\n",
    "\n",
    "# процентная ставка\n",
    "previous_application_df['all_pay'] = previous_application_df['AMT_ANNUITY'] * previous_application_df['CNT_PAYMENT']\n",
    "previous_application_df['PREV_INTERESTS_RATE'] = (previous_application_df['all_pay']/previous_application_df['AMT_CREDIT'] - 1)/previous_application_df['CNT_PAYMENT']"
   ]
  },
  {
   "cell_type": "code",
   "execution_count": 25,
   "metadata": {},
   "outputs": [],
   "source": [
    "# аггрегированные показатели\n",
    "agg_dict = {    \n",
    "    'SK_ID_CURR':['count'],\n",
    "    'AMT_CREDIT':['mean', 'max', 'sum'],\n",
    "    'AMT_ANNUITY':['mean', 'max', 'sum'], \n",
    "    'AMT_APPLICATION':['mean', 'max', 'sum'],\n",
    "    'AMT_DOWN_PAYMENT':['mean', 'max', 'sum'],\n",
    "    'AMT_GOODS_PRICE':['mean', 'max', 'sum'],\n",
    "    'RATE_DOWN_PAYMENT': ['min', 'max', 'mean'],\n",
    "    'DAYS_DECISION': ['min', 'max', 'mean'],\n",
    "    'CNT_PAYMENT': ['mean', 'sum'],\n",
    "    'PREV_CREDIT_DIFF':['mean', 'max', 'sum'], \n",
    "    'PREV_CREDIT_APPL_RATIO':['mean', 'max'],\n",
    "    'PREV_GOODS_DIFF':['mean', 'max', 'sum'],\n",
    "    'PREV_GOODS_APPL_RATIO':['mean', 'max'],    \n",
    "    'PREV_INTERESTS_RATE':['mean', 'max']\n",
    "}\n",
    "\n",
    "previous_application_group_df = previous_application_df.groupby('SK_ID_CURR')\n",
    "previous_amt_agg = previous_application_group_df.agg(agg_dict)\n",
    "previous_amt_agg.columns = [\"PREV_\"+ \"_\".join(x).upper() for x in previous_amt_agg.columns.ravel()]"
   ]
  },
  {
   "cell_type": "code",
   "execution_count": 26,
   "metadata": {},
   "outputs": [],
   "source": [
    "# аггрегированные показатели отказов\n",
    "prev_refused_appr_group = previous_application_df[previous_application_df['NAME_CONTRACT_STATUS'].isin(['Approved', 'Refused'])].groupby([ 'SK_ID_CURR', 'NAME_CONTRACT_STATUS'])\n",
    "# unstack() \n",
    "prev_refused_appr_agg = prev_refused_appr_group['SK_ID_CURR'].count().unstack()\n",
    "\n",
    "# rename column \n",
    "prev_refused_appr_agg.columns = ['PREV_APPROVED_COUNT', 'PREV_REFUSED_COUNT' ]\n",
    "prev_refused_appr_agg = prev_refused_appr_agg.fillna(0)\n",
    "\n",
    "# prev_refused_appr_agg"
   ]
  },
  {
   "cell_type": "code",
   "execution_count": 27,
   "metadata": {},
   "outputs": [],
   "source": [
    "# соединяем агрегированные таблицы\n",
    "prev_agg = previous_amt_agg.merge(prev_refused_appr_agg, on='SK_ID_CURR', how='left')\n",
    "prev_agg['PREV_REFUSED_RATIO'] = prev_agg['PREV_REFUSED_COUNT']/prev_agg['PREV_SK_ID_CURR_COUNT']\n",
    "prev_agg = prev_agg.drop(['PREV_REFUSED_COUNT', 'PREV_APPROVED_COUNT'], axis=1)"
   ]
  },
  {
   "cell_type": "code",
   "execution_count": 28,
   "metadata": {},
   "outputs": [],
   "source": [
    "prev_agg_cols = prev_agg.columns\n",
    "# prev_agg_cols"
   ]
  },
  {
   "cell_type": "markdown",
   "metadata": {},
   "source": [
    "### Соединяем в один датасет"
   ]
  },
  {
   "cell_type": "code",
   "execution_count": 29,
   "metadata": {},
   "outputs": [
    {
     "name": "stdout",
     "output_type": "stream",
     "text": [
      "original dataset shape: (307511, 122)\n",
      "extended dataset shape: (307511, 131)\n",
      "apps_all after merge with prev_agg shape: (307511, 168)\n",
      "apps_all after merge with bureau_amt_agg shape: (307511, 214)\n",
      "apps_all after merge with bureau_active_agg shape: (307511, 260)\n"
     ]
    }
   ],
   "source": [
    "print('original dataset shape:', app_train.shape)\n",
    "print('extended dataset shape:', app_train_orig.shape)\n",
    "\n",
    "apps_all = app_train_orig.merge(prev_agg, on='SK_ID_CURR', how='left')\n",
    "print('apps_all after merge with prev_agg shape:', apps_all.shape)\n",
    "apps_all = apps_all.merge(bureau_amt_agg, on='SK_ID_CURR', how='left')\n",
    "print('apps_all after merge with bureau_amt_agg shape:', apps_all.shape)\n",
    "apps_all = apps_all.merge(bureau_active_agg, on='SK_ID_CURR', how='left')\n",
    "print('apps_all after merge with bureau_active_agg shape:', apps_all.shape)"
   ]
  },
  {
   "cell_type": "code",
   "execution_count": 30,
   "metadata": {},
   "outputs": [
    {
     "data": {
      "text/plain": [
       "0.24702863662413077"
      ]
     },
     "execution_count": 30,
     "metadata": {},
     "output_type": "execute_result"
    }
   ],
   "source": [
    "apps_all.isna().sum().sum() / apps_all.size"
   ]
  },
  {
   "cell_type": "markdown",
   "metadata": {},
   "source": [
    "### EDA расширенного датасета "
   ]
  },
  {
   "cell_type": "markdown",
   "metadata": {},
   "source": [
    "#### Предварительные преобразования"
   ]
  },
  {
   "cell_type": "markdown",
   "metadata": {},
   "source": [
    "несколько базовых преобразований исходя из предыдущего анализа:\n",
    "1. Меппинг CODE_GENDER\n",
    "2. Бесконечные значения\n",
    "3. Группировка OCCUPATION_TYPE, ORGANIZATION_TYPE"
   ]
  },
  {
   "cell_type": "code",
   "execution_count": 31,
   "metadata": {},
   "outputs": [],
   "source": [
    "apps_all['CODE_GENDER'] = apps_all['CODE_GENDER'].map({'F': 1, 'M': 0, 'XNA': 1, 1: 1, 0: 0})"
   ]
  },
  {
   "cell_type": "code",
   "execution_count": 32,
   "metadata": {},
   "outputs": [
    {
     "name": "stdout",
     "output_type": "stream",
     "text": [
      "201628\n"
     ]
    }
   ],
   "source": [
    "# Check for infinity\n",
    "binary_cols_proposal, categorical_cols_proposal, numerical_cols_proposal = columns_types_assumption(apps_all)\n",
    "print(np.isinf(apps_all[numerical_cols_proposal]).sum().sum()) # Count infinite values in each column\n",
    "apps_all.replace([np.inf, -np.inf], np.nan, inplace=True)"
   ]
  },
  {
   "cell_type": "code",
   "execution_count": 33,
   "metadata": {},
   "outputs": [],
   "source": [
    "occupation_mapping = {\n",
    "    \"Laborers\": \"Low-Skilled Labor & Services\",\n",
    "    \"Low-skill Laborers\": \"Low-Skilled Labor & Services\",\n",
    "    \"Cleaning staff\": \"Low-Skilled Labor & Services\",\n",
    "    \"Cooking staff\": \"Low-Skilled Labor & Services\",\n",
    "    \"Waiters/barmen staff\": \"Low-Skilled Labor & Services\",\n",
    "    \"Private service staff\": \"Low-Skilled Labor & Services\",\n",
    "    \"Drivers\": \"Low-Skilled Labor & Services\",\n",
    "    \"Security staff\": \"Low-Skilled Labor & Services\",\n",
    "\n",
    "    \"Core staff\": \"Skilled Technical & Professional Roles\",\n",
    "    \"Accountants\": \"Skilled Technical & Professional Roles\",\n",
    "    \"Sales staff\": \"Skilled Technical & Professional Roles\",\n",
    "    \"Medicine staff\": \"Skilled Technical & Professional Roles\",\n",
    "    \"High skill tech staff\": \"Skilled Technical & Professional Roles\",\n",
    "    \"IT staff\": \"Skilled Technical & Professional Roles\",\n",
    "    \"Realty agents\": \"Skilled Technical & Professional Roles\",\n",
    "    \"Secretaries\": \"Skilled Technical & Professional Roles\",\n",
    "    \"HR staff\": \"Skilled Technical & Professional Roles\",\n",
    "\n",
    "    \"Managers\": \"Management & Leadership\"\n",
    "}\n",
    "\n",
    "if \"OCCUPATION_TYPE\" in apps_all.columns:\n",
    "    apps_all['OCCUPATION_TYPE_GRP'] = apps_all['OCCUPATION_TYPE'].map(occupation_mapping)\n",
    "    apps_all.drop(columns='OCCUPATION_TYPE',inplace=True)\n"
   ]
  },
  {
   "cell_type": "code",
   "execution_count": 34,
   "metadata": {},
   "outputs": [],
   "source": [
    "category_mapping = {\n",
    "    \"Government\": \"Public Services\",\n",
    "    \"Security Ministries\": \"Public Services\",\n",
    "    \"Police\": \"Public Services\",\n",
    "    \"Military\": \"Public Services\",\n",
    "    \"Emergency\": \"Public Services\",\n",
    "    \"Postal\": \"Public Services\",\n",
    "    \n",
    "    \"School\": \"Education\",\n",
    "    \"Kindergarten\": \"Education\",\n",
    "    \"University\": \"Education\",\n",
    "\n",
    "    \"Medicine\": \"Healthcare\",\n",
    "    \n",
    "    \"Trade: type 1\": \"Trade & Retail\",\n",
    "    \"Trade: type 2\": \"Trade & Retail\",\n",
    "    \"Trade: type 3\": \"Trade & Retail\",\n",
    "    \"Trade: type 4\": \"Trade & Retail\",\n",
    "    \"Trade: type 5\": \"Trade & Retail\",\n",
    "    \"Trade: type 6\": \"Trade & Retail\",\n",
    "    \"Trade: type 7\": \"Trade & Retail\",\n",
    "\n",
    "    \"Transport: type 1\": \"Transportation\",\n",
    "    \"Transport: type 2\": \"Transportation\",\n",
    "    \"Transport: type 3\": \"Transportation\",\n",
    "    \"Transport: type 4\": \"Transportation\",\n",
    "\n",
    "    \"Industry: type 1\": \"Industry & Manufacturing\",\n",
    "    \"Industry: type 2\": \"Industry & Manufacturing\",\n",
    "    \"Industry: type 3\": \"Industry & Manufacturing\",\n",
    "    \"Industry: type 4\": \"Industry & Manufacturing\",\n",
    "    \"Industry: type 5\": \"Industry & Manufacturing\",\n",
    "    \"Industry: type 6\": \"Industry & Manufacturing\",\n",
    "    \"Industry: type 7\": \"Industry & Manufacturing\",\n",
    "    \"Industry: type 8\": \"Industry & Manufacturing\",\n",
    "    \"Industry: type 9\": \"Industry & Manufacturing\",\n",
    "    \"Industry: type 10\": \"Industry & Manufacturing\",\n",
    "    \"Industry: type 11\": \"Industry & Manufacturing\",\n",
    "    \"Industry: type 12\": \"Industry & Manufacturing\",\n",
    "    \"Industry: type 13\": \"Industry & Manufacturing\",\n",
    "    \"Construction\": \"Industry & Manufacturing\",\n",
    "\n",
    "    \"Bank\": \"Finance & Business\",\n",
    "    \"Insurance\": \"Finance & Business\",\n",
    "    \"Legal Services\": \"Finance & Business\",\n",
    "    \"Business Entity Type 1\": \"Finance & Business\",\n",
    "    \"Business Entity Type 2\": \"Finance & Business\",\n",
    "    \"Business Entity Type 3\": \"Finance & Business\",\n",
    "    \"Realtor\": \"Finance & Business\",\n",
    "\n",
    "    \"Self-employed\": \"Self-Employment & Services\",\n",
    "    \"Cleaning\": \"Self-Employment & Services\",\n",
    "    \"Security\": \"Self-Employment & Services\",\n",
    "    \"Advertising\": \"Self-Employment & Services\",\n",
    "    \"Telecom\": \"Self-Employment & Services\",\n",
    "    \"Mobile\": \"Self-Employment & Services\",\n",
    "\n",
    "    \"Hotel\": \"Hospitality & Leisure\",\n",
    "    \"Restaurant\": \"Hospitality & Leisure\",\n",
    "    \"Culture\": \"Hospitality & Leisure\",\n",
    "\n",
    "    \"Electricity\": \"Energy & Utilities\",\n",
    "    \n",
    "    \"Other\": \"Other / Unknown\",\n",
    "    \"XNA\": \"Other / Unknown\"\n",
    "}\n",
    "\n",
    "if \"ORGANIZATION_TYPE\" in apps_all.columns:\n",
    "    apps_all['ORGANIZATION_TYPE_GRP'] = apps_all['ORGANIZATION_TYPE'].map(category_mapping)\n",
    "    apps_all.drop(columns='ORGANIZATION_TYPE',inplace=True)"
   ]
  },
  {
   "cell_type": "markdown",
   "metadata": {},
   "source": [
    "### типы данных"
   ]
  },
  {
   "cell_type": "code",
   "execution_count": 35,
   "metadata": {},
   "outputs": [
    {
     "data": {
      "text/plain": [
       "float64    203\n",
       "int64       42\n",
       "object      15\n",
       "Name: count, dtype: int64"
      ]
     },
     "execution_count": 35,
     "metadata": {},
     "output_type": "execute_result"
    }
   ],
   "source": [
    "apps_all.dtypes.value_counts()"
   ]
  },
  {
   "cell_type": "code",
   "execution_count": 36,
   "metadata": {},
   "outputs": [
    {
     "name": "stdout",
     "output_type": "stream",
     "text": [
      "260\n",
      "260\n",
      "[]\n",
      "[]\n"
     ]
    }
   ],
   "source": [
    "binary_cols_proposal, categorical_cols_proposal, numerical_cols_proposal = columns_types_assumption(apps_all)\n",
    "print(len(apps_all.columns))\n",
    "print(len(binary_cols_proposal)+len(categorical_cols_proposal)+len(numerical_cols_proposal))\n",
    "print(list(set(binary_cols_proposal)&set(categorical_cols_proposal)&set(numerical_cols_proposal)))\n",
    "print(list(set(apps_all)-set(binary_cols_proposal)-set(categorical_cols_proposal)-set(numerical_cols_proposal)))"
   ]
  },
  {
   "cell_type": "markdown",
   "metadata": {},
   "source": [
    "проверилил, что все колонки разметились в один из типов"
   ]
  },
  {
   "cell_type": "code",
   "execution_count": 37,
   "metadata": {},
   "outputs": [
    {
     "name": "stdout",
     "output_type": "stream",
     "text": [
      "app features: 131\n",
      "bureau_amt_agg features: 47\n",
      "bureau_active_agg features: 47\n",
      "prev_agg features: 37\n",
      "Total features: 259\n"
     ]
    }
   ],
   "source": [
    "print(f\"app features: {len(app_columns)}\")\n",
    "print(f\"bureau_amt_agg features: {len(bureau_amt_agg_cols)}\")\n",
    "print(f\"bureau_active_agg features: {len(bureau_active_agg_cols)}\")\n",
    "print(f\"prev_agg features: {len(prev_agg_cols)}\")\n",
    "\n",
    "print(f\"Total features: {len(app_columns)+len(bureau_amt_agg_cols) + len(bureau_active_agg_cols) + len(prev_agg_cols) - 3}\")"
   ]
  },
  {
   "cell_type": "markdown",
   "metadata": {},
   "source": [
    "### Обработка аномалий"
   ]
  },
  {
   "cell_type": "markdown",
   "metadata": {},
   "source": [
    "метод межквартильного разброса"
   ]
  },
  {
   "cell_type": "code",
   "execution_count": 38,
   "metadata": {},
   "outputs": [],
   "source": [
    "outlier_cols_IQR = []\n",
    "\n",
    "for col in numerical_cols_proposal:  # Consider only numerical columns\n",
    "    Q1 = apps_all[col].quantile(0.25)\n",
    "    Q3 = apps_all[col].quantile(0.75)\n",
    "    IQR = Q3 - Q1\n",
    "    lower_bound = Q1 - 1.5 * IQR\n",
    "    upper_bound = Q3 + 1.5 * IQR\n",
    "    outliers = apps_all[(apps_all[col] < lower_bound) | (apps_all[col] > upper_bound)]\n",
    "    \n",
    "if not outliers.empty:\n",
    "    outlier_cols_IQR.append(col)   \n"
   ]
  },
  {
   "cell_type": "code",
   "execution_count": 39,
   "metadata": {},
   "outputs": [
    {
     "name": "stdout",
     "output_type": "stream",
     "text": [
      "Columns with outliers (IRQ method):\n",
      "['BUREAU_ACT_BUREAU_IS_DPD_OVER120_SUM']\n"
     ]
    }
   ],
   "source": [
    "print(f\"Columns with outliers (IRQ method):\\n{outlier_cols_IQR}\")\n"
   ]
  },
  {
   "cell_type": "code",
   "execution_count": 40,
   "metadata": {},
   "outputs": [],
   "source": [
    "from scipy.stats import zscore\n",
    "\n",
    "threshold=3\n",
    "outlier_cols_Z_sc = []\n",
    "\n",
    "for col in numerical_cols_proposal:  # Consider only numerical columns\n",
    "    z_scores = zscore(apps_all[col].dropna())  # Drop NaNs to avoid errors\n",
    "    if (abs(z_scores) > threshold).sum() > 0:\n",
    "        outlier_cols_Z_sc.append(col)    "
   ]
  },
  {
   "cell_type": "code",
   "execution_count": 41,
   "metadata": {},
   "outputs": [
    {
     "name": "stdout",
     "output_type": "stream",
     "text": [
      "Columns with outliers (Z-score method):\n",
      "['CNT_CHILDREN', 'AMT_INCOME_TOTAL', 'AMT_CREDIT', 'AMT_ANNUITY', 'AMT_GOODS_PRICE', 'REGION_POPULATION_RELATIVE', 'DAYS_REGISTRATION', 'OWN_CAR_AGE', 'CNT_FAM_MEMBERS', 'HOUR_APPR_PROCESS_START', 'APARTMENTS_AVG', 'BASEMENTAREA_AVG', 'YEARS_BEGINEXPLUATATION_AVG', 'YEARS_BUILD_AVG', 'COMMONAREA_AVG', 'ELEVATORS_AVG', 'ENTRANCES_AVG', 'FLOORSMAX_AVG', 'FLOORSMIN_AVG', 'LANDAREA_AVG', 'LIVINGAPARTMENTS_AVG', 'LIVINGAREA_AVG', 'NONLIVINGAPARTMENTS_AVG', 'NONLIVINGAREA_AVG', 'APARTMENTS_MODE', 'BASEMENTAREA_MODE', 'YEARS_BEGINEXPLUATATION_MODE', 'YEARS_BUILD_MODE', 'COMMONAREA_MODE', 'ELEVATORS_MODE', 'ENTRANCES_MODE', 'FLOORSMAX_MODE', 'FLOORSMIN_MODE', 'LANDAREA_MODE', 'LIVINGAPARTMENTS_MODE', 'LIVINGAREA_MODE', 'NONLIVINGAPARTMENTS_MODE', 'NONLIVINGAREA_MODE', 'APARTMENTS_MEDI', 'BASEMENTAREA_MEDI', 'YEARS_BEGINEXPLUATATION_MEDI', 'YEARS_BUILD_MEDI', 'COMMONAREA_MEDI', 'ELEVATORS_MEDI', 'ENTRANCES_MEDI', 'FLOORSMAX_MEDI', 'FLOORSMIN_MEDI', 'LANDAREA_MEDI', 'LIVINGAPARTMENTS_MEDI', 'LIVINGAREA_MEDI', 'NONLIVINGAPARTMENTS_MEDI', 'NONLIVINGAREA_MEDI', 'TOTALAREA_MODE', 'OBS_30_CNT_SOCIAL_CIRCLE', 'DEF_30_CNT_SOCIAL_CIRCLE', 'OBS_60_CNT_SOCIAL_CIRCLE', 'DEF_60_CNT_SOCIAL_CIRCLE', 'DAYS_LAST_PHONE_CHANGE', 'AMT_REQ_CREDIT_BUREAU_HOUR', 'AMT_REQ_CREDIT_BUREAU_DAY', 'AMT_REQ_CREDIT_BUREAU_WEEK', 'AMT_REQ_CREDIT_BUREAU_MON', 'AMT_REQ_CREDIT_BUREAU_QRT', 'AMT_REQ_CREDIT_BUREAU_YEAR', 'APPS_ANNUITY_CREDIT_RATIO', 'APPS_EXT_SOURCE_MEAN', 'APPS_EXT_SOURCE_STD', 'APPS_GOODS_CREDIT_RATIO', 'APPS_ANNUITY_INCOME_RATIO', 'APPS_INCOME_EMPLOYED_RATIO', 'APPS_EMPLOYED_BIRTH_RATIO', 'APPS_CAR_EMPLOYED_RATIO', 'APPS_INCOME_BIRTH_RATIO', 'PREV_SK_ID_CURR_COUNT', 'PREV_AMT_CREDIT_MEAN', 'PREV_AMT_CREDIT_MAX', 'PREV_AMT_CREDIT_SUM', 'PREV_AMT_ANNUITY_MEAN', 'PREV_AMT_ANNUITY_MAX', 'PREV_AMT_ANNUITY_SUM', 'PREV_AMT_APPLICATION_MEAN', 'PREV_AMT_APPLICATION_MAX', 'PREV_AMT_APPLICATION_SUM', 'PREV_AMT_DOWN_PAYMENT_MEAN', 'PREV_AMT_DOWN_PAYMENT_MAX', 'PREV_AMT_DOWN_PAYMENT_SUM', 'PREV_AMT_GOODS_PRICE_MEAN', 'PREV_AMT_GOODS_PRICE_MAX', 'PREV_AMT_GOODS_PRICE_SUM', 'PREV_RATE_DOWN_PAYMENT_MIN', 'PREV_RATE_DOWN_PAYMENT_MAX', 'PREV_RATE_DOWN_PAYMENT_MEAN', 'PREV_DAYS_DECISION_MAX', 'PREV_DAYS_DECISION_MEAN', 'PREV_CNT_PAYMENT_MEAN', 'PREV_CNT_PAYMENT_SUM', 'PREV_PREV_CREDIT_DIFF_MEAN', 'PREV_PREV_CREDIT_DIFF_MAX', 'PREV_PREV_CREDIT_DIFF_SUM', 'PREV_PREV_CREDIT_APPL_RATIO_MEAN', 'PREV_PREV_CREDIT_APPL_RATIO_MAX', 'PREV_PREV_GOODS_DIFF_MEAN', 'PREV_PREV_GOODS_DIFF_MAX', 'PREV_PREV_GOODS_DIFF_SUM', 'PREV_PREV_GOODS_APPL_RATIO_MEAN', 'PREV_PREV_GOODS_APPL_RATIO_MAX', 'PREV_PREV_INTERESTS_RATE_MEAN', 'PREV_PREV_INTERESTS_RATE_MAX', 'PREV_REFUSED_RATIO', 'BUREAU_SK_ID_BUREAU_COUNT', 'BUREAU_DAYS_CREDIT_MAX', 'BUREAU_DAYS_CREDIT_MEAN', 'BUREAU_CREDIT_DAY_OVERDUE_MIN', 'BUREAU_CREDIT_DAY_OVERDUE_MAX', 'BUREAU_CREDIT_DAY_OVERDUE_MEAN', 'BUREAU_DAYS_CREDIT_ENDDATE_MIN', 'BUREAU_DAYS_CREDIT_ENDDATE_MAX', 'BUREAU_DAYS_CREDIT_ENDDATE_MEAN', 'BUREAU_DAYS_ENDDATE_FACT_MIN', 'BUREAU_DAYS_ENDDATE_FACT_MAX', 'BUREAU_DAYS_ENDDATE_FACT_MEAN', 'BUREAU_AMT_CREDIT_MAX_OVERDUE_MAX', 'BUREAU_AMT_CREDIT_MAX_OVERDUE_MEAN', 'BUREAU_AMT_CREDIT_SUM_MAX', 'BUREAU_AMT_CREDIT_SUM_MEAN', 'BUREAU_AMT_CREDIT_SUM_SUM', 'BUREAU_AMT_CREDIT_SUM_DEBT_MAX', 'BUREAU_AMT_CREDIT_SUM_DEBT_MEAN', 'BUREAU_AMT_CREDIT_SUM_DEBT_SUM', 'BUREAU_AMT_CREDIT_SUM_OVERDUE_MAX', 'BUREAU_AMT_CREDIT_SUM_OVERDUE_MEAN', 'BUREAU_AMT_CREDIT_SUM_OVERDUE_SUM', 'BUREAU_AMT_ANNUITY_MAX', 'BUREAU_AMT_ANNUITY_MEAN', 'BUREAU_AMT_ANNUITY_SUM', 'BUREAU_BUREAU_ENDDATE_FACT_DIFF_MIN', 'BUREAU_BUREAU_ENDDATE_FACT_DIFF_MAX', 'BUREAU_BUREAU_ENDDATE_FACT_DIFF_MEAN', 'BUREAU_BUREAU_CREDIT_FACT_DIFF_MIN', 'BUREAU_BUREAU_CREDIT_FACT_DIFF_MAX', 'BUREAU_BUREAU_CREDIT_FACT_DIFF_MEAN', 'BUREAU_BUREAU_CREDIT_ENDDATE_DIFF_MIN', 'BUREAU_BUREAU_CREDIT_ENDDATE_DIFF_MAX', 'BUREAU_BUREAU_CREDIT_ENDDATE_DIFF_MEAN', 'BUREAU_BUREAU_CREDIT_DEBT_RATIO_MIN', 'BUREAU_BUREAU_CREDIT_DEBT_RATIO_MAX', 'BUREAU_BUREAU_CREDIT_DEBT_RATIO_MEAN', 'BUREAU_BUREAU_CREDIT_DEBT_DIFF_MIN', 'BUREAU_BUREAU_CREDIT_DEBT_DIFF_MAX', 'BUREAU_BUREAU_CREDIT_DEBT_DIFF_MEAN', 'BUREAU_BUREAU_IS_DPD_MEAN', 'BUREAU_BUREAU_IS_DPD_SUM', 'BUREAU_BUREAU_IS_DPD_OVER120_MEAN', 'BUREAU_BUREAU_IS_DPD_OVER120_SUM', 'BUREAU_ACT_SK_ID_BUREAU_COUNT', 'BUREAU_ACT_DAYS_CREDIT_MAX', 'BUREAU_ACT_DAYS_CREDIT_MEAN', 'BUREAU_ACT_CREDIT_DAY_OVERDUE_MIN', 'BUREAU_ACT_CREDIT_DAY_OVERDUE_MAX', 'BUREAU_ACT_CREDIT_DAY_OVERDUE_MEAN', 'BUREAU_ACT_DAYS_CREDIT_ENDDATE_MIN', 'BUREAU_ACT_DAYS_CREDIT_ENDDATE_MAX', 'BUREAU_ACT_DAYS_CREDIT_ENDDATE_MEAN', 'BUREAU_ACT_AMT_CREDIT_MAX_OVERDUE_MAX', 'BUREAU_ACT_AMT_CREDIT_MAX_OVERDUE_MEAN', 'BUREAU_ACT_AMT_CREDIT_SUM_MAX', 'BUREAU_ACT_AMT_CREDIT_SUM_MEAN', 'BUREAU_ACT_AMT_CREDIT_SUM_SUM', 'BUREAU_ACT_AMT_CREDIT_SUM_DEBT_MAX', 'BUREAU_ACT_AMT_CREDIT_SUM_DEBT_MEAN', 'BUREAU_ACT_AMT_CREDIT_SUM_DEBT_SUM', 'BUREAU_ACT_AMT_CREDIT_SUM_OVERDUE_MAX', 'BUREAU_ACT_AMT_CREDIT_SUM_OVERDUE_MEAN', 'BUREAU_ACT_AMT_CREDIT_SUM_OVERDUE_SUM', 'BUREAU_ACT_AMT_ANNUITY_MAX', 'BUREAU_ACT_AMT_ANNUITY_MEAN', 'BUREAU_ACT_AMT_ANNUITY_SUM', 'BUREAU_ACT_BUREAU_ENDDATE_FACT_DIFF_MIN', 'BUREAU_ACT_BUREAU_ENDDATE_FACT_DIFF_MAX', 'BUREAU_ACT_BUREAU_ENDDATE_FACT_DIFF_MEAN', 'BUREAU_ACT_BUREAU_CREDIT_FACT_DIFF_MIN', 'BUREAU_ACT_BUREAU_CREDIT_FACT_DIFF_MAX', 'BUREAU_ACT_BUREAU_CREDIT_FACT_DIFF_MEAN', 'BUREAU_ACT_BUREAU_CREDIT_ENDDATE_DIFF_MIN', 'BUREAU_ACT_BUREAU_CREDIT_ENDDATE_DIFF_MAX', 'BUREAU_ACT_BUREAU_CREDIT_ENDDATE_DIFF_MEAN', 'BUREAU_ACT_BUREAU_CREDIT_DEBT_RATIO_MIN', 'BUREAU_ACT_BUREAU_CREDIT_DEBT_RATIO_MAX', 'BUREAU_ACT_BUREAU_CREDIT_DEBT_RATIO_MEAN', 'BUREAU_ACT_BUREAU_CREDIT_DEBT_DIFF_MIN', 'BUREAU_ACT_BUREAU_CREDIT_DEBT_DIFF_MAX', 'BUREAU_ACT_BUREAU_CREDIT_DEBT_DIFF_MEAN', 'BUREAU_ACT_BUREAU_IS_DPD_MEAN', 'BUREAU_ACT_BUREAU_IS_DPD_SUM', 'BUREAU_ACT_BUREAU_IS_DPD_OVER120_MEAN', 'BUREAU_ACT_BUREAU_IS_DPD_OVER120_SUM']\n",
      "196\n"
     ]
    }
   ],
   "source": [
    "print(f\"Columns with outliers (Z-score method):\\n{outlier_cols_Z_sc}\")\n",
    "print(len(outlier_cols_Z_sc))"
   ]
  },
  {
   "cell_type": "code",
   "execution_count": 42,
   "metadata": {},
   "outputs": [
    {
     "data": {
      "text/plain": [
       "BUREAU_ACT_BUREAU_IS_DPD_OVER120_SUM    0.267308\n",
       "Name: Outlier Percentage, dtype: float64"
      ]
     },
     "execution_count": 42,
     "metadata": {},
     "output_type": "execute_result"
    }
   ],
   "source": [
    "apps_all, perc_of_outliers = cap_outliers_3sigma(apps_all, outlier_cols_IQR)\n",
    "perc_of_outliers"
   ]
  },
  {
   "cell_type": "code",
   "execution_count": 43,
   "metadata": {},
   "outputs": [],
   "source": [
    "# # A value above 1 or below -1 indicates strong skewness.\n",
    "# skewed_cols = apps_all[numerical_cols_proposal].skew()  # Compute absolute skewness\n",
    "\n",
    "# # Highly positively skewed\n",
    "# print(skewed_cols[skewed_cols > 2])\n",
    "\n",
    "# # Highly negatively skewed\n",
    "# print(skewed_cols[skewed_cols < -2])"
   ]
  },
  {
   "cell_type": "markdown",
   "metadata": {},
   "source": [
    "### Заполнение пропусков"
   ]
  },
  {
   "cell_type": "code",
   "execution_count": 44,
   "metadata": {},
   "outputs": [
    {
     "data": {
      "text/plain": [
       "SK_ID_CURR    0\n",
       "TARGET        0\n",
       "dtype: int64"
      ]
     },
     "execution_count": 44,
     "metadata": {},
     "output_type": "execute_result"
    }
   ],
   "source": [
    "apps_all[['SK_ID_CURR','TARGET']].isna().sum()"
   ]
  },
  {
   "cell_type": "code",
   "execution_count": 45,
   "metadata": {},
   "outputs": [
    {
     "name": "stdout",
     "output_type": "stream",
     "text": [
      "260\n",
      "260\n",
      "[]\n",
      "[]\n"
     ]
    }
   ],
   "source": [
    "binary_cols_proposal, categorical_cols_proposal, numerical_cols_proposal = columns_types_assumption(apps_all)\n",
    "print(len(apps_all.columns))\n",
    "print(len(binary_cols_proposal)+len(categorical_cols_proposal)+len(numerical_cols_proposal))\n",
    "print(list(set(binary_cols_proposal)&set(categorical_cols_proposal)&set(numerical_cols_proposal)))\n",
    "print(list(set(apps_all)-set(binary_cols_proposal)-set(categorical_cols_proposal)-set(numerical_cols_proposal)))"
   ]
  },
  {
   "cell_type": "code",
   "execution_count": 46,
   "metadata": {},
   "outputs": [],
   "source": [
    "from sklearn.impute import SimpleImputer\n",
    "\n",
    "imputer_mean = SimpleImputer(strategy='mean')\n",
    "imputer_most_frequent = SimpleImputer(strategy='most_frequent')\n",
    "\n",
    "if 'TARGET' in binary_cols_proposal:\n",
    "    binary_cols_proposal.remove('TARGET')\n",
    "apps_all[binary_cols_proposal] = imputer_most_frequent.fit_transform(apps_all[binary_cols_proposal])\n",
    "apps_all[categorical_cols_proposal] = imputer_most_frequent.fit_transform(apps_all[categorical_cols_proposal])\n",
    "apps_all[numerical_cols_proposal] = imputer_mean.fit_transform(apps_all[numerical_cols_proposal])"
   ]
  },
  {
   "cell_type": "code",
   "execution_count": 47,
   "metadata": {},
   "outputs": [
    {
     "data": {
      "text/plain": [
       "0"
      ]
     },
     "execution_count": 47,
     "metadata": {},
     "output_type": "execute_result"
    }
   ],
   "source": [
    "apps_all.isna().sum().sum()"
   ]
  },
  {
   "cell_type": "markdown",
   "metadata": {},
   "source": [
    "осталось ноль нулевых значений. Успех!"
   ]
  },
  {
   "cell_type": "markdown",
   "metadata": {},
   "source": [
    "### Стандартизация"
   ]
  },
  {
   "cell_type": "code",
   "execution_count": 48,
   "metadata": {},
   "outputs": [
    {
     "data": {
      "text/plain": [
       "float64    210\n",
       "object      49\n",
       "int64        1\n",
       "Name: count, dtype: int64"
      ]
     },
     "execution_count": 48,
     "metadata": {},
     "output_type": "execute_result"
    }
   ],
   "source": [
    "apps_all.dtypes.value_counts()"
   ]
  },
  {
   "cell_type": "code",
   "execution_count": 49,
   "metadata": {},
   "outputs": [],
   "source": [
    "object_columns = apps_all.dtypes[apps_all.dtypes == 'object'].index.tolist()\n",
    "#### One Hote Encoding\n",
    "from sklearn.preprocessing import OneHotEncoder\n",
    "\n",
    "# Initialize encoder\n",
    "encoder = OneHotEncoder(drop='first', sparse_output=False)\n",
    "\n",
    "# Transform and create a new DataFrame\n",
    "encoded_array = encoder.fit_transform(apps_all[object_columns])\n",
    "\n",
    "# Get new column names\n",
    "encoded_col_names = encoder.get_feature_names_out(object_columns)\n",
    "\n",
    "# Drop original categorical columns from df\n",
    "apps_all.drop(columns=object_columns, inplace=True)\n",
    "\n",
    "# Add the encoded values as new columns\n",
    "apps_all[encoded_col_names] = encoded_array"
   ]
  },
  {
   "cell_type": "code",
   "execution_count": 50,
   "metadata": {},
   "outputs": [
    {
     "data": {
      "text/plain": [
       "dtype('int32')"
      ]
     },
     "execution_count": 50,
     "metadata": {},
     "output_type": "execute_result"
    }
   ],
   "source": [
    "apps_all['SK_ID_CURR'] = apps_all['SK_ID_CURR'].astype(int)\n",
    "apps_all['SK_ID_CURR'].dtype"
   ]
  },
  {
   "cell_type": "code",
   "execution_count": 51,
   "metadata": {},
   "outputs": [
    {
     "data": {
      "text/plain": [
       "float64    303\n",
       "int32        1\n",
       "int64        1\n",
       "Name: count, dtype: int64"
      ]
     },
     "execution_count": 51,
     "metadata": {},
     "output_type": "execute_result"
    }
   ],
   "source": [
    "apps_all.dtypes.value_counts()"
   ]
  },
  {
   "cell_type": "markdown",
   "metadata": {},
   "source": [
    "## Классификаторы"
   ]
  },
  {
   "cell_type": "markdown",
   "metadata": {},
   "source": [
    "### Метрики качества, разбиение не тест и трейн"
   ]
  },
  {
   "cell_type": "code",
   "execution_count": 52,
   "metadata": {},
   "outputs": [],
   "source": [
    "from sklearn.metrics import classification_report, confusion_matrix, accuracy_score, roc_auc_score, precision_score,recall_score, f1_score\n",
    "# функция, чтобы считать сразу несколько метрик качества\n",
    "def get_metrics(y_true, y_pred, y_proba):\n",
    "    return {\n",
    "        \"AUC-ROC\": roc_auc_score(y_true, y_proba),\n",
    "        \"Accuracy\": accuracy_score(y_true, y_pred),\n",
    "        \"Precision\": precision_score(y_true, y_pred),\n",
    "        \"Recall\": recall_score(y_true, y_pred),\n",
    "        \"F1 Score\": f1_score(y_true, y_pred)\n",
    "    }"
   ]
  },
  {
   "cell_type": "code",
   "execution_count": 53,
   "metadata": {},
   "outputs": [],
   "source": [
    "import re\n",
    "apps_all.columns = [re.sub(r'[\\{\\}\\[\\]:,\"\\`]', '', col) for col in apps_all.columns]"
   ]
  },
  {
   "cell_type": "code",
   "execution_count": 54,
   "metadata": {},
   "outputs": [],
   "source": [
    "most_important_features = pd.read_csv(FileOut+'most_important_features50.csv')\n",
    "most_important_features = most_important_features['features'].to_list()\n",
    "most_important_features[:5]\n",
    "reduced_features = list(most_important_features) + ['SK_ID_CURR', 'TARGET']"
   ]
  },
  {
   "cell_type": "code",
   "execution_count": 55,
   "metadata": {},
   "outputs": [],
   "source": [
    "from sklearn.model_selection import train_test_split\n",
    "from sklearn.preprocessing import StandardScaler\n",
    "\n",
    "apps_all_train, apps_all_test = train_test_split(apps_all[reduced_features],train_size=0.7, test_size=0.3,random_state=2025\n",
    "                                                 ,stratify=apps_all['TARGET'])\n",
    "\n",
    "X = apps_all_train.drop(['TARGET','SK_ID_CURR'], axis=1).fillna(0).copy()\n",
    "y = apps_all_train['TARGET']\n",
    "\n",
    "X_test = apps_all_test.drop(['TARGET','SK_ID_CURR'], axis=1).fillna(0).copy()\n",
    "y_test = apps_all_test['TARGET']"
   ]
  },
  {
   "cell_type": "code",
   "execution_count": 56,
   "metadata": {},
   "outputs": [],
   "source": [
    "from imblearn.under_sampling import RandomUnderSampler\n",
    "rus = RandomUnderSampler(sampling_strategy='auto', random_state=2025)\n",
    "X_resampled, y_resampled = rus.fit_resample(X, y)"
   ]
  },
  {
   "cell_type": "code",
   "execution_count": 57,
   "metadata": {},
   "outputs": [],
   "source": [
    "# from imblearn.over_sampling  import RandomOverSampler\n",
    "# rus = RandomOverSampler(sampling_strategy='auto', random_state=2025)\n",
    "# X_resampled, y_resampled = rus.fit_resample(X, y)"
   ]
  },
  {
   "cell_type": "code",
   "execution_count": 58,
   "metadata": {},
   "outputs": [],
   "source": [
    "scaler = StandardScaler()\n",
    "X_scaled_resampled = scaler.fit_transform(X_resampled)  # Fit and transform training data\n",
    "X_test_scaled = scaler.transform(X_test)  # Transform validation data with same scaler"
   ]
  },
  {
   "cell_type": "code",
   "execution_count": 59,
   "metadata": {},
   "outputs": [],
   "source": [
    "scaler1 = StandardScaler()\n",
    "X_scaled = scaler1.fit_transform(X)  # Fit and transform training data\n",
    "X_test_scaled = scaler1.transform(X_test)  # Transform validation data with same scaler"
   ]
  },
  {
   "cell_type": "markdown",
   "metadata": {},
   "source": [
    "### Dummy классификаторы (базовые)"
   ]
  },
  {
   "cell_type": "code",
   "execution_count": 60,
   "metadata": {},
   "outputs": [],
   "source": [
    "from sklearn.dummy import DummyClassifier\n",
    "dummy_most_freq = DummyClassifier(strategy=\"most_frequent\")\n",
    "dummy_rnd = DummyClassifier(strategy=\"stratified\",random_state=2025)"
   ]
  },
  {
   "cell_type": "code",
   "execution_count": 61,
   "metadata": {},
   "outputs": [],
   "source": [
    "dummy_rnd.fit(X, y)\n",
    "y_pred_proba = dummy_rnd.predict_proba(X_test)[:, 1]  # Probabilities for class 1\n",
    "y_pred = dummy_rnd.predict(X_test)\n",
    "metrics_dummy_random = get_metrics(y_test, y_pred, y_pred_proba)\n",
    "\n",
    "dummy_most_freq.fit(X, y)\n",
    "y_pred_proba = dummy_most_freq.predict_proba(X_test)[:, 1]  # Probabilities for class 1\n",
    "y_pred = dummy_most_freq.predict(X_test)\n",
    "metrics_dummy_most_freq = get_metrics(y_test, y_pred, y_pred_proba)\n",
    "\n",
    "metrics_df  = pd.DataFrame([metrics_dummy_most_freq, metrics_dummy_random], index=[\"Dummy_freq\", \"Dummy_random\"])\n",
    "\n",
    "# Round values for better readability\n",
    "metrics_df  = metrics_df .round(4)"
   ]
  },
  {
   "cell_type": "code",
   "execution_count": 62,
   "metadata": {},
   "outputs": [
    {
     "data": {
      "text/html": [
       "<div>\n",
       "<style scoped>\n",
       "    .dataframe tbody tr th:only-of-type {\n",
       "        vertical-align: middle;\n",
       "    }\n",
       "\n",
       "    .dataframe tbody tr th {\n",
       "        vertical-align: top;\n",
       "    }\n",
       "\n",
       "    .dataframe thead th {\n",
       "        text-align: right;\n",
       "    }\n",
       "</style>\n",
       "<table border=\"1\" class=\"dataframe\">\n",
       "  <thead>\n",
       "    <tr style=\"text-align: right;\">\n",
       "      <th></th>\n",
       "      <th>AUC-ROC</th>\n",
       "      <th>Accuracy</th>\n",
       "      <th>Precision</th>\n",
       "      <th>Recall</th>\n",
       "      <th>F1 Score</th>\n",
       "    </tr>\n",
       "  </thead>\n",
       "  <tbody>\n",
       "    <tr>\n",
       "      <th>Dummy_freq</th>\n",
       "      <td>0.500</td>\n",
       "      <td>0.9193</td>\n",
       "      <td>0.0000</td>\n",
       "      <td>0.0000</td>\n",
       "      <td>0.0000</td>\n",
       "    </tr>\n",
       "    <tr>\n",
       "      <th>Dummy_random</th>\n",
       "      <td>0.501</td>\n",
       "      <td>0.8504</td>\n",
       "      <td>0.0826</td>\n",
       "      <td>0.0843</td>\n",
       "      <td>0.0834</td>\n",
       "    </tr>\n",
       "  </tbody>\n",
       "</table>\n",
       "</div>"
      ],
      "text/plain": [
       "              AUC-ROC  Accuracy  Precision  Recall  F1 Score\n",
       "Dummy_freq      0.500    0.9193     0.0000  0.0000    0.0000\n",
       "Dummy_random    0.501    0.8504     0.0826  0.0843    0.0834"
      ]
     },
     "execution_count": 62,
     "metadata": {},
     "output_type": "execute_result"
    }
   ],
   "source": [
    "# Display summary table\n",
    "# metrics_df.to_csv(FileOut+'Dummies.csv')\n",
    "metrics_df"
   ]
  },
  {
   "cell_type": "markdown",
   "metadata": {},
   "source": [
    "### Keras (Sequential)"
   ]
  },
  {
   "cell_type": "code",
   "execution_count": 63,
   "metadata": {},
   "outputs": [],
   "source": [
    "from tensorflow.keras.models import Sequential\n",
    "from tensorflow.keras.layers import Dense, Dropout, BatchNormalization, LeakyReLU, ReLU, Input\n",
    "from tensorflow.keras.optimizers import Adam\n",
    "from tensorflow.keras.callbacks import EarlyStopping\n",
    "\n",
    "import tensorflow as tf\n",
    "import random"
   ]
  },
  {
   "cell_type": "code",
   "execution_count": 64,
   "metadata": {},
   "outputs": [],
   "source": [
    "# Fix random seeds for reproducibility\n",
    "SEED = 2025\n",
    "np.random.seed(SEED)\n",
    "random.seed(SEED)\n",
    "tf.random.set_seed(SEED)"
   ]
  },
  {
   "cell_type": "code",
   "execution_count": 65,
   "metadata": {},
   "outputs": [
    {
     "data": {
      "text/plain": [
       "(34754, 50)"
      ]
     },
     "execution_count": 65,
     "metadata": {},
     "output_type": "execute_result"
    }
   ],
   "source": [
    "X_scaled_resampled.shape\n",
    "# X.shape[1]"
   ]
  },
  {
   "cell_type": "code",
   "execution_count": 66,
   "metadata": {},
   "outputs": [
    {
     "data": {
      "text/plain": [
       "(215257, 50)"
      ]
     },
     "execution_count": 66,
     "metadata": {},
     "output_type": "execute_result"
    }
   ],
   "source": [
    "X_scaled.shape\n",
    "# X.shape[1]"
   ]
  },
  {
   "cell_type": "markdown",
   "metadata": {},
   "source": [
    "#### Scaled"
   ]
  },
  {
   "cell_type": "code",
   "execution_count": 67,
   "metadata": {},
   "outputs": [
    {
     "data": {
      "text/html": [
       "<pre style=\"white-space:pre;overflow-x:auto;line-height:normal;font-family:Menlo,'DejaVu Sans Mono',consolas,'Courier New',monospace\"><span style=\"font-weight: bold\">Model: \"sequential\"</span>\n",
       "</pre>\n"
      ],
      "text/plain": [
       "\u001b[1mModel: \"sequential\"\u001b[0m\n"
      ]
     },
     "metadata": {},
     "output_type": "display_data"
    },
    {
     "data": {
      "text/html": [
       "<pre style=\"white-space:pre;overflow-x:auto;line-height:normal;font-family:Menlo,'DejaVu Sans Mono',consolas,'Courier New',monospace\">┏━━━━━━━━━━━━━━━━━━━━━━━━━━━━━━━━━┳━━━━━━━━━━━━━━━━━━━━━━━━┳━━━━━━━━━━━━━━━┓\n",
       "┃<span style=\"font-weight: bold\"> Layer (type)                    </span>┃<span style=\"font-weight: bold\"> Output Shape           </span>┃<span style=\"font-weight: bold\">       Param # </span>┃\n",
       "┡━━━━━━━━━━━━━━━━━━━━━━━━━━━━━━━━━╇━━━━━━━━━━━━━━━━━━━━━━━━╇━━━━━━━━━━━━━━━┩\n",
       "│ dense (<span style=\"color: #0087ff; text-decoration-color: #0087ff\">Dense</span>)                   │ (<span style=\"color: #00d7ff; text-decoration-color: #00d7ff\">None</span>, <span style=\"color: #00af00; text-decoration-color: #00af00\">64</span>)             │         <span style=\"color: #00af00; text-decoration-color: #00af00\">3,264</span> │\n",
       "├─────────────────────────────────┼────────────────────────┼───────────────┤\n",
       "│ batch_normalization             │ (<span style=\"color: #00d7ff; text-decoration-color: #00d7ff\">None</span>, <span style=\"color: #00af00; text-decoration-color: #00af00\">64</span>)             │           <span style=\"color: #00af00; text-decoration-color: #00af00\">256</span> │\n",
       "│ (<span style=\"color: #0087ff; text-decoration-color: #0087ff\">BatchNormalization</span>)            │                        │               │\n",
       "├─────────────────────────────────┼────────────────────────┼───────────────┤\n",
       "│ re_lu (<span style=\"color: #0087ff; text-decoration-color: #0087ff\">ReLU</span>)                    │ (<span style=\"color: #00d7ff; text-decoration-color: #00d7ff\">None</span>, <span style=\"color: #00af00; text-decoration-color: #00af00\">64</span>)             │             <span style=\"color: #00af00; text-decoration-color: #00af00\">0</span> │\n",
       "├─────────────────────────────────┼────────────────────────┼───────────────┤\n",
       "│ dropout (<span style=\"color: #0087ff; text-decoration-color: #0087ff\">Dropout</span>)               │ (<span style=\"color: #00d7ff; text-decoration-color: #00d7ff\">None</span>, <span style=\"color: #00af00; text-decoration-color: #00af00\">64</span>)             │             <span style=\"color: #00af00; text-decoration-color: #00af00\">0</span> │\n",
       "├─────────────────────────────────┼────────────────────────┼───────────────┤\n",
       "│ dense_1 (<span style=\"color: #0087ff; text-decoration-color: #0087ff\">Dense</span>)                 │ (<span style=\"color: #00d7ff; text-decoration-color: #00d7ff\">None</span>, <span style=\"color: #00af00; text-decoration-color: #00af00\">32</span>)             │         <span style=\"color: #00af00; text-decoration-color: #00af00\">2,080</span> │\n",
       "├─────────────────────────────────┼────────────────────────┼───────────────┤\n",
       "│ re_lu_1 (<span style=\"color: #0087ff; text-decoration-color: #0087ff\">ReLU</span>)                  │ (<span style=\"color: #00d7ff; text-decoration-color: #00d7ff\">None</span>, <span style=\"color: #00af00; text-decoration-color: #00af00\">32</span>)             │             <span style=\"color: #00af00; text-decoration-color: #00af00\">0</span> │\n",
       "├─────────────────────────────────┼────────────────────────┼───────────────┤\n",
       "│ dropout_1 (<span style=\"color: #0087ff; text-decoration-color: #0087ff\">Dropout</span>)             │ (<span style=\"color: #00d7ff; text-decoration-color: #00d7ff\">None</span>, <span style=\"color: #00af00; text-decoration-color: #00af00\">32</span>)             │             <span style=\"color: #00af00; text-decoration-color: #00af00\">0</span> │\n",
       "├─────────────────────────────────┼────────────────────────┼───────────────┤\n",
       "│ dense_2 (<span style=\"color: #0087ff; text-decoration-color: #0087ff\">Dense</span>)                 │ (<span style=\"color: #00d7ff; text-decoration-color: #00d7ff\">None</span>, <span style=\"color: #00af00; text-decoration-color: #00af00\">1</span>)              │            <span style=\"color: #00af00; text-decoration-color: #00af00\">33</span> │\n",
       "└─────────────────────────────────┴────────────────────────┴───────────────┘\n",
       "</pre>\n"
      ],
      "text/plain": [
       "┏━━━━━━━━━━━━━━━━━━━━━━━━━━━━━━━━━┳━━━━━━━━━━━━━━━━━━━━━━━━┳━━━━━━━━━━━━━━━┓\n",
       "┃\u001b[1m \u001b[0m\u001b[1mLayer (type)                   \u001b[0m\u001b[1m \u001b[0m┃\u001b[1m \u001b[0m\u001b[1mOutput Shape          \u001b[0m\u001b[1m \u001b[0m┃\u001b[1m \u001b[0m\u001b[1m      Param #\u001b[0m\u001b[1m \u001b[0m┃\n",
       "┡━━━━━━━━━━━━━━━━━━━━━━━━━━━━━━━━━╇━━━━━━━━━━━━━━━━━━━━━━━━╇━━━━━━━━━━━━━━━┩\n",
       "│ dense (\u001b[38;5;33mDense\u001b[0m)                   │ (\u001b[38;5;45mNone\u001b[0m, \u001b[38;5;34m64\u001b[0m)             │         \u001b[38;5;34m3,264\u001b[0m │\n",
       "├─────────────────────────────────┼────────────────────────┼───────────────┤\n",
       "│ batch_normalization             │ (\u001b[38;5;45mNone\u001b[0m, \u001b[38;5;34m64\u001b[0m)             │           \u001b[38;5;34m256\u001b[0m │\n",
       "│ (\u001b[38;5;33mBatchNormalization\u001b[0m)            │                        │               │\n",
       "├─────────────────────────────────┼────────────────────────┼───────────────┤\n",
       "│ re_lu (\u001b[38;5;33mReLU\u001b[0m)                    │ (\u001b[38;5;45mNone\u001b[0m, \u001b[38;5;34m64\u001b[0m)             │             \u001b[38;5;34m0\u001b[0m │\n",
       "├─────────────────────────────────┼────────────────────────┼───────────────┤\n",
       "│ dropout (\u001b[38;5;33mDropout\u001b[0m)               │ (\u001b[38;5;45mNone\u001b[0m, \u001b[38;5;34m64\u001b[0m)             │             \u001b[38;5;34m0\u001b[0m │\n",
       "├─────────────────────────────────┼────────────────────────┼───────────────┤\n",
       "│ dense_1 (\u001b[38;5;33mDense\u001b[0m)                 │ (\u001b[38;5;45mNone\u001b[0m, \u001b[38;5;34m32\u001b[0m)             │         \u001b[38;5;34m2,080\u001b[0m │\n",
       "├─────────────────────────────────┼────────────────────────┼───────────────┤\n",
       "│ re_lu_1 (\u001b[38;5;33mReLU\u001b[0m)                  │ (\u001b[38;5;45mNone\u001b[0m, \u001b[38;5;34m32\u001b[0m)             │             \u001b[38;5;34m0\u001b[0m │\n",
       "├─────────────────────────────────┼────────────────────────┼───────────────┤\n",
       "│ dropout_1 (\u001b[38;5;33mDropout\u001b[0m)             │ (\u001b[38;5;45mNone\u001b[0m, \u001b[38;5;34m32\u001b[0m)             │             \u001b[38;5;34m0\u001b[0m │\n",
       "├─────────────────────────────────┼────────────────────────┼───────────────┤\n",
       "│ dense_2 (\u001b[38;5;33mDense\u001b[0m)                 │ (\u001b[38;5;45mNone\u001b[0m, \u001b[38;5;34m1\u001b[0m)              │            \u001b[38;5;34m33\u001b[0m │\n",
       "└─────────────────────────────────┴────────────────────────┴───────────────┘\n"
      ]
     },
     "metadata": {},
     "output_type": "display_data"
    },
    {
     "data": {
      "text/html": [
       "<pre style=\"white-space:pre;overflow-x:auto;line-height:normal;font-family:Menlo,'DejaVu Sans Mono',consolas,'Courier New',monospace\"><span style=\"font-weight: bold\"> Total params: </span><span style=\"color: #00af00; text-decoration-color: #00af00\">5,633</span> (22.00 KB)\n",
       "</pre>\n"
      ],
      "text/plain": [
       "\u001b[1m Total params: \u001b[0m\u001b[38;5;34m5,633\u001b[0m (22.00 KB)\n"
      ]
     },
     "metadata": {},
     "output_type": "display_data"
    },
    {
     "data": {
      "text/html": [
       "<pre style=\"white-space:pre;overflow-x:auto;line-height:normal;font-family:Menlo,'DejaVu Sans Mono',consolas,'Courier New',monospace\"><span style=\"font-weight: bold\"> Trainable params: </span><span style=\"color: #00af00; text-decoration-color: #00af00\">5,505</span> (21.50 KB)\n",
       "</pre>\n"
      ],
      "text/plain": [
       "\u001b[1m Trainable params: \u001b[0m\u001b[38;5;34m5,505\u001b[0m (21.50 KB)\n"
      ]
     },
     "metadata": {},
     "output_type": "display_data"
    },
    {
     "data": {
      "text/html": [
       "<pre style=\"white-space:pre;overflow-x:auto;line-height:normal;font-family:Menlo,'DejaVu Sans Mono',consolas,'Courier New',monospace\"><span style=\"font-weight: bold\"> Non-trainable params: </span><span style=\"color: #00af00; text-decoration-color: #00af00\">128</span> (512.00 B)\n",
       "</pre>\n"
      ],
      "text/plain": [
       "\u001b[1m Non-trainable params: \u001b[0m\u001b[38;5;34m128\u001b[0m (512.00 B)\n"
      ]
     },
     "metadata": {},
     "output_type": "display_data"
    }
   ],
   "source": [
    "model = Sequential([  \n",
    "    Input(shape=(X_scaled.shape[1],)),  # Explicit input layer\n",
    "\n",
    "    Dense(64, kernel_initializer='he_uniform'),\n",
    "    BatchNormalization(),\n",
    "    ReLU(),\n",
    "    Dropout(0.05),\n",
    "\n",
    "    Dense(32, kernel_initializer='he_uniform'),    \n",
    "    ReLU(),\n",
    "    Dropout(0.05),\n",
    "    \n",
    "    Dense(1, activation='sigmoid')\n",
    "])\n",
    "\n",
    "model.compile(optimizer=Adam(learning_rate=0.001), \n",
    "              loss='binary_crossentropy', \n",
    "              metrics=['AUC'])\n",
    "\n",
    "early_stop = EarlyStopping(monitor='val_loss', patience=5, restore_best_weights=True)\n",
    "\n",
    "model.summary()"
   ]
  },
  {
   "cell_type": "code",
   "execution_count": 68,
   "metadata": {},
   "outputs": [
    {
     "name": "stdout",
     "output_type": "stream",
     "text": [
      "Epoch 1/10\n",
      "\u001b[1m5382/5382\u001b[0m \u001b[32m━━━━━━━━━━━━━━━━━━━━\u001b[0m\u001b[37m\u001b[0m \u001b[1m19s\u001b[0m 3ms/step - AUC: 0.6905 - loss: 0.2730 - val_AUC: 0.7470 - val_loss: 0.2521\n",
      "Epoch 2/10\n",
      "\u001b[1m5382/5382\u001b[0m \u001b[32m━━━━━━━━━━━━━━━━━━━━\u001b[0m\u001b[37m\u001b[0m \u001b[1m15s\u001b[0m 3ms/step - AUC: 0.7372 - loss: 0.2502 - val_AUC: 0.7505 - val_loss: 0.2509\n",
      "Epoch 3/10\n",
      "\u001b[1m5382/5382\u001b[0m \u001b[32m━━━━━━━━━━━━━━━━━━━━\u001b[0m\u001b[37m\u001b[0m \u001b[1m15s\u001b[0m 3ms/step - AUC: 0.7433 - loss: 0.2483 - val_AUC: 0.7516 - val_loss: 0.2505\n",
      "Epoch 4/10\n",
      "\u001b[1m5382/5382\u001b[0m \u001b[32m━━━━━━━━━━━━━━━━━━━━\u001b[0m\u001b[37m\u001b[0m \u001b[1m16s\u001b[0m 3ms/step - AUC: 0.7469 - loss: 0.2472 - val_AUC: 0.7520 - val_loss: 0.2503\n",
      "Epoch 5/10\n",
      "\u001b[1m5382/5382\u001b[0m \u001b[32m━━━━━━━━━━━━━━━━━━━━\u001b[0m\u001b[37m\u001b[0m \u001b[1m16s\u001b[0m 3ms/step - AUC: 0.7518 - loss: 0.2458 - val_AUC: 0.7526 - val_loss: 0.2502\n",
      "Epoch 6/10\n",
      "\u001b[1m5382/5382\u001b[0m \u001b[32m━━━━━━━━━━━━━━━━━━━━\u001b[0m\u001b[37m\u001b[0m \u001b[1m12s\u001b[0m 2ms/step - AUC: 0.7543 - loss: 0.2451 - val_AUC: 0.7523 - val_loss: 0.2503\n",
      "Epoch 7/10\n",
      "\u001b[1m5382/5382\u001b[0m \u001b[32m━━━━━━━━━━━━━━━━━━━━\u001b[0m\u001b[37m\u001b[0m \u001b[1m8s\u001b[0m 1ms/step - AUC: 0.7560 - loss: 0.2447 - val_AUC: 0.7518 - val_loss: 0.2503\n",
      "Epoch 8/10\n",
      "\u001b[1m5382/5382\u001b[0m \u001b[32m━━━━━━━━━━━━━━━━━━━━\u001b[0m\u001b[37m\u001b[0m \u001b[1m7s\u001b[0m 1ms/step - AUC: 0.7583 - loss: 0.2438 - val_AUC: 0.7516 - val_loss: 0.2505\n",
      "Epoch 9/10\n",
      "\u001b[1m5382/5382\u001b[0m \u001b[32m━━━━━━━━━━━━━━━━━━━━\u001b[0m\u001b[37m\u001b[0m \u001b[1m7s\u001b[0m 1ms/step - AUC: 0.7600 - loss: 0.2434 - val_AUC: 0.7511 - val_loss: 0.2505\n",
      "Epoch 10/10\n",
      "\u001b[1m5382/5382\u001b[0m \u001b[32m━━━━━━━━━━━━━━━━━━━━\u001b[0m\u001b[37m\u001b[0m \u001b[1m6s\u001b[0m 1ms/step - AUC: 0.7612 - loss: 0.2430 - val_AUC: 0.7504 - val_loss: 0.2511\n"
     ]
    }
   ],
   "source": [
    "history_sequential1 = model.fit(X_scaled, y\n",
    "                               , epochs=10, batch_size=32,validation_split=0.2, verbose=1\n",
    "                               ,callbacks=[early_stop])"
   ]
  },
  {
   "cell_type": "code",
   "execution_count": 69,
   "metadata": {},
   "outputs": [
    {
     "data": {
      "image/png": "[encoded data removed]",
      "text/plain": [
       "<Figure size 500x300 with 1 Axes>"
      ]
     },
     "metadata": {},
     "output_type": "display_data"
    }
   ],
   "source": [
    "plt.figure(figsize=(5, 3))\n",
    "plt.plot(history_sequential1.history['loss'], label='Training Loss', color='blue')\n",
    "plt.plot(history_sequential1.history['val_loss'], label='Validation Loss', color='red')\n",
    "plt.xlabel('Epochs')\n",
    "plt.ylabel('Loss')\n",
    "plt.title('Loss vs. Epochs')\n",
    "plt.legend()\n",
    "plt.grid(True)\n",
    "plt.show()"
   ]
  },
  {
   "cell_type": "markdown",
   "metadata": {},
   "source": [
    "#### Scaled resampled"
   ]
  },
  {
   "cell_type": "code",
   "execution_count": 70,
   "metadata": {},
   "outputs": [
    {
     "data": {
      "text/html": [
       "<pre style=\"white-space:pre;overflow-x:auto;line-height:normal;font-family:Menlo,'DejaVu Sans Mono',consolas,'Courier New',monospace\"><span style=\"font-weight: bold\">Model: \"sequential_1\"</span>\n",
       "</pre>\n"
      ],
      "text/plain": [
       "\u001b[1mModel: \"sequential_1\"\u001b[0m\n"
      ]
     },
     "metadata": {},
     "output_type": "display_data"
    },
    {
     "data": {
      "text/html": [
       "<pre style=\"white-space:pre;overflow-x:auto;line-height:normal;font-family:Menlo,'DejaVu Sans Mono',consolas,'Courier New',monospace\">┏━━━━━━━━━━━━━━━━━━━━━━━━━━━━━━━━━┳━━━━━━━━━━━━━━━━━━━━━━━━┳━━━━━━━━━━━━━━━┓\n",
       "┃<span style=\"font-weight: bold\"> Layer (type)                    </span>┃<span style=\"font-weight: bold\"> Output Shape           </span>┃<span style=\"font-weight: bold\">       Param # </span>┃\n",
       "┡━━━━━━━━━━━━━━━━━━━━━━━━━━━━━━━━━╇━━━━━━━━━━━━━━━━━━━━━━━━╇━━━━━━━━━━━━━━━┩\n",
       "│ dense_3 (<span style=\"color: #0087ff; text-decoration-color: #0087ff\">Dense</span>)                 │ (<span style=\"color: #00d7ff; text-decoration-color: #00d7ff\">None</span>, <span style=\"color: #00af00; text-decoration-color: #00af00\">64</span>)             │         <span style=\"color: #00af00; text-decoration-color: #00af00\">3,264</span> │\n",
       "├─────────────────────────────────┼────────────────────────┼───────────────┤\n",
       "│ batch_normalization_1           │ (<span style=\"color: #00d7ff; text-decoration-color: #00d7ff\">None</span>, <span style=\"color: #00af00; text-decoration-color: #00af00\">64</span>)             │           <span style=\"color: #00af00; text-decoration-color: #00af00\">256</span> │\n",
       "│ (<span style=\"color: #0087ff; text-decoration-color: #0087ff\">BatchNormalization</span>)            │                        │               │\n",
       "├─────────────────────────────────┼────────────────────────┼───────────────┤\n",
       "│ re_lu_2 (<span style=\"color: #0087ff; text-decoration-color: #0087ff\">ReLU</span>)                  │ (<span style=\"color: #00d7ff; text-decoration-color: #00d7ff\">None</span>, <span style=\"color: #00af00; text-decoration-color: #00af00\">64</span>)             │             <span style=\"color: #00af00; text-decoration-color: #00af00\">0</span> │\n",
       "├─────────────────────────────────┼────────────────────────┼───────────────┤\n",
       "│ dropout_2 (<span style=\"color: #0087ff; text-decoration-color: #0087ff\">Dropout</span>)             │ (<span style=\"color: #00d7ff; text-decoration-color: #00d7ff\">None</span>, <span style=\"color: #00af00; text-decoration-color: #00af00\">64</span>)             │             <span style=\"color: #00af00; text-decoration-color: #00af00\">0</span> │\n",
       "├─────────────────────────────────┼────────────────────────┼───────────────┤\n",
       "│ dense_4 (<span style=\"color: #0087ff; text-decoration-color: #0087ff\">Dense</span>)                 │ (<span style=\"color: #00d7ff; text-decoration-color: #00d7ff\">None</span>, <span style=\"color: #00af00; text-decoration-color: #00af00\">32</span>)             │         <span style=\"color: #00af00; text-decoration-color: #00af00\">2,080</span> │\n",
       "├─────────────────────────────────┼────────────────────────┼───────────────┤\n",
       "│ re_lu_3 (<span style=\"color: #0087ff; text-decoration-color: #0087ff\">ReLU</span>)                  │ (<span style=\"color: #00d7ff; text-decoration-color: #00d7ff\">None</span>, <span style=\"color: #00af00; text-decoration-color: #00af00\">32</span>)             │             <span style=\"color: #00af00; text-decoration-color: #00af00\">0</span> │\n",
       "├─────────────────────────────────┼────────────────────────┼───────────────┤\n",
       "│ dropout_3 (<span style=\"color: #0087ff; text-decoration-color: #0087ff\">Dropout</span>)             │ (<span style=\"color: #00d7ff; text-decoration-color: #00d7ff\">None</span>, <span style=\"color: #00af00; text-decoration-color: #00af00\">32</span>)             │             <span style=\"color: #00af00; text-decoration-color: #00af00\">0</span> │\n",
       "├─────────────────────────────────┼────────────────────────┼───────────────┤\n",
       "│ dense_5 (<span style=\"color: #0087ff; text-decoration-color: #0087ff\">Dense</span>)                 │ (<span style=\"color: #00d7ff; text-decoration-color: #00d7ff\">None</span>, <span style=\"color: #00af00; text-decoration-color: #00af00\">1</span>)              │            <span style=\"color: #00af00; text-decoration-color: #00af00\">33</span> │\n",
       "└─────────────────────────────────┴────────────────────────┴───────────────┘\n",
       "</pre>\n"
      ],
      "text/plain": [
       "┏━━━━━━━━━━━━━━━━━━━━━━━━━━━━━━━━━┳━━━━━━━━━━━━━━━━━━━━━━━━┳━━━━━━━━━━━━━━━┓\n",
       "┃\u001b[1m \u001b[0m\u001b[1mLayer (type)                   \u001b[0m\u001b[1m \u001b[0m┃\u001b[1m \u001b[0m\u001b[1mOutput Shape          \u001b[0m\u001b[1m \u001b[0m┃\u001b[1m \u001b[0m\u001b[1m      Param #\u001b[0m\u001b[1m \u001b[0m┃\n",
       "┡━━━━━━━━━━━━━━━━━━━━━━━━━━━━━━━━━╇━━━━━━━━━━━━━━━━━━━━━━━━╇━━━━━━━━━━━━━━━┩\n",
       "│ dense_3 (\u001b[38;5;33mDense\u001b[0m)                 │ (\u001b[38;5;45mNone\u001b[0m, \u001b[38;5;34m64\u001b[0m)             │         \u001b[38;5;34m3,264\u001b[0m │\n",
       "├─────────────────────────────────┼────────────────────────┼───────────────┤\n",
       "│ batch_normalization_1           │ (\u001b[38;5;45mNone\u001b[0m, \u001b[38;5;34m64\u001b[0m)             │           \u001b[38;5;34m256\u001b[0m │\n",
       "│ (\u001b[38;5;33mBatchNormalization\u001b[0m)            │                        │               │\n",
       "├─────────────────────────────────┼────────────────────────┼───────────────┤\n",
       "│ re_lu_2 (\u001b[38;5;33mReLU\u001b[0m)                  │ (\u001b[38;5;45mNone\u001b[0m, \u001b[38;5;34m64\u001b[0m)             │             \u001b[38;5;34m0\u001b[0m │\n",
       "├─────────────────────────────────┼────────────────────────┼───────────────┤\n",
       "│ dropout_2 (\u001b[38;5;33mDropout\u001b[0m)             │ (\u001b[38;5;45mNone\u001b[0m, \u001b[38;5;34m64\u001b[0m)             │             \u001b[38;5;34m0\u001b[0m │\n",
       "├─────────────────────────────────┼────────────────────────┼───────────────┤\n",
       "│ dense_4 (\u001b[38;5;33mDense\u001b[0m)                 │ (\u001b[38;5;45mNone\u001b[0m, \u001b[38;5;34m32\u001b[0m)             │         \u001b[38;5;34m2,080\u001b[0m │\n",
       "├─────────────────────────────────┼────────────────────────┼───────────────┤\n",
       "│ re_lu_3 (\u001b[38;5;33mReLU\u001b[0m)                  │ (\u001b[38;5;45mNone\u001b[0m, \u001b[38;5;34m32\u001b[0m)             │             \u001b[38;5;34m0\u001b[0m │\n",
       "├─────────────────────────────────┼────────────────────────┼───────────────┤\n",
       "│ dropout_3 (\u001b[38;5;33mDropout\u001b[0m)             │ (\u001b[38;5;45mNone\u001b[0m, \u001b[38;5;34m32\u001b[0m)             │             \u001b[38;5;34m0\u001b[0m │\n",
       "├─────────────────────────────────┼────────────────────────┼───────────────┤\n",
       "│ dense_5 (\u001b[38;5;33mDense\u001b[0m)                 │ (\u001b[38;5;45mNone\u001b[0m, \u001b[38;5;34m1\u001b[0m)              │            \u001b[38;5;34m33\u001b[0m │\n",
       "└─────────────────────────────────┴────────────────────────┴───────────────┘\n"
      ]
     },
     "metadata": {},
     "output_type": "display_data"
    },
    {
     "data": {
      "text/html": [
       "<pre style=\"white-space:pre;overflow-x:auto;line-height:normal;font-family:Menlo,'DejaVu Sans Mono',consolas,'Courier New',monospace\"><span style=\"font-weight: bold\"> Total params: </span><span style=\"color: #00af00; text-decoration-color: #00af00\">5,633</span> (22.00 KB)\n",
       "</pre>\n"
      ],
      "text/plain": [
       "\u001b[1m Total params: \u001b[0m\u001b[38;5;34m5,633\u001b[0m (22.00 KB)\n"
      ]
     },
     "metadata": {},
     "output_type": "display_data"
    },
    {
     "data": {
      "text/html": [
       "<pre style=\"white-space:pre;overflow-x:auto;line-height:normal;font-family:Menlo,'DejaVu Sans Mono',consolas,'Courier New',monospace\"><span style=\"font-weight: bold\"> Trainable params: </span><span style=\"color: #00af00; text-decoration-color: #00af00\">5,505</span> (21.50 KB)\n",
       "</pre>\n"
      ],
      "text/plain": [
       "\u001b[1m Trainable params: \u001b[0m\u001b[38;5;34m5,505\u001b[0m (21.50 KB)\n"
      ]
     },
     "metadata": {},
     "output_type": "display_data"
    },
    {
     "data": {
      "text/html": [
       "<pre style=\"white-space:pre;overflow-x:auto;line-height:normal;font-family:Menlo,'DejaVu Sans Mono',consolas,'Courier New',monospace\"><span style=\"font-weight: bold\"> Non-trainable params: </span><span style=\"color: #00af00; text-decoration-color: #00af00\">128</span> (512.00 B)\n",
       "</pre>\n"
      ],
      "text/plain": [
       "\u001b[1m Non-trainable params: \u001b[0m\u001b[38;5;34m128\u001b[0m (512.00 B)\n"
      ]
     },
     "metadata": {},
     "output_type": "display_data"
    }
   ],
   "source": [
    "model2 = Sequential([  \n",
    "    Input(shape=(X_scaled_resampled.shape[1],)),  # Explicit input layer\n",
    "\n",
    "    Dense(64, kernel_initializer='he_uniform'),\n",
    "    BatchNormalization(),\n",
    "    ReLU(),\n",
    "    Dropout(0.05),\n",
    "\n",
    "    Dense(32, kernel_initializer='he_uniform'),    \n",
    "    ReLU(),\n",
    "    Dropout(0.05),\n",
    "    \n",
    "    Dense(1, activation='sigmoid')\n",
    "])\n",
    "\n",
    "model2.compile(optimizer=Adam(learning_rate=0.001), \n",
    "              loss='binary_crossentropy', \n",
    "              metrics=['AUC'])\n",
    "\n",
    "early_stop = EarlyStopping(monitor='val_loss', patience=5, restore_best_weights=True)\n",
    "\n",
    "model2.summary()"
   ]
  },
  {
   "cell_type": "code",
   "execution_count": 71,
   "metadata": {},
   "outputs": [
    {
     "name": "stdout",
     "output_type": "stream",
     "text": [
      "Epoch 1/10\n",
      "\u001b[1m869/869\u001b[0m \u001b[32m━━━━━━━━━━━━━━━━━━━━\u001b[0m\u001b[37m\u001b[0m \u001b[1m2s\u001b[0m 1ms/step - AUC: 0.6681 - loss: 0.6320 - val_AUC: 0.0000e+00 - val_loss: 0.8370\n",
      "Epoch 2/10\n",
      "\u001b[1m869/869\u001b[0m \u001b[32m━━━━━━━━━━━━━━━━━━━━\u001b[0m\u001b[37m\u001b[0m \u001b[1m1s\u001b[0m 1ms/step - AUC: 0.7376 - loss: 0.5746 - val_AUC: 0.0000e+00 - val_loss: 0.8312\n",
      "Epoch 3/10\n",
      "\u001b[1m869/869\u001b[0m \u001b[32m━━━━━━━━━━━━━━━━━━━━\u001b[0m\u001b[37m\u001b[0m \u001b[1m1s\u001b[0m 1ms/step - AUC: 0.7454 - loss: 0.5672 - val_AUC: 0.0000e+00 - val_loss: 0.8257\n",
      "Epoch 4/10\n",
      "\u001b[1m869/869\u001b[0m \u001b[32m━━━━━━━━━━━━━━━━━━━━\u001b[0m\u001b[37m\u001b[0m \u001b[1m1s\u001b[0m 1ms/step - AUC: 0.7503 - loss: 0.5637 - val_AUC: 0.0000e+00 - val_loss: 0.8313\n",
      "Epoch 5/10\n",
      "\u001b[1m869/869\u001b[0m \u001b[32m━━━━━━━━━━━━━━━━━━━━\u001b[0m\u001b[37m\u001b[0m \u001b[1m1s\u001b[0m 1ms/step - AUC: 0.7543 - loss: 0.5604 - val_AUC: 0.0000e+00 - val_loss: 0.8214\n",
      "Epoch 6/10\n",
      "\u001b[1m869/869\u001b[0m \u001b[32m━━━━━━━━━━━━━━━━━━━━\u001b[0m\u001b[37m\u001b[0m \u001b[1m1s\u001b[0m 1ms/step - AUC: 0.7574 - loss: 0.5578 - val_AUC: 0.0000e+00 - val_loss: 0.8363\n",
      "Epoch 7/10\n",
      "\u001b[1m869/869\u001b[0m \u001b[32m━━━━━━━━━━━━━━━━━━━━\u001b[0m\u001b[37m\u001b[0m \u001b[1m1s\u001b[0m 1ms/step - AUC: 0.7601 - loss: 0.5556 - val_AUC: 0.0000e+00 - val_loss: 0.8377\n",
      "Epoch 8/10\n",
      "\u001b[1m869/869\u001b[0m \u001b[32m━━━━━━━━━━━━━━━━━━━━\u001b[0m\u001b[37m\u001b[0m \u001b[1m1s\u001b[0m 1ms/step - AUC: 0.7645 - loss: 0.5514 - val_AUC: 0.0000e+00 - val_loss: 0.8264\n",
      "Epoch 9/10\n",
      "\u001b[1m869/869\u001b[0m \u001b[32m━━━━━━━━━━━━━━━━━━━━\u001b[0m\u001b[37m\u001b[0m \u001b[1m1s\u001b[0m 1ms/step - AUC: 0.7688 - loss: 0.5475 - val_AUC: 0.0000e+00 - val_loss: 0.8471\n",
      "Epoch 10/10\n",
      "\u001b[1m869/869\u001b[0m \u001b[32m━━━━━━━━━━━━━━━━━━━━\u001b[0m\u001b[37m\u001b[0m \u001b[1m1s\u001b[0m 1ms/step - AUC: 0.7730 - loss: 0.5436 - val_AUC: 0.0000e+00 - val_loss: 0.8525\n"
     ]
    },
    {
     "data": {
      "image/png": "[encoded data removed]",
      "text/plain": [
       "<Figure size 500x300 with 1 Axes>"
      ]
     },
     "metadata": {},
     "output_type": "display_data"
    }
   ],
   "source": [
    "history_sequential = model2.fit(X_scaled_resampled, y_resampled\n",
    "                               , epochs=10, batch_size=32,validation_split=0.2, verbose=1\n",
    "                               ,callbacks=[early_stop])\n",
    "\n",
    "plt.figure(figsize=(5, 3))\n",
    "plt.plot(history_sequential.history['loss'], label='Training Loss', color='blue')\n",
    "plt.plot(history_sequential.history['val_loss'], label='Validation Loss', color='red')\n",
    "plt.xlabel('Epochs')\n",
    "plt.ylabel('Loss')\n",
    "plt.title('Loss vs. Epochs')\n",
    "plt.legend()\n",
    "plt.grid(True)\n",
    "plt.show()"
   ]
  },
  {
   "cell_type": "code",
   "execution_count": 75,
   "metadata": {},
   "outputs": [
    {
     "name": "stdout",
     "output_type": "stream",
     "text": [
      "\u001b[1m2883/2883\u001b[0m \u001b[32m━━━━━━━━━━━━━━━━━━━━\u001b[0m\u001b[37m\u001b[0m \u001b[1m2s\u001b[0m 756us/step\n",
      "\u001b[1m2883/2883\u001b[0m \u001b[32m━━━━━━━━━━━━━━━━━━━━\u001b[0m\u001b[37m\u001b[0m \u001b[1m2s\u001b[0m 616us/step\n",
      "\u001b[1m6727/6727\u001b[0m \u001b[32m━━━━━━━━━━━━━━━━━━━━\u001b[0m\u001b[37m\u001b[0m \u001b[1m4s\u001b[0m 622us/step\n",
      "\u001b[1m6727/6727\u001b[0m \u001b[32m━━━━━━━━━━━━━━━━━━━━\u001b[0m\u001b[37m\u001b[0m \u001b[1m4s\u001b[0m 609us/step\n"
     ]
    },
    {
     "data": {
      "text/html": [
       "<div>\n",
       "<style scoped>\n",
       "    .dataframe tbody tr th:only-of-type {\n",
       "        vertical-align: middle;\n",
       "    }\n",
       "\n",
       "    .dataframe tbody tr th {\n",
       "        vertical-align: top;\n",
       "    }\n",
       "\n",
       "    .dataframe thead th {\n",
       "        text-align: right;\n",
       "    }\n",
       "</style>\n",
       "<table border=\"1\" class=\"dataframe\">\n",
       "  <thead>\n",
       "    <tr style=\"text-align: right;\">\n",
       "      <th></th>\n",
       "      <th>AUC-ROC</th>\n",
       "      <th>Accuracy</th>\n",
       "      <th>Precision</th>\n",
       "      <th>Recall</th>\n",
       "      <th>F1 Score</th>\n",
       "    </tr>\n",
       "  </thead>\n",
       "  <tbody>\n",
       "    <tr>\n",
       "      <th>Train</th>\n",
       "      <td>0.761</td>\n",
       "      <td>0.9197</td>\n",
       "      <td>0.5951</td>\n",
       "      <td>0.0155</td>\n",
       "      <td>0.0302</td>\n",
       "    </tr>\n",
       "    <tr>\n",
       "      <th>Test</th>\n",
       "      <td>0.500</td>\n",
       "      <td>0.9191</td>\n",
       "      <td>0.4545</td>\n",
       "      <td>0.0121</td>\n",
       "      <td>0.0235</td>\n",
       "    </tr>\n",
       "  </tbody>\n",
       "</table>\n",
       "</div>"
      ],
      "text/plain": [
       "       AUC-ROC  Accuracy  Precision  Recall  F1 Score\n",
       "Train    0.761    0.9197     0.5951  0.0155    0.0302\n",
       "Test     0.500    0.9191     0.4545  0.0121    0.0235"
      ]
     },
     "execution_count": 75,
     "metadata": {},
     "output_type": "execute_result"
    }
   ],
   "source": [
    "y_pred = (model.predict(X_test_scaled) > 0.5).astype(int)\n",
    "y_proba = model.predict(X_test_scaled).ravel()\n",
    "\n",
    "y_pred_train = (model.predict(X_scaled) > 0.5).astype(int)\n",
    "y_pred_proba_train = model.predict(X_scaled).ravel()\n",
    "\n",
    "# Compute metrics for train and test sets\n",
    "metrics_train = get_metrics(y, y_pred_train, y_pred_proba_train)\n",
    "metrics_test = get_metrics(y_test, y_pred, y_pred_proba)\n",
    "\n",
    "metrics_df  = pd.DataFrame([metrics_train, metrics_test], index=[\"Train\", \"Test\"])\n",
    "\n",
    "# Round values for better readability\n",
    "metrics_df  = metrics_df.round(4)\n",
    "\n",
    "# Display summary table\n",
    "metrics_df"
   ]
  },
  {
   "cell_type": "code",
   "execution_count": 76,
   "metadata": {},
   "outputs": [],
   "source": [
    "metrics_df.to_csv(FileOut+'MLP.csv')"
   ]
  },
  {
   "cell_type": "code",
   "execution_count": null,
   "metadata": {},
   "outputs": [],
   "source": []
  }
 ],
 "metadata": {
  "kernelspec": {
   "display_name": "Python 3",
   "language": "python",
   "name": "python3"
  },
  "language_info": {
   "codemirror_mode": {
    "name": "ipython",
    "version": 3
   },
   "file_extension": ".py",
   "mimetype": "text/x-python",
   "name": "python",
   "nbconvert_exporter": "python",
   "pygments_lexer": "ipython3",
   "version": "3.11.5"
  }
 },
 "nbformat": 4,
 "nbformat_minor": 2
}
