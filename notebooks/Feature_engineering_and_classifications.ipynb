{
 "cells": [
  {
   "cell_type": "code",
   "execution_count": 83,
   "metadata": {},
   "outputs": [],
   "source": [
    "# numpy and pandas for data manipulation\n",
    "import numpy as np\n",
    "import pandas as pd \n",
    "\n",
    "# File system manangement\n",
    "import os\n",
    "\n",
    "# Suppress warnings \n",
    "import warnings\n",
    "warnings.filterwarnings('ignore')\n",
    "\n",
    "# No truncation of column content\n",
    "pd.set_option('display.max_colwidth', None)  \n",
    "\n",
    "import matplotlib.pyplot as plt\n",
    "import seaborn as sns"
   ]
  },
  {
   "cell_type": "markdown",
   "metadata": {},
   "source": [
    "## EDA"
   ]
  },
  {
   "cell_type": "markdown",
   "metadata": {},
   "source": [
    "### Загружаем сырые данные"
   ]
  },
  {
   "cell_type": "code",
   "execution_count": 84,
   "metadata": {},
   "outputs": [
    {
     "name": "stdout",
     "output_type": "stream",
     "text": [
      "['.~lock.HomeCredit_columns_description.ods#', 'application_test.csv', 'application_train.csv', 'bureau.csv', 'bureau_balance.csv', 'credit_card_balance.csv', 'HomeCredit_columns_description.csv', 'HomeCredit_columns_description.ods', 'installments_payments.csv', 'POS_CASH_balance.csv', 'previous_application.csv', 'sample_submission.csv']\n"
     ]
    }
   ],
   "source": [
    "# List files available\n",
    "print(os.listdir('../Kaggle/home-credit-default-risk/input/'))"
   ]
  },
  {
   "cell_type": "code",
   "execution_count": 85,
   "metadata": {},
   "outputs": [
    {
     "name": "stdout",
     "output_type": "stream",
     "text": [
      "Training data shape:  (307511, 122)\n",
      "float64    65\n",
      "int64      41\n",
      "object     16\n",
      "Name: count, dtype: int64\n",
      "доля пустых значений: 0.24395941907129431\n"
     ]
    }
   ],
   "source": [
    "# 1.1 Training data\n",
    "app_train = pd.read_csv('../Kaggle/home-credit-default-risk/input/application_train.csv')\n",
    "print('Training data shape: ', app_train.shape)\n",
    "# app_train.sample(3)\n",
    "print(app_train.dtypes.value_counts())\n",
    "print(f\"доля пустых значений: {app_train.isnull().sum().sum() / app_train.size}\")"
   ]
  },
  {
   "cell_type": "code",
   "execution_count": 86,
   "metadata": {},
   "outputs": [
    {
     "name": "stdout",
     "output_type": "stream",
     "text": [
      "Test data shape:  (48744, 121)\n"
     ]
    }
   ],
   "source": [
    "# 1.2 Test data\n",
    "app_test = pd.read_csv('../Kaggle/home-credit-default-risk/input/application_test.csv')\n",
    "print('Test data shape: ', app_test.shape)\n",
    "# app_test.sample(3)"
   ]
  },
  {
   "cell_type": "code",
   "execution_count": 87,
   "metadata": {},
   "outputs": [
    {
     "name": "stdout",
     "output_type": "stream",
     "text": [
      "количество кредитов без просрочек в  11 раз превышает количество кредитов с просрочками, т.е. тренировочная выборка не сбалансирована\n"
     ]
    }
   ],
   "source": [
    "targets = app_train['TARGET'].value_counts()\n",
    "print(f'количество кредитов без просрочек в {targets[0]/targets[1]: .0f} раз превышает количество кредитов с просрочками, т.е. тренировочная выборка не сбалансирована')"
   ]
  },
  {
   "cell_type": "code",
   "execution_count": 88,
   "metadata": {},
   "outputs": [
    {
     "name": "stdout",
     "output_type": "stream",
     "text": [
      "Test data shape:  (1716428, 17)\n"
     ]
    }
   ],
   "source": [
    "# 2 bureau_df data\n",
    "bureau_df = pd.read_csv('../Kaggle/home-credit-default-risk/input/bureau.csv')\n",
    "print('Test data shape: ', bureau_df.shape)\n",
    "# bureau_df.sample(3)"
   ]
  },
  {
   "cell_type": "code",
   "execution_count": 89,
   "metadata": {},
   "outputs": [
    {
     "name": "stdout",
     "output_type": "stream",
     "text": [
      "Test data shape:  (27299925, 3)\n"
     ]
    }
   ],
   "source": [
    "# 3 bureau_balance data\n",
    "bureau_balance_df = pd.read_csv('../Kaggle/home-credit-default-risk/input/bureau_balance.csv')\n",
    "print('Test data shape: ', bureau_balance_df.shape)\n",
    "# bureau_balance_df.sample(1)"
   ]
  },
  {
   "cell_type": "code",
   "execution_count": 90,
   "metadata": {},
   "outputs": [
    {
     "name": "stdout",
     "output_type": "stream",
     "text": [
      "Test data shape:  (10001358, 8)\n"
     ]
    }
   ],
   "source": [
    "# 4 POS_CASH_balance data\n",
    "POS_CASH_balance_df = pd.read_csv('../Kaggle/home-credit-default-risk/input/POS_CASH_balance.csv')\n",
    "print('Test data shape: ', POS_CASH_balance_df.shape)\n",
    "# POS_CASH_balance_df.sample(1)"
   ]
  },
  {
   "cell_type": "code",
   "execution_count": 91,
   "metadata": {},
   "outputs": [
    {
     "name": "stdout",
     "output_type": "stream",
     "text": [
      "credit_card_balance data shape:  (3840312, 23)\n"
     ]
    }
   ],
   "source": [
    "# 5 credit_card_balance data\n",
    "credit_card_balance_df = pd.read_csv('../Kaggle/home-credit-default-risk/input/credit_card_balance.csv')\n",
    "print('credit_card_balance data shape: ', credit_card_balance_df.shape)\n",
    "# credit_card_balance_df.sample(1)"
   ]
  },
  {
   "cell_type": "code",
   "execution_count": 92,
   "metadata": {},
   "outputs": [
    {
     "name": "stdout",
     "output_type": "stream",
     "text": [
      "previous_application data shape:  (1670214, 37)\n"
     ]
    }
   ],
   "source": [
    "# 6 previous_application data\n",
    "previous_application_df = pd.read_csv('../Kaggle/home-credit-default-risk/input/previous_application.csv')\n",
    "print('previous_application data shape: ', previous_application_df.shape)\n",
    "# previous_application_df.sample(1)"
   ]
  },
  {
   "cell_type": "code",
   "execution_count": 93,
   "metadata": {},
   "outputs": [
    {
     "name": "stdout",
     "output_type": "stream",
     "text": [
      "installments_payments shape:  (13605401, 8)\n"
     ]
    }
   ],
   "source": [
    "# 7 installments_payments data\n",
    "installments_payments_df = pd.read_csv('../Kaggle/home-credit-default-risk/input/installments_payments.csv')\n",
    "print('installments_payments shape: ', installments_payments_df.shape)\n",
    "# installments_payments_df.sample(1)"
   ]
  },
  {
   "cell_type": "code",
   "execution_count": 94,
   "metadata": {},
   "outputs": [
    {
     "name": "stdout",
     "output_type": "stream",
     "text": [
      "installments_payments shape:  (219, 4)\n"
     ]
    }
   ],
   "source": [
    "# 8 метаданные\n",
    "columns_description_df = pd.read_csv('../Kaggle/home-credit-default-risk/input/HomeCredit_columns_description.csv',index_col=0, encoding='latin1')\n",
    "print('installments_payments shape: ', columns_description_df.shape)\n",
    "# columns_description_df.sample(1)"
   ]
  },
  {
   "cell_type": "markdown",
   "metadata": {},
   "source": [
    "### Функции"
   ]
  },
  {
   "cell_type": "code",
   "execution_count": 95,
   "metadata": {},
   "outputs": [],
   "source": [
    "# функция саммаризирует датасет (количество пропущенных и уникательных значений, тип данных)\n",
    "def summarize_df(df):\n",
    "    df_info = pd.DataFrame({\n",
    "    \"DataType\": df.dtypes,\n",
    "    \"MissingValues\": df.isnull().sum(),\n",
    "    \"UniqueValues\": df.nunique()\n",
    "    }).sort_values(by=\"MissingValues\", ascending=False)\n",
    "    df_info['MissingValuesRatio'] = round(df_info['MissingValues'] / len(df),2)\n",
    "         \n",
    "    return df_info"
   ]
  },
  {
   "cell_type": "code",
   "execution_count": 96,
   "metadata": {},
   "outputs": [],
   "source": [
    "# типизация колонок датафрейма\n",
    "def columns_types_assumption(df):\n",
    "    binary_cols = [cname for cname in df.columns if\n",
    "                    df[cname].nunique() <= 2 and \n",
    "                    df[cname].dtype in ['int64', 'object','bool','float64']]\n",
    "\n",
    "    categorical_cols = [cname for cname in df.columns if\n",
    "                    df[cname].nunique() < 12 and df[cname].nunique() > 2 and\n",
    "                    df[cname].dtype in ['object']]\n",
    "\n",
    "    numerical_cols = [cname for cname in df.columns if \n",
    "                df[cname].dtype in ['int64', 'float64'] and df[cname].nunique() > 2]\n",
    "\n",
    "    return binary_cols, categorical_cols, numerical_cols"
   ]
  },
  {
   "cell_type": "code",
   "execution_count": 97,
   "metadata": {},
   "outputs": [],
   "source": [
    "# функция исключает аномалии методом 3-сигм\n",
    "def cap_outliers_3sigma(df, columns):\n",
    "    \"\"\"\n",
    "    Caps values in specified columns at the 3-sigma threshold and calculates the percentage of outliers.\n",
    "    \n",
    "    Parameters:\n",
    "        df (pd.DataFrame): The input DataFrame.\n",
    "        columns (list): List of column names to cap.\n",
    "    \n",
    "    Returns:\n",
    "        pd.DataFrame: DataFrame with capped values.\n",
    "        pd.Series: Percentage of outliers for each column.\n",
    "    \"\"\"\n",
    "    df_capped = df.copy()\n",
    "    outlier_percentages = {}\n",
    "\n",
    "    for col in columns:\n",
    "        mean = df[col].mean()\n",
    "        std = df[col].std()\n",
    "        lower_bound = mean - 3 * std\n",
    "        upper_bound = mean + 3 * std\n",
    "\n",
    "        # Calculate outlier percentage\n",
    "        num_outliers = ((df[col] < lower_bound) | (df[col] > upper_bound)).sum()\n",
    "        outlier_percentages[col] = (num_outliers / len(df)) * 100\n",
    "\n",
    "        # Apply capping\n",
    "        df_capped[col] = df[col].clip(lower=lower_bound, upper=upper_bound)\n",
    "\n",
    "    return df_capped, pd.Series(outlier_percentages, name=\"Outlier Percentage\")"
   ]
  },
  {
   "cell_type": "code",
   "execution_count": 98,
   "metadata": {},
   "outputs": [],
   "source": [
    "# функция исключает аномалии методом 3-сигм\n",
    "def cap_outliers_3sigma(df, columns):\n",
    "    \"\"\"\n",
    "    Caps values in specified columns at the 3-sigma threshold and calculates the percentage of outliers.\n",
    "    \n",
    "    Parameters:\n",
    "        df (pd.DataFrame): The input DataFrame.\n",
    "        columns (list): List of column names to cap.\n",
    "    \n",
    "    Returns:\n",
    "        pd.DataFrame: DataFrame with capped values.\n",
    "        pd.Series: Percentage of outliers for each column.\n",
    "    \"\"\"\n",
    "    df_capped = df.copy()\n",
    "    outlier_percentages = {}\n",
    "\n",
    "    for col in columns:\n",
    "        mean = df[col].mean()\n",
    "        std = df[col].std()\n",
    "        lower_bound = mean - 3 * std\n",
    "        upper_bound = mean + 3 * std\n",
    "\n",
    "        # Calculate outlier percentage\n",
    "        num_outliers = ((df[col] < lower_bound) | (df[col] > upper_bound)).sum()\n",
    "        outlier_percentages[col] = (num_outliers / len(df)) * 100\n",
    "\n",
    "        # Apply capping\n",
    "        df_capped[col] = df[col].clip(lower=lower_bound, upper=upper_bound)\n",
    "\n",
    "    return df_capped, pd.Series(outlier_percentages, name=\"Outlier Percentage\")"
   ]
  },
  {
   "cell_type": "markdown",
   "metadata": {},
   "source": [
    "## Предобработка"
   ]
  },
  {
   "cell_type": "markdown",
   "metadata": {},
   "source": [
    "### Основной датасет applications"
   ]
  },
  {
   "cell_type": "code",
   "execution_count": 99,
   "metadata": {},
   "outputs": [],
   "source": [
    "if 'app_train' in locals():\n",
    "    del(app_train)\n",
    "\n",
    "if 'app_test' in locals():\n",
    "    del(app_test)\n",
    "\n",
    "app_train = pd.read_csv('../Kaggle/home-credit-default-risk/input/application_train.csv')"
   ]
  },
  {
   "cell_type": "code",
   "execution_count": 100,
   "metadata": {},
   "outputs": [
    {
     "data": {
      "text/plain": [
       "<Axes: >"
      ]
     },
     "execution_count": 100,
     "metadata": {},
     "output_type": "execute_result"
    },
    {
     "data": {
      "image/png": "[encoded data removed]",
      "text/plain": [
       "<Figure size 640x480 with 2 Axes>"
      ]
     },
     "metadata": {},
     "output_type": "display_data"
    }
   ],
   "source": [
    "# корреляции признаков в основном датасете\n",
    "binary_cols_proposal, categorical_cols_proposal, numerical_cols_proposal = columns_types_assumption(app_train)\n",
    "corr_columns = list(set(numerical_cols_proposal)-set(['TARGET','SK_ID_CURR']))\n",
    "corr_matrix = app_train[corr_columns].corr(numeric_only = True, method='pearson')\n",
    "mask = np.triu(np.ones_like(corr_matrix, dtype=bool))\n",
    "sns.heatmap(corr_matrix,mask=mask)"
   ]
  },
  {
   "cell_type": "code",
   "execution_count": 101,
   "metadata": {},
   "outputs": [],
   "source": [
    "# credit ratios\n",
    "app_train_orig = app_train.copy()\n",
    "app_train_orig['APPS_ANNUITY_CREDIT_RATIO'] = app_train_orig['AMT_ANNUITY']/app_train_orig['AMT_CREDIT']\n",
    "app_train_orig['APPS_EXT_SOURCE_MEAN'] = app_train_orig[['EXT_SOURCE_1', 'EXT_SOURCE_2', 'EXT_SOURCE_3']].mean(axis = 1)\n",
    "app_train_orig['APPS_EXT_SOURCE_STD'] = app_train_orig[['EXT_SOURCE_1', 'EXT_SOURCE_2', 'EXT_SOURCE_3']].std(axis=1)\n",
    "app_train_orig['APPS_EXT_SOURCE_STD'] = app_train_orig['APPS_EXT_SOURCE_STD'].fillna(app_train_orig['APPS_EXT_SOURCE_STD'].mean())\n",
    "app_train_orig['APPS_GOODS_CREDIT_RATIO'] = app_train_orig['AMT_GOODS_PRICE']/app_train_orig['AMT_CREDIT']\n",
    "app_train_orig['APPS_ANNUITY_INCOME_RATIO'] = app_train_orig['AMT_ANNUITY']/app_train_orig['AMT_INCOME_TOTAL']\n",
    "app_train_orig['APPS_INCOME_EMPLOYED_RATIO'] = app_train_orig['AMT_INCOME_TOTAL']/app_train_orig['DAYS_EMPLOYED']\n",
    "app_train_orig['APPS_EMPLOYED_BIRTH_RATIO'] = app_train_orig['DAYS_EMPLOYED']/app_train_orig['DAYS_BIRTH']\n",
    "\n",
    "app_train_orig['APPS_CAR_EMPLOYED_RATIO'] = app_train_orig['OWN_CAR_AGE'] / app_train_orig['DAYS_EMPLOYED']\n",
    "app_train_orig['APPS_INCOME_BIRTH_RATIO'] = app_train_orig['AMT_INCOME_TOTAL']/app_train_orig['DAYS_BIRTH']\n",
    "\n",
    "app_columns = app_train_orig.columns"
   ]
  },
  {
   "cell_type": "markdown",
   "metadata": {},
   "source": [
    "### Бюро кредитных историй bureau_df"
   ]
  },
  {
   "cell_type": "code",
   "execution_count": 102,
   "metadata": {},
   "outputs": [],
   "source": [
    "# difference and date ratio between the planned debt start and completion date and the actual debt completion date\n",
    "bureau_df['BUREAU_ENDDATE_FACT_DIFF'] = bureau_df['DAYS_CREDIT_ENDDATE'] - bureau_df['DAYS_ENDDATE_FACT']\n",
    "bureau_df['BUREAU_CREDIT_FACT_DIFF'] = bureau_df['DAYS_CREDIT'] - bureau_df['DAYS_ENDDATE_FACT']\n",
    "bureau_df['BUREAU_CREDIT_ENDDATE_DIFF'] = bureau_df['DAYS_CREDIT'] - bureau_df['DAYS_CREDIT_ENDDATE']\n",
    "\n",
    "bureau_df['BUREAU_CREDIT_DEBT_RATIO']=bureau_df['AMT_CREDIT_SUM_DEBT']/bureau_df['AMT_CREDIT_SUM']\n",
    "bureau_df['BUREAU_CREDIT_DEBT_DIFF'] = bureau_df['AMT_CREDIT_SUM_DEBT'] - bureau_df['AMT_CREDIT_SUM']\n",
    "\n",
    "bureau_df['BUREAU_IS_DPD'] = bureau_df['CREDIT_DAY_OVERDUE'].apply(lambda x: 1 if x > 0 else 0)\n",
    "bureau_df['BUREAU_IS_DPD_OVER120'] = bureau_df['CREDIT_DAY_OVERDUE'].apply(lambda x: 1 if x >120 else 0)"
   ]
  },
  {
   "cell_type": "code",
   "execution_count": 103,
   "metadata": {},
   "outputs": [],
   "source": [
    "# аггрегированные показатели\n",
    "bureau_agg_dict = {\n",
    "'SK_ID_BUREAU':['count'],\n",
    "'DAYS_CREDIT':['min', 'max', 'mean'],\n",
    "'CREDIT_DAY_OVERDUE':['min', 'max', 'mean'],\n",
    "'DAYS_CREDIT_ENDDATE':['min', 'max', 'mean'],\n",
    "'DAYS_ENDDATE_FACT':['min', 'max', 'mean'],\n",
    "'AMT_CREDIT_MAX_OVERDUE': ['max', 'mean'],\n",
    "'AMT_CREDIT_SUM': ['max', 'mean', 'sum'],\n",
    "'AMT_CREDIT_SUM_DEBT': ['max', 'mean', 'sum'],\n",
    "'AMT_CREDIT_SUM_OVERDUE': ['max', 'mean', 'sum'],\n",
    "'AMT_ANNUITY': ['max', 'mean', 'sum'],\n",
    "\n",
    "'BUREAU_ENDDATE_FACT_DIFF':['min', 'max', 'mean'],\n",
    "'BUREAU_CREDIT_FACT_DIFF':['min', 'max', 'mean'],\n",
    "'BUREAU_CREDIT_ENDDATE_DIFF':['min', 'max', 'mean'],\n",
    "'BUREAU_CREDIT_DEBT_RATIO':['min', 'max', 'mean'],\n",
    "'BUREAU_CREDIT_DEBT_DIFF':['min', 'max', 'mean'],\n",
    "'BUREAU_IS_DPD':['mean', 'sum'],\n",
    "'BUREAU_IS_DPD_OVER120':['mean', 'sum']\n",
    "}\n",
    "\n",
    "bureau_grp = bureau_df.groupby('SK_ID_CURR')\n",
    "bureau_amt_agg = bureau_grp.agg(bureau_agg_dict)\n",
    "bureau_amt_agg.columns = ['BUREAU_'+('_').join(column).upper() for column in bureau_amt_agg.columns.ravel()]\n",
    "bureau_amt_agg = bureau_amt_agg.reset_index()"
   ]
  },
  {
   "cell_type": "code",
   "execution_count": 104,
   "metadata": {},
   "outputs": [],
   "source": [
    "bureau_amt_agg_cols = bureau_amt_agg.columns"
   ]
  },
  {
   "cell_type": "code",
   "execution_count": 105,
   "metadata": {},
   "outputs": [],
   "source": [
    "# аггрегированные, касающиеся только активных кредитов  \n",
    "cond_active = bureau_df['CREDIT_ACTIVE'] == 'Active'\n",
    "bureau_active_grp = bureau_df[cond_active].groupby(['SK_ID_CURR'])\n",
    "bureau_agg_dict = {\n",
    "    'SK_ID_BUREAU':['count'],\n",
    "    'DAYS_CREDIT':['min', 'max', 'mean'],\n",
    "    'CREDIT_DAY_OVERDUE':['min', 'max', 'mean'],\n",
    "    'DAYS_CREDIT_ENDDATE':['min', 'max', 'mean'],\n",
    "    'DAYS_ENDDATE_FACT':['min', 'max', 'mean'],\n",
    "    'AMT_CREDIT_MAX_OVERDUE': ['max', 'mean'],\n",
    "    'AMT_CREDIT_SUM': ['max', 'mean', 'sum'],\n",
    "    'AMT_CREDIT_SUM_DEBT': ['max', 'mean', 'sum'],\n",
    "    'AMT_CREDIT_SUM_OVERDUE': ['max', 'mean', 'sum'],\n",
    "    'AMT_ANNUITY': ['max', 'mean', 'sum'],    \n",
    "    'BUREAU_ENDDATE_FACT_DIFF':['min', 'max', 'mean'],\n",
    "    'BUREAU_CREDIT_FACT_DIFF':['min', 'max', 'mean'],\n",
    "    'BUREAU_CREDIT_ENDDATE_DIFF':['min', 'max', 'mean'],\n",
    "    'BUREAU_CREDIT_DEBT_RATIO':['min', 'max', 'mean'],\n",
    "    'BUREAU_CREDIT_DEBT_DIFF':['min', 'max', 'mean'],\n",
    "    'BUREAU_IS_DPD':['mean', 'sum'],\n",
    "    'BUREAU_IS_DPD_OVER120':['mean', 'sum']\n",
    "    }\n",
    "bureau_active_agg = bureau_active_grp.agg(bureau_agg_dict)\n",
    "bureau_active_agg.columns = ['BUREAU_ACT_'+('_').join(column).upper() for column in bureau_active_agg.columns.ravel()]\n",
    "bureau_active_agg = bureau_active_agg.reset_index()"
   ]
  },
  {
   "cell_type": "code",
   "execution_count": 106,
   "metadata": {},
   "outputs": [],
   "source": [
    "bureau_active_agg_cols = bureau_amt_agg.columns"
   ]
  },
  {
   "cell_type": "markdown",
   "metadata": {},
   "source": [
    "### Предыдущие заявки previous_application_df"
   ]
  },
  {
   "cell_type": "code",
   "execution_count": 107,
   "metadata": {},
   "outputs": [],
   "source": [
    "# кредитные показатели для предыдущих заявок\n",
    "previous_application_df['PREV_CREDIT_DIFF'] = previous_application_df['AMT_APPLICATION'] - previous_application_df['AMT_CREDIT']\n",
    "previous_application_df['PREV_GOODS_DIFF'] = previous_application_df['AMT_APPLICATION'] - previous_application_df['AMT_GOODS_PRICE']\n",
    "previous_application_df['PREV_CREDIT_APPL_RATIO'] = previous_application_df['AMT_CREDIT']/previous_application_df['AMT_APPLICATION']\n",
    "previous_application_df['PREV_GOODS_APPL_RATIO'] = previous_application_df['AMT_GOODS_PRICE']/previous_application_df['AMT_APPLICATION']\n",
    "\n",
    "# процентная ставка\n",
    "previous_application_df['all_pay'] = previous_application_df['AMT_ANNUITY'] * previous_application_df['CNT_PAYMENT']\n",
    "previous_application_df['PREV_INTERESTS_RATE'] = (previous_application_df['all_pay']/previous_application_df['AMT_CREDIT'] - 1)/previous_application_df['CNT_PAYMENT']"
   ]
  },
  {
   "cell_type": "code",
   "execution_count": 108,
   "metadata": {},
   "outputs": [],
   "source": [
    "# аггрегированные показатели\n",
    "agg_dict = {    \n",
    "    'SK_ID_CURR':['count'],\n",
    "    'AMT_CREDIT':['mean', 'max', 'sum'],\n",
    "    'AMT_ANNUITY':['mean', 'max', 'sum'], \n",
    "    'AMT_APPLICATION':['mean', 'max', 'sum'],\n",
    "    'AMT_DOWN_PAYMENT':['mean', 'max', 'sum'],\n",
    "    'AMT_GOODS_PRICE':['mean', 'max', 'sum'],\n",
    "    'RATE_DOWN_PAYMENT': ['min', 'max', 'mean'],\n",
    "    'DAYS_DECISION': ['min', 'max', 'mean'],\n",
    "    'CNT_PAYMENT': ['mean', 'sum'],\n",
    "    'PREV_CREDIT_DIFF':['mean', 'max', 'sum'], \n",
    "    'PREV_CREDIT_APPL_RATIO':['mean', 'max'],\n",
    "    'PREV_GOODS_DIFF':['mean', 'max', 'sum'],\n",
    "    'PREV_GOODS_APPL_RATIO':['mean', 'max'],    \n",
    "    'PREV_INTERESTS_RATE':['mean', 'max']\n",
    "}\n",
    "\n",
    "previous_application_group_df = previous_application_df.groupby('SK_ID_CURR')\n",
    "previous_amt_agg = previous_application_group_df.agg(agg_dict)\n",
    "previous_amt_agg.columns = [\"PREV_\"+ \"_\".join(x).upper() for x in previous_amt_agg.columns.ravel()]"
   ]
  },
  {
   "cell_type": "code",
   "execution_count": 109,
   "metadata": {},
   "outputs": [],
   "source": [
    "# аггрегированные показатели отказов\n",
    "prev_refused_appr_group = previous_application_df[previous_application_df['NAME_CONTRACT_STATUS'].isin(['Approved', 'Refused'])].groupby([ 'SK_ID_CURR', 'NAME_CONTRACT_STATUS'])\n",
    "# unstack() \n",
    "prev_refused_appr_agg = prev_refused_appr_group['SK_ID_CURR'].count().unstack()\n",
    "\n",
    "# rename column \n",
    "prev_refused_appr_agg.columns = ['PREV_APPROVED_COUNT', 'PREV_REFUSED_COUNT' ]\n",
    "prev_refused_appr_agg = prev_refused_appr_agg.fillna(0)\n",
    "\n",
    "# prev_refused_appr_agg"
   ]
  },
  {
   "cell_type": "code",
   "execution_count": 110,
   "metadata": {},
   "outputs": [],
   "source": [
    "# соединяем агрегированные таблицы\n",
    "prev_agg = previous_amt_agg.merge(prev_refused_appr_agg, on='SK_ID_CURR', how='left')\n",
    "prev_agg['PREV_REFUSED_RATIO'] = prev_agg['PREV_REFUSED_COUNT']/prev_agg['PREV_SK_ID_CURR_COUNT']\n",
    "prev_agg = prev_agg.drop(['PREV_REFUSED_COUNT', 'PREV_APPROVED_COUNT'], axis=1)"
   ]
  },
  {
   "cell_type": "code",
   "execution_count": 111,
   "metadata": {},
   "outputs": [],
   "source": [
    "prev_agg_cols = prev_agg.columns\n",
    "# prev_agg_cols"
   ]
  },
  {
   "cell_type": "markdown",
   "metadata": {},
   "source": [
    "### Соединяем в один датасет"
   ]
  },
  {
   "cell_type": "code",
   "execution_count": 112,
   "metadata": {},
   "outputs": [
    {
     "name": "stdout",
     "output_type": "stream",
     "text": [
      "original dataset shape: (307511, 122)\n",
      "extended dataset shape: (307511, 131)\n",
      "apps_all after merge with prev_agg shape: (307511, 168)\n",
      "apps_all after merge with bureau_amt_agg shape: (307511, 214)\n",
      "apps_all after merge with bureau_active_agg shape: (307511, 260)\n"
     ]
    }
   ],
   "source": [
    "print('original dataset shape:', app_train.shape)\n",
    "print('extended dataset shape:', app_train_orig.shape)\n",
    "\n",
    "apps_all = app_train_orig.merge(prev_agg, on='SK_ID_CURR', how='left')\n",
    "print('apps_all after merge with prev_agg shape:', apps_all.shape)\n",
    "apps_all = apps_all.merge(bureau_amt_agg, on='SK_ID_CURR', how='left')\n",
    "print('apps_all after merge with bureau_amt_agg shape:', apps_all.shape)\n",
    "apps_all = apps_all.merge(bureau_active_agg, on='SK_ID_CURR', how='left')\n",
    "print('apps_all after merge with bureau_active_agg shape:', apps_all.shape)"
   ]
  },
  {
   "cell_type": "markdown",
   "metadata": {},
   "source": [
    "### EDA расширенного датасета "
   ]
  },
  {
   "cell_type": "markdown",
   "metadata": {},
   "source": [
    "#### Предварительные преобразования"
   ]
  },
  {
   "cell_type": "markdown",
   "metadata": {},
   "source": [
    "несколько базовых преобразований исходя из предыдущего анализа:\n",
    "1. Меппинг CODE_GENDER\n",
    "2. Бесконечные значения\n",
    "3. Группировка OCCUPATION_TYPE, ORGANIZATION_TYPE"
   ]
  },
  {
   "cell_type": "code",
   "execution_count": 113,
   "metadata": {},
   "outputs": [],
   "source": [
    "apps_all['CODE_GENDER'] = apps_all['CODE_GENDER'].map({'F': 1, 'M': 0, 'XNA': 1, 1: 1, 0: 0})"
   ]
  },
  {
   "cell_type": "code",
   "execution_count": 114,
   "metadata": {},
   "outputs": [
    {
     "name": "stdout",
     "output_type": "stream",
     "text": [
      "201628\n"
     ]
    }
   ],
   "source": [
    "# Check for infinity\n",
    "binary_cols_proposal, categorical_cols_proposal, numerical_cols_proposal = columns_types_assumption(apps_all)\n",
    "print(np.isinf(apps_all[numerical_cols_proposal]).sum().sum()) # Count infinite values in each column\n",
    "apps_all.replace([np.inf, -np.inf], np.nan, inplace=True)"
   ]
  },
  {
   "cell_type": "code",
   "execution_count": 115,
   "metadata": {},
   "outputs": [],
   "source": [
    "occupation_mapping = {\n",
    "    \"Laborers\": \"Low-Skilled Labor & Services\",\n",
    "    \"Low-skill Laborers\": \"Low-Skilled Labor & Services\",\n",
    "    \"Cleaning staff\": \"Low-Skilled Labor & Services\",\n",
    "    \"Cooking staff\": \"Low-Skilled Labor & Services\",\n",
    "    \"Waiters/barmen staff\": \"Low-Skilled Labor & Services\",\n",
    "    \"Private service staff\": \"Low-Skilled Labor & Services\",\n",
    "    \"Drivers\": \"Low-Skilled Labor & Services\",\n",
    "    \"Security staff\": \"Low-Skilled Labor & Services\",\n",
    "\n",
    "    \"Core staff\": \"Skilled Technical & Professional Roles\",\n",
    "    \"Accountants\": \"Skilled Technical & Professional Roles\",\n",
    "    \"Sales staff\": \"Skilled Technical & Professional Roles\",\n",
    "    \"Medicine staff\": \"Skilled Technical & Professional Roles\",\n",
    "    \"High skill tech staff\": \"Skilled Technical & Professional Roles\",\n",
    "    \"IT staff\": \"Skilled Technical & Professional Roles\",\n",
    "    \"Realty agents\": \"Skilled Technical & Professional Roles\",\n",
    "    \"Secretaries\": \"Skilled Technical & Professional Roles\",\n",
    "    \"HR staff\": \"Skilled Technical & Professional Roles\",\n",
    "\n",
    "    \"Managers\": \"Management & Leadership\"\n",
    "}\n",
    "\n",
    "if \"OCCUPATION_TYPE\" in apps_all.columns:\n",
    "    apps_all['OCCUPATION_TYPE_GRP'] = apps_all['OCCUPATION_TYPE'].map(occupation_mapping)\n",
    "    apps_all.drop(columns='OCCUPATION_TYPE',inplace=True)\n"
   ]
  },
  {
   "cell_type": "code",
   "execution_count": 116,
   "metadata": {},
   "outputs": [],
   "source": [
    "category_mapping = {\n",
    "    \"Government\": \"Public Services\",\n",
    "    \"Security Ministries\": \"Public Services\",\n",
    "    \"Police\": \"Public Services\",\n",
    "    \"Military\": \"Public Services\",\n",
    "    \"Emergency\": \"Public Services\",\n",
    "    \"Postal\": \"Public Services\",\n",
    "    \n",
    "    \"School\": \"Education\",\n",
    "    \"Kindergarten\": \"Education\",\n",
    "    \"University\": \"Education\",\n",
    "\n",
    "    \"Medicine\": \"Healthcare\",\n",
    "    \n",
    "    \"Trade: type 1\": \"Trade & Retail\",\n",
    "    \"Trade: type 2\": \"Trade & Retail\",\n",
    "    \"Trade: type 3\": \"Trade & Retail\",\n",
    "    \"Trade: type 4\": \"Trade & Retail\",\n",
    "    \"Trade: type 5\": \"Trade & Retail\",\n",
    "    \"Trade: type 6\": \"Trade & Retail\",\n",
    "    \"Trade: type 7\": \"Trade & Retail\",\n",
    "\n",
    "    \"Transport: type 1\": \"Transportation\",\n",
    "    \"Transport: type 2\": \"Transportation\",\n",
    "    \"Transport: type 3\": \"Transportation\",\n",
    "    \"Transport: type 4\": \"Transportation\",\n",
    "\n",
    "    \"Industry: type 1\": \"Industry & Manufacturing\",\n",
    "    \"Industry: type 2\": \"Industry & Manufacturing\",\n",
    "    \"Industry: type 3\": \"Industry & Manufacturing\",\n",
    "    \"Industry: type 4\": \"Industry & Manufacturing\",\n",
    "    \"Industry: type 5\": \"Industry & Manufacturing\",\n",
    "    \"Industry: type 6\": \"Industry & Manufacturing\",\n",
    "    \"Industry: type 7\": \"Industry & Manufacturing\",\n",
    "    \"Industry: type 8\": \"Industry & Manufacturing\",\n",
    "    \"Industry: type 9\": \"Industry & Manufacturing\",\n",
    "    \"Industry: type 10\": \"Industry & Manufacturing\",\n",
    "    \"Industry: type 11\": \"Industry & Manufacturing\",\n",
    "    \"Industry: type 12\": \"Industry & Manufacturing\",\n",
    "    \"Industry: type 13\": \"Industry & Manufacturing\",\n",
    "    \"Construction\": \"Industry & Manufacturing\",\n",
    "\n",
    "    \"Bank\": \"Finance & Business\",\n",
    "    \"Insurance\": \"Finance & Business\",\n",
    "    \"Legal Services\": \"Finance & Business\",\n",
    "    \"Business Entity Type 1\": \"Finance & Business\",\n",
    "    \"Business Entity Type 2\": \"Finance & Business\",\n",
    "    \"Business Entity Type 3\": \"Finance & Business\",\n",
    "    \"Realtor\": \"Finance & Business\",\n",
    "\n",
    "    \"Self-employed\": \"Self-Employment & Services\",\n",
    "    \"Cleaning\": \"Self-Employment & Services\",\n",
    "    \"Security\": \"Self-Employment & Services\",\n",
    "    \"Advertising\": \"Self-Employment & Services\",\n",
    "    \"Telecom\": \"Self-Employment & Services\",\n",
    "    \"Mobile\": \"Self-Employment & Services\",\n",
    "\n",
    "    \"Hotel\": \"Hospitality & Leisure\",\n",
    "    \"Restaurant\": \"Hospitality & Leisure\",\n",
    "    \"Culture\": \"Hospitality & Leisure\",\n",
    "\n",
    "    \"Electricity\": \"Energy & Utilities\",\n",
    "    \n",
    "    \"Other\": \"Other / Unknown\",\n",
    "    \"XNA\": \"Other / Unknown\"\n",
    "}\n",
    "\n",
    "if \"ORGANIZATION_TYPE\" in apps_all.columns:\n",
    "    apps_all['ORGANIZATION_TYPE_GRP'] = apps_all['ORGANIZATION_TYPE'].map(category_mapping)\n",
    "    apps_all.drop(columns='ORGANIZATION_TYPE',inplace=True)"
   ]
  },
  {
   "cell_type": "markdown",
   "metadata": {},
   "source": [
    "### типы данных"
   ]
  },
  {
   "cell_type": "code",
   "execution_count": 117,
   "metadata": {},
   "outputs": [
    {
     "data": {
      "text/plain": [
       "float64    203\n",
       "int64       42\n",
       "object      15\n",
       "Name: count, dtype: int64"
      ]
     },
     "execution_count": 117,
     "metadata": {},
     "output_type": "execute_result"
    }
   ],
   "source": [
    "apps_all.dtypes.value_counts()"
   ]
  },
  {
   "cell_type": "code",
   "execution_count": 118,
   "metadata": {},
   "outputs": [
    {
     "name": "stdout",
     "output_type": "stream",
     "text": [
      "260\n",
      "260\n",
      "[]\n",
      "[]\n"
     ]
    }
   ],
   "source": [
    "binary_cols_proposal, categorical_cols_proposal, numerical_cols_proposal = columns_types_assumption(apps_all)\n",
    "print(len(apps_all.columns))\n",
    "print(len(binary_cols_proposal)+len(categorical_cols_proposal)+len(numerical_cols_proposal))\n",
    "print(list(set(binary_cols_proposal)&set(categorical_cols_proposal)&set(numerical_cols_proposal)))\n",
    "print(list(set(apps_all)-set(binary_cols_proposal)-set(categorical_cols_proposal)-set(numerical_cols_proposal)))"
   ]
  },
  {
   "cell_type": "markdown",
   "metadata": {},
   "source": [
    "проверилил, что все колонки разметились в один из типов"
   ]
  },
  {
   "cell_type": "code",
   "execution_count": 119,
   "metadata": {},
   "outputs": [
    {
     "name": "stdout",
     "output_type": "stream",
     "text": [
      "app features: 131\n",
      "bureau_amt_agg features: 47\n",
      "bureau_active_agg features: 47\n",
      "prev_agg features: 37\n",
      "Total features: 259\n"
     ]
    }
   ],
   "source": [
    "print(f\"app features: {len(app_columns)}\")\n",
    "print(f\"bureau_amt_agg features: {len(bureau_amt_agg_cols)}\")\n",
    "print(f\"bureau_active_agg features: {len(bureau_active_agg_cols)}\")\n",
    "print(f\"prev_agg features: {len(prev_agg_cols)}\")\n",
    "\n",
    "print(f\"Total features: {len(app_columns)+len(bureau_amt_agg_cols) + len(bureau_active_agg_cols) + len(prev_agg_cols) - 3}\")"
   ]
  },
  {
   "cell_type": "markdown",
   "metadata": {},
   "source": [
    "### Обработка аномалий"
   ]
  },
  {
   "cell_type": "markdown",
   "metadata": {},
   "source": [
    "метод межквартильного разброса"
   ]
  },
  {
   "cell_type": "code",
   "execution_count": 120,
   "metadata": {},
   "outputs": [],
   "source": [
    "outlier_cols_IQR = []\n",
    "\n",
    "for col in numerical_cols_proposal:  # Consider only numerical columns\n",
    "    Q1 = apps_all[col].quantile(0.25)\n",
    "    Q3 = apps_all[col].quantile(0.75)\n",
    "    IQR = Q3 - Q1\n",
    "    lower_bound = Q1 - 1.5 * IQR\n",
    "    upper_bound = Q3 + 1.5 * IQR\n",
    "    outliers = apps_all[(apps_all[col] < lower_bound) | (apps_all[col] > upper_bound)]\n",
    "    \n",
    "if not outliers.empty:\n",
    "    outlier_cols_IQR.append(col)   \n"
   ]
  },
  {
   "cell_type": "code",
   "execution_count": 121,
   "metadata": {},
   "outputs": [
    {
     "name": "stdout",
     "output_type": "stream",
     "text": [
      "Columns with outliers (IRQ method):\n",
      "['BUREAU_ACT_BUREAU_IS_DPD_OVER120_SUM']\n"
     ]
    }
   ],
   "source": [
    "print(f\"Columns with outliers (IRQ method):\\n{outlier_cols_IQR}\")\n"
   ]
  },
  {
   "cell_type": "code",
   "execution_count": 122,
   "metadata": {},
   "outputs": [],
   "source": [
    "from scipy.stats import zscore\n",
    "\n",
    "threshold=3\n",
    "outlier_cols_Z_sc = []\n",
    "\n",
    "for col in numerical_cols_proposal:  # Consider only numerical columns\n",
    "    z_scores = zscore(apps_all[col].dropna())  # Drop NaNs to avoid errors\n",
    "    if (abs(z_scores) > threshold).sum() > 0:\n",
    "        outlier_cols_Z_sc.append(col)    "
   ]
  },
  {
   "cell_type": "code",
   "execution_count": 123,
   "metadata": {},
   "outputs": [
    {
     "name": "stdout",
     "output_type": "stream",
     "text": [
      "Columns with outliers (Z-score method):\n",
      "['CNT_CHILDREN', 'AMT_INCOME_TOTAL', 'AMT_CREDIT', 'AMT_ANNUITY', 'AMT_GOODS_PRICE', 'REGION_POPULATION_RELATIVE', 'DAYS_REGISTRATION', 'OWN_CAR_AGE', 'CNT_FAM_MEMBERS', 'HOUR_APPR_PROCESS_START', 'APARTMENTS_AVG', 'BASEMENTAREA_AVG', 'YEARS_BEGINEXPLUATATION_AVG', 'YEARS_BUILD_AVG', 'COMMONAREA_AVG', 'ELEVATORS_AVG', 'ENTRANCES_AVG', 'FLOORSMAX_AVG', 'FLOORSMIN_AVG', 'LANDAREA_AVG', 'LIVINGAPARTMENTS_AVG', 'LIVINGAREA_AVG', 'NONLIVINGAPARTMENTS_AVG', 'NONLIVINGAREA_AVG', 'APARTMENTS_MODE', 'BASEMENTAREA_MODE', 'YEARS_BEGINEXPLUATATION_MODE', 'YEARS_BUILD_MODE', 'COMMONAREA_MODE', 'ELEVATORS_MODE', 'ENTRANCES_MODE', 'FLOORSMAX_MODE', 'FLOORSMIN_MODE', 'LANDAREA_MODE', 'LIVINGAPARTMENTS_MODE', 'LIVINGAREA_MODE', 'NONLIVINGAPARTMENTS_MODE', 'NONLIVINGAREA_MODE', 'APARTMENTS_MEDI', 'BASEMENTAREA_MEDI', 'YEARS_BEGINEXPLUATATION_MEDI', 'YEARS_BUILD_MEDI', 'COMMONAREA_MEDI', 'ELEVATORS_MEDI', 'ENTRANCES_MEDI', 'FLOORSMAX_MEDI', 'FLOORSMIN_MEDI', 'LANDAREA_MEDI', 'LIVINGAPARTMENTS_MEDI', 'LIVINGAREA_MEDI', 'NONLIVINGAPARTMENTS_MEDI', 'NONLIVINGAREA_MEDI', 'TOTALAREA_MODE', 'OBS_30_CNT_SOCIAL_CIRCLE', 'DEF_30_CNT_SOCIAL_CIRCLE', 'OBS_60_CNT_SOCIAL_CIRCLE', 'DEF_60_CNT_SOCIAL_CIRCLE', 'DAYS_LAST_PHONE_CHANGE', 'AMT_REQ_CREDIT_BUREAU_HOUR', 'AMT_REQ_CREDIT_BUREAU_DAY', 'AMT_REQ_CREDIT_BUREAU_WEEK', 'AMT_REQ_CREDIT_BUREAU_MON', 'AMT_REQ_CREDIT_BUREAU_QRT', 'AMT_REQ_CREDIT_BUREAU_YEAR', 'APPS_ANNUITY_CREDIT_RATIO', 'APPS_EXT_SOURCE_MEAN', 'APPS_EXT_SOURCE_STD', 'APPS_GOODS_CREDIT_RATIO', 'APPS_ANNUITY_INCOME_RATIO', 'APPS_INCOME_EMPLOYED_RATIO', 'APPS_EMPLOYED_BIRTH_RATIO', 'APPS_CAR_EMPLOYED_RATIO', 'APPS_INCOME_BIRTH_RATIO', 'PREV_SK_ID_CURR_COUNT', 'PREV_AMT_CREDIT_MEAN', 'PREV_AMT_CREDIT_MAX', 'PREV_AMT_CREDIT_SUM', 'PREV_AMT_ANNUITY_MEAN', 'PREV_AMT_ANNUITY_MAX', 'PREV_AMT_ANNUITY_SUM', 'PREV_AMT_APPLICATION_MEAN', 'PREV_AMT_APPLICATION_MAX', 'PREV_AMT_APPLICATION_SUM', 'PREV_AMT_DOWN_PAYMENT_MEAN', 'PREV_AMT_DOWN_PAYMENT_MAX', 'PREV_AMT_DOWN_PAYMENT_SUM', 'PREV_AMT_GOODS_PRICE_MEAN', 'PREV_AMT_GOODS_PRICE_MAX', 'PREV_AMT_GOODS_PRICE_SUM', 'PREV_RATE_DOWN_PAYMENT_MIN', 'PREV_RATE_DOWN_PAYMENT_MAX', 'PREV_RATE_DOWN_PAYMENT_MEAN', 'PREV_DAYS_DECISION_MAX', 'PREV_DAYS_DECISION_MEAN', 'PREV_CNT_PAYMENT_MEAN', 'PREV_CNT_PAYMENT_SUM', 'PREV_PREV_CREDIT_DIFF_MEAN', 'PREV_PREV_CREDIT_DIFF_MAX', 'PREV_PREV_CREDIT_DIFF_SUM', 'PREV_PREV_CREDIT_APPL_RATIO_MEAN', 'PREV_PREV_CREDIT_APPL_RATIO_MAX', 'PREV_PREV_GOODS_DIFF_MEAN', 'PREV_PREV_GOODS_DIFF_MAX', 'PREV_PREV_GOODS_DIFF_SUM', 'PREV_PREV_GOODS_APPL_RATIO_MEAN', 'PREV_PREV_GOODS_APPL_RATIO_MAX', 'PREV_PREV_INTERESTS_RATE_MEAN', 'PREV_PREV_INTERESTS_RATE_MAX', 'PREV_REFUSED_RATIO', 'BUREAU_SK_ID_BUREAU_COUNT', 'BUREAU_DAYS_CREDIT_MAX', 'BUREAU_DAYS_CREDIT_MEAN', 'BUREAU_CREDIT_DAY_OVERDUE_MIN', 'BUREAU_CREDIT_DAY_OVERDUE_MAX', 'BUREAU_CREDIT_DAY_OVERDUE_MEAN', 'BUREAU_DAYS_CREDIT_ENDDATE_MIN', 'BUREAU_DAYS_CREDIT_ENDDATE_MAX', 'BUREAU_DAYS_CREDIT_ENDDATE_MEAN', 'BUREAU_DAYS_ENDDATE_FACT_MIN', 'BUREAU_DAYS_ENDDATE_FACT_MAX', 'BUREAU_DAYS_ENDDATE_FACT_MEAN', 'BUREAU_AMT_CREDIT_MAX_OVERDUE_MAX', 'BUREAU_AMT_CREDIT_MAX_OVERDUE_MEAN', 'BUREAU_AMT_CREDIT_SUM_MAX', 'BUREAU_AMT_CREDIT_SUM_MEAN', 'BUREAU_AMT_CREDIT_SUM_SUM', 'BUREAU_AMT_CREDIT_SUM_DEBT_MAX', 'BUREAU_AMT_CREDIT_SUM_DEBT_MEAN', 'BUREAU_AMT_CREDIT_SUM_DEBT_SUM', 'BUREAU_AMT_CREDIT_SUM_OVERDUE_MAX', 'BUREAU_AMT_CREDIT_SUM_OVERDUE_MEAN', 'BUREAU_AMT_CREDIT_SUM_OVERDUE_SUM', 'BUREAU_AMT_ANNUITY_MAX', 'BUREAU_AMT_ANNUITY_MEAN', 'BUREAU_AMT_ANNUITY_SUM', 'BUREAU_BUREAU_ENDDATE_FACT_DIFF_MIN', 'BUREAU_BUREAU_ENDDATE_FACT_DIFF_MAX', 'BUREAU_BUREAU_ENDDATE_FACT_DIFF_MEAN', 'BUREAU_BUREAU_CREDIT_FACT_DIFF_MIN', 'BUREAU_BUREAU_CREDIT_FACT_DIFF_MAX', 'BUREAU_BUREAU_CREDIT_FACT_DIFF_MEAN', 'BUREAU_BUREAU_CREDIT_ENDDATE_DIFF_MIN', 'BUREAU_BUREAU_CREDIT_ENDDATE_DIFF_MAX', 'BUREAU_BUREAU_CREDIT_ENDDATE_DIFF_MEAN', 'BUREAU_BUREAU_CREDIT_DEBT_RATIO_MIN', 'BUREAU_BUREAU_CREDIT_DEBT_RATIO_MAX', 'BUREAU_BUREAU_CREDIT_DEBT_RATIO_MEAN', 'BUREAU_BUREAU_CREDIT_DEBT_DIFF_MIN', 'BUREAU_BUREAU_CREDIT_DEBT_DIFF_MAX', 'BUREAU_BUREAU_CREDIT_DEBT_DIFF_MEAN', 'BUREAU_BUREAU_IS_DPD_MEAN', 'BUREAU_BUREAU_IS_DPD_SUM', 'BUREAU_BUREAU_IS_DPD_OVER120_MEAN', 'BUREAU_BUREAU_IS_DPD_OVER120_SUM', 'BUREAU_ACT_SK_ID_BUREAU_COUNT', 'BUREAU_ACT_DAYS_CREDIT_MAX', 'BUREAU_ACT_DAYS_CREDIT_MEAN', 'BUREAU_ACT_CREDIT_DAY_OVERDUE_MIN', 'BUREAU_ACT_CREDIT_DAY_OVERDUE_MAX', 'BUREAU_ACT_CREDIT_DAY_OVERDUE_MEAN', 'BUREAU_ACT_DAYS_CREDIT_ENDDATE_MIN', 'BUREAU_ACT_DAYS_CREDIT_ENDDATE_MAX', 'BUREAU_ACT_DAYS_CREDIT_ENDDATE_MEAN', 'BUREAU_ACT_AMT_CREDIT_MAX_OVERDUE_MAX', 'BUREAU_ACT_AMT_CREDIT_MAX_OVERDUE_MEAN', 'BUREAU_ACT_AMT_CREDIT_SUM_MAX', 'BUREAU_ACT_AMT_CREDIT_SUM_MEAN', 'BUREAU_ACT_AMT_CREDIT_SUM_SUM', 'BUREAU_ACT_AMT_CREDIT_SUM_DEBT_MAX', 'BUREAU_ACT_AMT_CREDIT_SUM_DEBT_MEAN', 'BUREAU_ACT_AMT_CREDIT_SUM_DEBT_SUM', 'BUREAU_ACT_AMT_CREDIT_SUM_OVERDUE_MAX', 'BUREAU_ACT_AMT_CREDIT_SUM_OVERDUE_MEAN', 'BUREAU_ACT_AMT_CREDIT_SUM_OVERDUE_SUM', 'BUREAU_ACT_AMT_ANNUITY_MAX', 'BUREAU_ACT_AMT_ANNUITY_MEAN', 'BUREAU_ACT_AMT_ANNUITY_SUM', 'BUREAU_ACT_BUREAU_ENDDATE_FACT_DIFF_MIN', 'BUREAU_ACT_BUREAU_ENDDATE_FACT_DIFF_MAX', 'BUREAU_ACT_BUREAU_ENDDATE_FACT_DIFF_MEAN', 'BUREAU_ACT_BUREAU_CREDIT_FACT_DIFF_MIN', 'BUREAU_ACT_BUREAU_CREDIT_FACT_DIFF_MAX', 'BUREAU_ACT_BUREAU_CREDIT_FACT_DIFF_MEAN', 'BUREAU_ACT_BUREAU_CREDIT_ENDDATE_DIFF_MIN', 'BUREAU_ACT_BUREAU_CREDIT_ENDDATE_DIFF_MAX', 'BUREAU_ACT_BUREAU_CREDIT_ENDDATE_DIFF_MEAN', 'BUREAU_ACT_BUREAU_CREDIT_DEBT_RATIO_MIN', 'BUREAU_ACT_BUREAU_CREDIT_DEBT_RATIO_MAX', 'BUREAU_ACT_BUREAU_CREDIT_DEBT_RATIO_MEAN', 'BUREAU_ACT_BUREAU_CREDIT_DEBT_DIFF_MIN', 'BUREAU_ACT_BUREAU_CREDIT_DEBT_DIFF_MAX', 'BUREAU_ACT_BUREAU_CREDIT_DEBT_DIFF_MEAN', 'BUREAU_ACT_BUREAU_IS_DPD_MEAN', 'BUREAU_ACT_BUREAU_IS_DPD_SUM', 'BUREAU_ACT_BUREAU_IS_DPD_OVER120_MEAN', 'BUREAU_ACT_BUREAU_IS_DPD_OVER120_SUM']\n",
      "196\n"
     ]
    }
   ],
   "source": [
    "print(f\"Columns with outliers (Z-score method):\\n{outlier_cols_Z_sc}\")\n",
    "print(len(outlier_cols_Z_sc))"
   ]
  },
  {
   "cell_type": "code",
   "execution_count": 124,
   "metadata": {},
   "outputs": [
    {
     "data": {
      "text/plain": [
       "BUREAU_ACT_BUREAU_IS_DPD_OVER120_SUM    0.267308\n",
       "Name: Outlier Percentage, dtype: float64"
      ]
     },
     "execution_count": 124,
     "metadata": {},
     "output_type": "execute_result"
    }
   ],
   "source": [
    "apps_all, perc_of_outliers = cap_outliers_3sigma(apps_all, outlier_cols_IQR)\n",
    "perc_of_outliers"
   ]
  },
  {
   "cell_type": "code",
   "execution_count": 125,
   "metadata": {},
   "outputs": [],
   "source": [
    "# # A value above 1 or below -1 indicates strong skewness.\n",
    "# skewed_cols = apps_all[numerical_cols_proposal].skew()  # Compute absolute skewness\n",
    "\n",
    "# # Highly positively skewed\n",
    "# print(skewed_cols[skewed_cols > 2])\n",
    "\n",
    "# # Highly negatively skewed\n",
    "# print(skewed_cols[skewed_cols < -2])"
   ]
  },
  {
   "cell_type": "markdown",
   "metadata": {},
   "source": [
    "### Корреляции"
   ]
  },
  {
   "cell_type": "code",
   "execution_count": 126,
   "metadata": {},
   "outputs": [
    {
     "data": {
      "text/plain": [
       "<Axes: >"
      ]
     },
     "execution_count": 126,
     "metadata": {},
     "output_type": "execute_result"
    },
    {
     "data": {
      "image/png": "[encoded data removed]",
      "text/plain": [
       "<Figure size 640x480 with 2 Axes>"
      ]
     },
     "metadata": {},
     "output_type": "display_data"
    }
   ],
   "source": [
    "binary_cols_proposal, categorical_cols_proposal, numerical_cols_proposal = columns_types_assumption(apps_all)\n",
    "corr_columns1 = numerical_cols_proposal.copy()\n",
    "if 'TARGET' in corr_columns1:\n",
    "    corr_columns1.remove('TARGET')\n",
    "if 'SK_ID_CURR' in corr_columns1:\n",
    "    corr_columns1.remove('SK_ID_CURR')\n",
    "\n",
    "# корреляции признаков в основном датасете\n",
    "corr_matrix = apps_all[corr_columns1].corr(numeric_only = True, method='pearson')\n",
    "mask = np.triu(np.ones_like(corr_matrix, dtype=bool))\n",
    "sns.heatmap(corr_matrix,mask=mask)"
   ]
  },
  {
   "cell_type": "code",
   "execution_count": 127,
   "metadata": {},
   "outputs": [
    {
     "data": {
      "text/plain": [
       "<Axes: >"
      ]
     },
     "execution_count": 127,
     "metadata": {},
     "output_type": "execute_result"
    },
    {
     "data": {
      "image/png": "[encoded data removed]",
      "text/plain": [
       "<Figure size 640x480 with 2 Axes>"
      ]
     },
     "metadata": {},
     "output_type": "display_data"
    }
   ],
   "source": [
    "# корреляции признаков в основном датасете\n",
    "corr_columns = list(set(corr_columns1)&set(app_train_orig.columns))\n",
    "corr_matrix = app_train_orig[corr_columns].corr(numeric_only = True, method='pearson')\n",
    "mask = np.triu(np.ones_like(corr_matrix, dtype=bool))\n",
    "sns.heatmap(corr_matrix,mask=mask)"
   ]
  },
  {
   "cell_type": "code",
   "execution_count": 128,
   "metadata": {},
   "outputs": [],
   "source": [
    "# corr_matrix = apps_all[corr_columns].corr(numeric_only = True, method='pearson')\n",
    "# mask = np.triu(np.ones_like(corr_matrix, dtype=bool))\n",
    "# sns.heatmap(corr_matrix,mask=mask)"
   ]
  },
  {
   "cell_type": "code",
   "execution_count": 129,
   "metadata": {},
   "outputs": [],
   "source": [
    "# выводит самые коррелированные признаки\n",
    "def feature_correlations(df, feature,method='pearson'):\n",
    "    \"\"\"\n",
    "    Returns all correlations with the given feature, sorted in descending order.\n",
    "\n",
    "    Parameters:\n",
    "        df (pd.DataFrame): Input dataframe with numerical values.\n",
    "        feature (str): The column name for which correlations should be calculated.\n",
    "\n",
    "    Returns:\n",
    "        pd.Series: A sorted series of correlations with the given feature.\n",
    "    \"\"\"\n",
    "    if feature not in df.columns:\n",
    "        raise ValueError(f\"Feature '{feature}' not found in dataframe.\")\n",
    "    \n",
    "    correlations = df.corr(method=method)[feature].drop(feature)  # Compute correlations and remove self-correlation\n",
    "    return correlations.abs().sort_values(ascending=False)  # Sort by absolute correlation"
   ]
  },
  {
   "cell_type": "code",
   "execution_count": 130,
   "metadata": {},
   "outputs": [],
   "source": [
    "numerical_features = numerical_cols_proposal.copy()\n",
    "if 'TARGET' not in numerical_features:\n",
    "    numerical_features.append('TARGET')\n",
    "if 'SK_ID_CURR' in numerical_features:\n",
    "    numerical_features.remove('SK_ID_CURR')\n",
    "\n",
    "target_corr_pearson_df = feature_correlations(apps_all[numerical_features],'TARGET')"
   ]
  },
  {
   "cell_type": "code",
   "execution_count": 131,
   "metadata": {},
   "outputs": [],
   "source": [
    "target_corr_pearson_df.to_csv('target_corr_pearson_df.csv')"
   ]
  },
  {
   "cell_type": "code",
   "execution_count": 132,
   "metadata": {},
   "outputs": [
    {
     "data": {
      "text/plain": [
       "APPS_EXT_SOURCE_MEAN                0.222052\n",
       "EXT_SOURCE_3                        0.178919\n",
       "EXT_SOURCE_2                        0.160472\n",
       "EXT_SOURCE_1                        0.155317\n",
       "BUREAU_DAYS_CREDIT_MEAN             0.089729\n",
       "DAYS_BIRTH                          0.078239\n",
       "PREV_REFUSED_RATIO                  0.077642\n",
       "BUREAU_DAYS_CREDIT_MIN              0.075248\n",
       "PREV_PREV_CREDIT_APPL_RATIO_MEAN    0.066335\n",
       "APPS_GOODS_CREDIT_RATIO             0.065407\n",
       "Name: TARGET, dtype: float64"
      ]
     },
     "execution_count": 132,
     "metadata": {},
     "output_type": "execute_result"
    }
   ],
   "source": [
    "target_corr_pearson_df.head(10)"
   ]
  },
  {
   "cell_type": "markdown",
   "metadata": {},
   "source": [
    "Сильных корреляций с целевым показателем нет, есть слабые корреляции (в диапазоне от 10 до 30%) для 4 переменных"
   ]
  },
  {
   "cell_type": "markdown",
   "metadata": {},
   "source": [
    "### Заполнение пропусков"
   ]
  },
  {
   "cell_type": "code",
   "execution_count": 133,
   "metadata": {},
   "outputs": [
    {
     "data": {
      "text/plain": [
       "SK_ID_CURR    0\n",
       "TARGET        0\n",
       "dtype: int64"
      ]
     },
     "execution_count": 133,
     "metadata": {},
     "output_type": "execute_result"
    }
   ],
   "source": [
    "apps_all[['SK_ID_CURR','TARGET']].isna().sum()"
   ]
  },
  {
   "cell_type": "code",
   "execution_count": 134,
   "metadata": {},
   "outputs": [
    {
     "name": "stdout",
     "output_type": "stream",
     "text": [
      "260\n",
      "260\n",
      "[]\n",
      "[]\n"
     ]
    }
   ],
   "source": [
    "binary_cols_proposal, categorical_cols_proposal, numerical_cols_proposal = columns_types_assumption(apps_all)\n",
    "print(len(apps_all.columns))\n",
    "print(len(binary_cols_proposal)+len(categorical_cols_proposal)+len(numerical_cols_proposal))\n",
    "print(list(set(binary_cols_proposal)&set(categorical_cols_proposal)&set(numerical_cols_proposal)))\n",
    "print(list(set(apps_all)-set(binary_cols_proposal)-set(categorical_cols_proposal)-set(numerical_cols_proposal)))"
   ]
  },
  {
   "cell_type": "code",
   "execution_count": 135,
   "metadata": {},
   "outputs": [],
   "source": [
    "from sklearn.impute import SimpleImputer\n",
    "\n",
    "imputer_mean = SimpleImputer(strategy='mean')\n",
    "imputer_most_frequent = SimpleImputer(strategy='most_frequent')\n",
    "\n",
    "if 'TARGET' in binary_cols_proposal:\n",
    "    binary_cols_proposal.remove('TARGET')\n",
    "apps_all[binary_cols_proposal] = imputer_most_frequent.fit_transform(apps_all[binary_cols_proposal])\n",
    "apps_all[categorical_cols_proposal] = imputer_most_frequent.fit_transform(apps_all[categorical_cols_proposal])\n",
    "apps_all[numerical_cols_proposal] = imputer_mean.fit_transform(apps_all[numerical_cols_proposal])"
   ]
  },
  {
   "cell_type": "code",
   "execution_count": 136,
   "metadata": {},
   "outputs": [
    {
     "data": {
      "text/plain": [
       "0"
      ]
     },
     "execution_count": 136,
     "metadata": {},
     "output_type": "execute_result"
    }
   ],
   "source": [
    "apps_all.isna().sum().sum()"
   ]
  },
  {
   "cell_type": "markdown",
   "metadata": {},
   "source": [
    "осталось ноль нулевых значений. Успех!"
   ]
  },
  {
   "cell_type": "markdown",
   "metadata": {},
   "source": [
    "### Стандартизация"
   ]
  },
  {
   "cell_type": "code",
   "execution_count": 137,
   "metadata": {},
   "outputs": [
    {
     "data": {
      "text/plain": [
       "float64    210\n",
       "object      49\n",
       "int64        1\n",
       "Name: count, dtype: int64"
      ]
     },
     "execution_count": 137,
     "metadata": {},
     "output_type": "execute_result"
    }
   ],
   "source": [
    "apps_all.dtypes.value_counts()"
   ]
  },
  {
   "cell_type": "code",
   "execution_count": 138,
   "metadata": {},
   "outputs": [],
   "source": [
    "object_columns = apps_all.dtypes[apps_all.dtypes == 'object'].index.tolist()\n",
    "#### One Hote Encoding\n",
    "from sklearn.preprocessing import OneHotEncoder\n",
    "\n",
    "# Initialize encoder\n",
    "encoder = OneHotEncoder(drop='first', sparse_output=False)\n",
    "\n",
    "# Transform and create a new DataFrame\n",
    "encoded_array = encoder.fit_transform(apps_all[object_columns])\n",
    "\n",
    "# Get new column names\n",
    "encoded_col_names = encoder.get_feature_names_out(object_columns)\n",
    "\n",
    "# Drop original categorical columns from df\n",
    "apps_all.drop(columns=object_columns, inplace=True)\n",
    "\n",
    "# Add the encoded values as new columns\n",
    "apps_all[encoded_col_names] = encoded_array"
   ]
  },
  {
   "cell_type": "code",
   "execution_count": 139,
   "metadata": {},
   "outputs": [
    {
     "data": {
      "text/plain": [
       "dtype('int32')"
      ]
     },
     "execution_count": 139,
     "metadata": {},
     "output_type": "execute_result"
    }
   ],
   "source": [
    "apps_all['SK_ID_CURR'] = apps_all['SK_ID_CURR'].astype(int)\n",
    "apps_all['SK_ID_CURR'].dtype"
   ]
  },
  {
   "cell_type": "code",
   "execution_count": 140,
   "metadata": {},
   "outputs": [
    {
     "data": {
      "text/plain": [
       "float64    303\n",
       "int32        1\n",
       "int64        1\n",
       "Name: count, dtype: int64"
      ]
     },
     "execution_count": 140,
     "metadata": {},
     "output_type": "execute_result"
    }
   ],
   "source": [
    "apps_all.dtypes.value_counts()"
   ]
  },
  {
   "cell_type": "markdown",
   "metadata": {},
   "source": [
    "## Классификаторы"
   ]
  },
  {
   "cell_type": "code",
   "execution_count": 179,
   "metadata": {},
   "outputs": [],
   "source": [
    "from sklearn.metrics import classification_report, confusion_matrix, accuracy_score, roc_auc_score, precision_score,recall_score, f1_score\n",
    "# функция, чтобы считать сразу несколько метрик качества\n",
    "def get_metrics(y_true, y_pred, y_proba):\n",
    "    return {\n",
    "        \"AUC-ROC\": roc_auc_score(y_true, y_proba),\n",
    "        \"Accuracy\": accuracy_score(y_true, y_pred),\n",
    "        \"Precision\": precision_score(y_true, y_pred),\n",
    "        \"Recall\": recall_score(y_true, y_pred),\n",
    "        \"F1 Score\": f1_score(y_true, y_pred)\n",
    "    }"
   ]
  },
  {
   "cell_type": "code",
   "execution_count": 141,
   "metadata": {},
   "outputs": [],
   "source": [
    "import re\n",
    "apps_all.columns = [re.sub(r'[\\{\\}\\[\\]:,\"\\`]', '', col) for col in apps_all.columns]"
   ]
  },
  {
   "cell_type": "code",
   "execution_count": 142,
   "metadata": {},
   "outputs": [],
   "source": [
    "from sklearn.model_selection import train_test_split\n",
    "\n",
    "apps_all_train, apps_all_test = train_test_split(apps_all,train_size=0.7, test_size=0.3,random_state=2025\n",
    "                                                 ,stratify=apps_all['TARGET'])\n",
    "\n",
    "X = apps_all_train.drop(['TARGET','SK_ID_CURR'], axis=1).copy()\n",
    "y = apps_all_train['TARGET']\n",
    "\n",
    "X_test = apps_all_test.drop(['TARGET','SK_ID_CURR'], axis=1).copy()\n",
    "y_test = apps_all_test['TARGET']"
   ]
  },
  {
   "cell_type": "markdown",
   "metadata": {},
   "source": [
    "### Dummy классификаторы (базовые)"
   ]
  },
  {
   "cell_type": "code",
   "execution_count": null,
   "metadata": {},
   "outputs": [],
   "source": [
    "from sklearn.dummy import DummyClassifier\n",
    "\n",
    "dummy_most_freq = DummyClassifier(strategy=\"most_frequent\")"
   ]
  },
  {
   "cell_type": "code",
   "execution_count": null,
   "metadata": {},
   "outputs": [],
   "source": [
    "dummy_rnd = DummyClassifier(strategy=\"stratified\",random_state=2025)\n",
    "y_pred_rnd = dummy_rnd.predict(X_test)"
   ]
  },
  {
   "cell_type": "code",
   "execution_count": 208,
   "metadata": {},
   "outputs": [
    {
     "name": "stdout",
     "output_type": "stream",
     "text": [
      "[[84806     0]\n",
      " [ 7448     0]]\n",
      "              precision    recall  f1-score   support\n",
      "\n",
      "           0       0.92      1.00      0.96     84806\n",
      "           1       0.00      0.00      0.00      7448\n",
      "\n",
      "    accuracy                           0.92     92254\n",
      "   macro avg       0.46      0.50      0.48     92254\n",
      "weighted avg       0.85      0.92      0.88     92254\n",
      "\n"
     ]
    }
   ],
   "source": [
    "X_test = apps_all_test.drop(['SK_ID_CURR', 'TARGET'], axis=1).fillna(0)\n",
    "y_test = apps_all_test['TARGET']\n",
    "\n",
    "dummy_rnd.fit(X, y)\n",
    "y_pred_proba = dummy_rnd.predict_proba(X_test)[:, 1]  # Probabilities for class 1\n",
    "y_pred = dummy_rnd.predict(X_test)\n",
    "metrics_dummy_random = get_metrics(y_test, y_pred, y_pred_proba)\n",
    "\n",
    "dummy_most_freq.fit(X, y)\n",
    "y_pred_proba = dummy_most_freq.predict_proba(X_test)[:, 1]  # Probabilities for class 1\n",
    "y_pred = dummy_most_freq.predict(X_test)\n",
    "metrics_dummy_most_freq = get_metrics(y_test, y_pred, y_pred_proba)\n",
    "\n",
    "metrics_df  = pd.DataFrame([metrics_dummy_most_freq, metrics_dummy_random], index=[\"Dummy_freq\", \"Dummy_random\"])\n",
    "\n",
    "# Round values for better readability\n",
    "metrics_df  = metrics_df .round(4)\n",
    "\n",
    "print(f\"{confusion_matrix(y_test, y_pred)}\")\n",
    "print(classification_report(y_test, y_pred))"
   ]
  },
  {
   "cell_type": "code",
   "execution_count": 209,
   "metadata": {},
   "outputs": [
    {
     "data": {
      "text/html": [
       "<div>\n",
       "<style scoped>\n",
       "    .dataframe tbody tr th:only-of-type {\n",
       "        vertical-align: middle;\n",
       "    }\n",
       "\n",
       "    .dataframe tbody tr th {\n",
       "        vertical-align: top;\n",
       "    }\n",
       "\n",
       "    .dataframe thead th {\n",
       "        text-align: right;\n",
       "    }\n",
       "</style>\n",
       "<table border=\"1\" class=\"dataframe\">\n",
       "  <thead>\n",
       "    <tr style=\"text-align: right;\">\n",
       "      <th></th>\n",
       "      <th>AUC-ROC</th>\n",
       "      <th>Accuracy</th>\n",
       "      <th>Precision</th>\n",
       "      <th>Recall</th>\n",
       "      <th>F1 Score</th>\n",
       "    </tr>\n",
       "  </thead>\n",
       "  <tbody>\n",
       "    <tr>\n",
       "      <th>Dummy_freq</th>\n",
       "      <td>0.500</td>\n",
       "      <td>0.9193</td>\n",
       "      <td>0.0000</td>\n",
       "      <td>0.0000</td>\n",
       "      <td>0.0000</td>\n",
       "    </tr>\n",
       "    <tr>\n",
       "      <th>Dummy_random</th>\n",
       "      <td>0.501</td>\n",
       "      <td>0.8504</td>\n",
       "      <td>0.0826</td>\n",
       "      <td>0.0843</td>\n",
       "      <td>0.0834</td>\n",
       "    </tr>\n",
       "  </tbody>\n",
       "</table>\n",
       "</div>"
      ],
      "text/plain": [
       "              AUC-ROC  Accuracy  Precision  Recall  F1 Score\n",
       "Dummy_freq      0.500    0.9193     0.0000  0.0000    0.0000\n",
       "Dummy_random    0.501    0.8504     0.0826  0.0843    0.0834"
      ]
     },
     "execution_count": 209,
     "metadata": {},
     "output_type": "execute_result"
    }
   ],
   "source": [
    "# Display summary table\n",
    "metrics_df.to_csv('Dummies.csv')\n",
    "metrics_df"
   ]
  },
  {
   "cell_type": "markdown",
   "metadata": {},
   "source": [
    "### Light Gradient-Boosting Machine"
   ]
  },
  {
   "cell_type": "code",
   "execution_count": 145,
   "metadata": {},
   "outputs": [],
   "source": [
    "from lightgbm import LGBMClassifier"
   ]
  },
  {
   "cell_type": "code",
   "execution_count": 146,
   "metadata": {},
   "outputs": [],
   "source": [
    "def train_LGBMC(apps_all_train,n_estimators=1000):\n",
    "    X = apps_all_train.drop(['SK_ID_CURR', 'TARGET'], axis=1)\n",
    "    y = apps_all_train['TARGET']\n",
    "\n",
    "    X_train, X_test, y_train, y_test = train_test_split(X, y,train_size=0.8, test_size=0.2,random_state=2025)\n",
    "                                                        \n",
    "    print('train shape:', X_train.shape, 'text shape:', X_test.shape)\n",
    "    clf = LGBMClassifier(\n",
    "                nthread=4,\n",
    "                n_estimators=n_estimators, # 2000,\n",
    "                learning_rate=0.02,\n",
    "                max_depth = 5,\n",
    "                silent=-1,\n",
    "                verbose=-1\n",
    "                )\n",
    "   \n",
    "    clf.fit(X_train, y_train, eval_set=[(X_train, y_train), (X_test, y_test)], eval_metric= 'auc')\n",
    "    # , verbose= 100,early_stopping_rounds= 200)\n",
    "    \n",
    "    return clf"
   ]
  },
  {
   "cell_type": "markdown",
   "metadata": {},
   "source": [
    "обучаемся"
   ]
  },
  {
   "cell_type": "code",
   "execution_count": 147,
   "metadata": {},
   "outputs": [
    {
     "name": "stdout",
     "output_type": "stream",
     "text": [
      "train shape: (172205, 303) text shape: (43052, 303)\n"
     ]
    }
   ],
   "source": [
    "clf = train_LGBMC(apps_all_train,n_estimators=1500)"
   ]
  },
  {
   "cell_type": "markdown",
   "metadata": {},
   "source": [
    "считаем метрики"
   ]
  },
  {
   "cell_type": "code",
   "execution_count": 186,
   "metadata": {},
   "outputs": [
    {
     "data": {
      "text/plain": [
       "(215257, 303)"
      ]
     },
     "execution_count": 186,
     "metadata": {},
     "output_type": "execute_result"
    }
   ],
   "source": [
    "X_train.shape"
   ]
  },
  {
   "cell_type": "code",
   "execution_count": 193,
   "metadata": {},
   "outputs": [
    {
     "name": "stdout",
     "output_type": "stream",
     "text": [
      "[[84585   221]\n",
      " [ 7179   269]]\n",
      "              precision    recall  f1-score   support\n",
      "\n",
      "           0       0.92      1.00      0.96     84806\n",
      "           1       0.55      0.04      0.07      7448\n",
      "\n",
      "    accuracy                           0.92     92254\n",
      "   macro avg       0.74      0.52      0.51     92254\n",
      "weighted avg       0.89      0.92      0.89     92254\n",
      "\n"
     ]
    }
   ],
   "source": [
    "X_test = apps_all_test.drop(['SK_ID_CURR', 'TARGET'], axis=1).fillna(0)\n",
    "y_test = apps_all_test['TARGET']\n",
    "\n",
    "y_pred_proba = clf.predict_proba(X_test)[:, 1]  # Probabilities for class 1\n",
    "y_pred = clf.predict(X_test)\n",
    "\n",
    "X_train = apps_all_train.drop(['SK_ID_CURR', 'TARGET'], axis=1).fillna(0)\n",
    "y_train = apps_all_train['TARGET']\n",
    "\n",
    "y_pred_proba_train = clf.predict_proba(X_train)[:, 1]  # Probabilities for class 1\n",
    "y_pred_train = clf.predict(X_train)\n",
    "\n",
    "# Compute metrics for train and test sets\n",
    "metrics_train = get_metrics(y_train, y_pred_train, y_pred_proba_train)\n",
    "metrics_test = get_metrics(y_test, y_pred, y_pred_proba)\n",
    "\n",
    "metrics_df  = pd.DataFrame([metrics_train, metrics_test], index=[\"Train\", \"Test\"])\n",
    "\n",
    "# Round values for better readability\n",
    "metrics_df  = metrics_df .round(4)\n",
    "\n",
    "print(f\"{confusion_matrix(y_test, y_pred)}\")\n",
    "print(classification_report(y_test, y_pred))"
   ]
  },
  {
   "cell_type": "code",
   "execution_count": 194,
   "metadata": {},
   "outputs": [
    {
     "data": {
      "text/html": [
       "<div>\n",
       "<style scoped>\n",
       "    .dataframe tbody tr th:only-of-type {\n",
       "        vertical-align: middle;\n",
       "    }\n",
       "\n",
       "    .dataframe tbody tr th {\n",
       "        vertical-align: top;\n",
       "    }\n",
       "\n",
       "    .dataframe thead th {\n",
       "        text-align: right;\n",
       "    }\n",
       "</style>\n",
       "<table border=\"1\" class=\"dataframe\">\n",
       "  <thead>\n",
       "    <tr style=\"text-align: right;\">\n",
       "      <th></th>\n",
       "      <th>AUC-ROC</th>\n",
       "      <th>Accuracy</th>\n",
       "      <th>Precision</th>\n",
       "      <th>Recall</th>\n",
       "      <th>F1 Score</th>\n",
       "    </tr>\n",
       "  </thead>\n",
       "  <tbody>\n",
       "    <tr>\n",
       "      <th>Train</th>\n",
       "      <td>0.8637</td>\n",
       "      <td>0.9244</td>\n",
       "      <td>0.8456</td>\n",
       "      <td>0.0772</td>\n",
       "      <td>0.1415</td>\n",
       "    </tr>\n",
       "    <tr>\n",
       "      <th>Test</th>\n",
       "      <td>0.7818</td>\n",
       "      <td>0.9198</td>\n",
       "      <td>0.5490</td>\n",
       "      <td>0.0361</td>\n",
       "      <td>0.0678</td>\n",
       "    </tr>\n",
       "  </tbody>\n",
       "</table>\n",
       "</div>"
      ],
      "text/plain": [
       "       AUC-ROC  Accuracy  Precision  Recall  F1 Score\n",
       "Train   0.8637    0.9244     0.8456  0.0772    0.1415\n",
       "Test    0.7818    0.9198     0.5490  0.0361    0.0678"
      ]
     },
     "execution_count": 194,
     "metadata": {},
     "output_type": "execute_result"
    }
   ],
   "source": [
    "# Display summary table\n",
    "metrics_df.to_csv('LightGBM.csv')\n",
    "metrics_df"
   ]
  },
  {
   "cell_type": "markdown",
   "metadata": {},
   "source": [
    "Высокое значение AUC и низкое значение f1 может возникать из-за того, что датасет не сбалансирован и модель чаще предсказывает 0, чем 1.  \n",
    "Один из способов это полечить - попробовать подобрать оптимальный порог для классификации на 0 и 1.  "
   ]
  },
  {
   "cell_type": "code",
   "execution_count": 195,
   "metadata": {},
   "outputs": [
    {
     "name": "stdout",
     "output_type": "stream",
     "text": [
      "Optimal Threshold for Best F1-score: 0.160\n"
     ]
    }
   ],
   "source": [
    "# Get precision, recall, and thresholds\n",
    "from sklearn.metrics import precision_recall_curve, f1_score\n",
    "precisions, recalls, thresholds = precision_recall_curve(y_test, y_pred_proba)\n",
    "\n",
    "# Compute F1-scores for different thresholds\n",
    "f1_scores = 2 * (precisions * recalls) / (precisions + recalls + 1e-9)  # Avoid division by zero\n",
    "\n",
    "# Find the best threshold\n",
    "best_threshold = thresholds[np.argmax(f1_scores)]\n",
    "print(f\"Optimal Threshold for Best F1-score: {best_threshold:.3f}\")"
   ]
  },
  {
   "cell_type": "code",
   "execution_count": 196,
   "metadata": {},
   "outputs": [
    {
     "name": "stdout",
     "output_type": "stream",
     "text": [
      "[[84585   221]\n",
      " [ 7179   269]]\n",
      "              precision    recall  f1-score   support\n",
      "\n",
      "           0       0.92      1.00      0.96     84806\n",
      "           1       0.55      0.04      0.07      7448\n",
      "\n",
      "    accuracy                           0.92     92254\n",
      "   macro avg       0.74      0.52      0.51     92254\n",
      "weighted avg       0.89      0.92      0.89     92254\n",
      "\n"
     ]
    }
   ],
   "source": [
    "y_pred_new = (y_pred_proba >= best_threshold).astype(int)\n",
    "y_pred_train_new = (y_pred_proba_train >= best_threshold).astype(int)\n",
    "\n",
    "# Compute metrics for train and test sets\n",
    "metrics_train = get_metrics(y_train, y_pred_train_new, y_pred_proba_train)\n",
    "metrics_test = get_metrics(y_test, y_pred_new, y_pred_proba)\n",
    "\n",
    "metrics_df  = pd.DataFrame([metrics_train, metrics_test], index=[\"Train\", \"Test\"])\n",
    "\n",
    "# Round values for better readability\n",
    "metrics_df  = metrics_df .round(4)\n",
    "\n",
    "print(f\"{confusion_matrix(y_test, y_pred)}\")\n",
    "print(classification_report(y_test, y_pred))"
   ]
  },
  {
   "cell_type": "code",
   "execution_count": 197,
   "metadata": {},
   "outputs": [
    {
     "data": {
      "text/html": [
       "<div>\n",
       "<style scoped>\n",
       "    .dataframe tbody tr th:only-of-type {\n",
       "        vertical-align: middle;\n",
       "    }\n",
       "\n",
       "    .dataframe tbody tr th {\n",
       "        vertical-align: top;\n",
       "    }\n",
       "\n",
       "    .dataframe thead th {\n",
       "        text-align: right;\n",
       "    }\n",
       "</style>\n",
       "<table border=\"1\" class=\"dataframe\">\n",
       "  <thead>\n",
       "    <tr style=\"text-align: right;\">\n",
       "      <th></th>\n",
       "      <th>AUC-ROC</th>\n",
       "      <th>Accuracy</th>\n",
       "      <th>Precision</th>\n",
       "      <th>Recall</th>\n",
       "      <th>F1 Score</th>\n",
       "    </tr>\n",
       "  </thead>\n",
       "  <tbody>\n",
       "    <tr>\n",
       "      <th>Train</th>\n",
       "      <td>0.8637</td>\n",
       "      <td>0.8811</td>\n",
       "      <td>0.3556</td>\n",
       "      <td>0.5817</td>\n",
       "      <td>0.4414</td>\n",
       "    </tr>\n",
       "    <tr>\n",
       "      <th>Test</th>\n",
       "      <td>0.7818</td>\n",
       "      <td>0.8602</td>\n",
       "      <td>0.2726</td>\n",
       "      <td>0.4385</td>\n",
       "      <td>0.3362</td>\n",
       "    </tr>\n",
       "  </tbody>\n",
       "</table>\n",
       "</div>"
      ],
      "text/plain": [
       "       AUC-ROC  Accuracy  Precision  Recall  F1 Score\n",
       "Train   0.8637    0.8811     0.3556  0.5817    0.4414\n",
       "Test    0.7818    0.8602     0.2726  0.4385    0.3362"
      ]
     },
     "execution_count": 197,
     "metadata": {},
     "output_type": "execute_result"
    }
   ],
   "source": [
    "# Display summary table\n",
    "metrics_df.to_csv('LightGBM_threshold.csv')\n",
    "metrics_df"
   ]
  },
  {
   "cell_type": "markdown",
   "metadata": {},
   "source": [
    "Значение f1 на классе \"1\" увеличилось с 0.07 до 0.34\n",
    "Попробуем другой способ - ребалансировать исходный датасет.  "
   ]
  },
  {
   "cell_type": "markdown",
   "metadata": {},
   "source": [
    "метод - RandomUnderSampler, т.е. сокращение частотного класса"
   ]
  },
  {
   "cell_type": "code",
   "execution_count": 201,
   "metadata": {},
   "outputs": [],
   "source": [
    "from imblearn.under_sampling import RandomUnderSampler\n",
    "\n",
    "X = apps_all_train.drop(['TARGET'], axis=1).copy()\n",
    "y = apps_all_train['TARGET']\n",
    "\n",
    "rus = RandomUnderSampler(sampling_strategy='auto', random_state=2025)\n",
    "X_resampled, y_resampled = rus.fit_resample(X, y)"
   ]
  },
  {
   "cell_type": "markdown",
   "metadata": {},
   "source": [
    "запускаем обучение той же модели, но на сбалансированном классе"
   ]
  },
  {
   "cell_type": "code",
   "execution_count": 202,
   "metadata": {},
   "outputs": [
    {
     "name": "stdout",
     "output_type": "stream",
     "text": [
      "(215257, 305)\n",
      "(34754, 305)\n"
     ]
    }
   ],
   "source": [
    "apps_all_train_resampled = pd.concat([X_resampled, y_resampled], axis=1)\n",
    "print(apps_all_train.shape)\n",
    "print(apps_all_train_resampled.shape)"
   ]
  },
  {
   "cell_type": "code",
   "execution_count": 203,
   "metadata": {},
   "outputs": [
    {
     "name": "stdout",
     "output_type": "stream",
     "text": [
      "train shape: (27803, 303) text shape: (6951, 303)\n"
     ]
    }
   ],
   "source": [
    "clf_resample = train_LGBMC(apps_all_train_resampled,n_estimators=1500)"
   ]
  },
  {
   "cell_type": "code",
   "execution_count": 205,
   "metadata": {},
   "outputs": [
    {
     "name": "stdout",
     "output_type": "stream",
     "text": [
      "[[59801 25005]\n",
      " [ 2203  5245]]\n",
      "              precision    recall  f1-score   support\n",
      "\n",
      "           0       0.96      0.71      0.81     84806\n",
      "           1       0.17      0.70      0.28      7448\n",
      "\n",
      "    accuracy                           0.71     92254\n",
      "   macro avg       0.57      0.70      0.55     92254\n",
      "weighted avg       0.90      0.71      0.77     92254\n",
      "\n"
     ]
    }
   ],
   "source": [
    "X_test = apps_all_test.drop(['SK_ID_CURR', 'TARGET'], axis=1).fillna(0)\n",
    "y_test = apps_all_test['TARGET']\n",
    "\n",
    "y_pred_proba = clf_resample.predict_proba(X_test)[:, 1]  # Probabilities for class 1\n",
    "y_pred = clf_resample.predict(X_test)\n",
    "\n",
    "X_train = apps_all_train.drop(['SK_ID_CURR', 'TARGET'], axis=1).fillna(0)\n",
    "y_train = apps_all_train['TARGET']\n",
    "\n",
    "y_pred_proba_train = clf_resample.predict_proba(X_train)[:, 1]  # Probabilities for class 1\n",
    "y_pred_train = clf_resample.predict(X_train)\n",
    "\n",
    "# Compute metrics for train and test sets\n",
    "metrics_train = get_metrics(y_train, y_pred_train, y_pred_proba_train)\n",
    "metrics_test = get_metrics(y_test, y_pred, y_pred_proba)\n",
    "\n",
    "metrics_df  = pd.DataFrame([metrics_train, metrics_test], index=[\"Train\", \"Test\"])\n",
    "\n",
    "# Round values for better readability\n",
    "metrics_df  = metrics_df .round(4)\n",
    "\n",
    "print(f\"{confusion_matrix(y_test, y_pred)}\")\n",
    "print(classification_report(y_test, y_pred))"
   ]
  },
  {
   "cell_type": "code",
   "execution_count": 206,
   "metadata": {},
   "outputs": [
    {
     "data": {
      "text/html": [
       "<div>\n",
       "<style scoped>\n",
       "    .dataframe tbody tr th:only-of-type {\n",
       "        vertical-align: middle;\n",
       "    }\n",
       "\n",
       "    .dataframe tbody tr th {\n",
       "        vertical-align: top;\n",
       "    }\n",
       "\n",
       "    .dataframe thead th {\n",
       "        text-align: right;\n",
       "    }\n",
       "</style>\n",
       "<table border=\"1\" class=\"dataframe\">\n",
       "  <thead>\n",
       "    <tr style=\"text-align: right;\">\n",
       "      <th></th>\n",
       "      <th>AUC-ROC</th>\n",
       "      <th>Accuracy</th>\n",
       "      <th>Precision</th>\n",
       "      <th>Recall</th>\n",
       "      <th>F1 Score</th>\n",
       "    </tr>\n",
       "  </thead>\n",
       "  <tbody>\n",
       "    <tr>\n",
       "      <th>Train</th>\n",
       "      <td>0.8402</td>\n",
       "      <td>0.7220</td>\n",
       "      <td>0.1993</td>\n",
       "      <td>0.8102</td>\n",
       "      <td>0.3199</td>\n",
       "    </tr>\n",
       "    <tr>\n",
       "      <th>Test</th>\n",
       "      <td>0.7754</td>\n",
       "      <td>0.7051</td>\n",
       "      <td>0.1734</td>\n",
       "      <td>0.7042</td>\n",
       "      <td>0.2783</td>\n",
       "    </tr>\n",
       "  </tbody>\n",
       "</table>\n",
       "</div>"
      ],
      "text/plain": [
       "       AUC-ROC  Accuracy  Precision  Recall  F1 Score\n",
       "Train   0.8402    0.7220     0.1993  0.8102    0.3199\n",
       "Test    0.7754    0.7051     0.1734  0.7042    0.2783"
      ]
     },
     "execution_count": 206,
     "metadata": {},
     "output_type": "execute_result"
    }
   ],
   "source": [
    "# Display summary table\n",
    "metrics_df .to_csv('LightGBM_resample.csv')\n",
    "metrics_df"
   ]
  },
  {
   "cell_type": "markdown",
   "metadata": {},
   "source": [
    "вывод: балансировка тренировочного датасета методом undersampling улучшает показатели полноты и метрику f1"
   ]
  },
  {
   "cell_type": "markdown",
   "metadata": {},
   "source": [
    "### Наиболее значимые переменные"
   ]
  },
  {
   "cell_type": "code",
   "execution_count": null,
   "metadata": {},
   "outputs": [],
   "source": []
  },
  {
   "cell_type": "markdown",
   "metadata": {},
   "source": [
    "### Дерево решений"
   ]
  },
  {
   "cell_type": "code",
   "execution_count": 155,
   "metadata": {},
   "outputs": [],
   "source": [
    "X = apps_all_train.drop(['TARGET','SK_ID_CURR'], axis=1).copy()\n",
    "y = apps_all_train['TARGET']\n",
    "\n",
    "X_test = apps_all_test.drop(['TARGET','SK_ID_CURR'], axis=1).copy()\n",
    "y_test = apps_all_test['TARGET']"
   ]
  },
  {
   "cell_type": "code",
   "execution_count": 156,
   "metadata": {},
   "outputs": [
    {
     "data": {
      "text/html": [
       "<style>#sk-container-id-1 {\n",
       "  /* Definition of color scheme common for light and dark mode */\n",
       "  --sklearn-color-text: black;\n",
       "  --sklearn-color-line: gray;\n",
       "  /* Definition of color scheme for unfitted estimators */\n",
       "  --sklearn-color-unfitted-level-0: #fff5e6;\n",
       "  --sklearn-color-unfitted-level-1: #f6e4d2;\n",
       "  --sklearn-color-unfitted-level-2: #ffe0b3;\n",
       "  --sklearn-color-unfitted-level-3: chocolate;\n",
       "  /* Definition of color scheme for fitted estimators */\n",
       "  --sklearn-color-fitted-level-0: #f0f8ff;\n",
       "  --sklearn-color-fitted-level-1: #d4ebff;\n",
       "  --sklearn-color-fitted-level-2: #b3dbfd;\n",
       "  --sklearn-color-fitted-level-3: cornflowerblue;\n",
       "\n",
       "  /* Specific color for light theme */\n",
       "  --sklearn-color-text-on-default-background: var(--sg-text-color, var(--theme-code-foreground, var(--jp-content-font-color1, black)));\n",
       "  --sklearn-color-background: var(--sg-background-color, var(--theme-background, var(--jp-layout-color0, white)));\n",
       "  --sklearn-color-border-box: var(--sg-text-color, var(--theme-code-foreground, var(--jp-content-font-color1, black)));\n",
       "  --sklearn-color-icon: #696969;\n",
       "\n",
       "  @media (prefers-color-scheme: dark) {\n",
       "    /* Redefinition of color scheme for dark theme */\n",
       "    --sklearn-color-text-on-default-background: var(--sg-text-color, var(--theme-code-foreground, var(--jp-content-font-color1, white)));\n",
       "    --sklearn-color-background: var(--sg-background-color, var(--theme-background, var(--jp-layout-color0, #111)));\n",
       "    --sklearn-color-border-box: var(--sg-text-color, var(--theme-code-foreground, var(--jp-content-font-color1, white)));\n",
       "    --sklearn-color-icon: #878787;\n",
       "  }\n",
       "}\n",
       "\n",
       "#sk-container-id-1 {\n",
       "  color: var(--sklearn-color-text);\n",
       "}\n",
       "\n",
       "#sk-container-id-1 pre {\n",
       "  padding: 0;\n",
       "}\n",
       "\n",
       "#sk-container-id-1 input.sk-hidden--visually {\n",
       "  border: 0;\n",
       "  clip: rect(1px 1px 1px 1px);\n",
       "  clip: rect(1px, 1px, 1px, 1px);\n",
       "  height: 1px;\n",
       "  margin: -1px;\n",
       "  overflow: hidden;\n",
       "  padding: 0;\n",
       "  position: absolute;\n",
       "  width: 1px;\n",
       "}\n",
       "\n",
       "#sk-container-id-1 div.sk-dashed-wrapped {\n",
       "  border: 1px dashed var(--sklearn-color-line);\n",
       "  margin: 0 0.4em 0.5em 0.4em;\n",
       "  box-sizing: border-box;\n",
       "  padding-bottom: 0.4em;\n",
       "  background-color: var(--sklearn-color-background);\n",
       "}\n",
       "\n",
       "#sk-container-id-1 div.sk-container {\n",
       "  /* jupyter's `normalize.less` sets `[hidden] { display: none; }`\n",
       "     but bootstrap.min.css set `[hidden] { display: none !important; }`\n",
       "     so we also need the `!important` here to be able to override the\n",
       "     default hidden behavior on the sphinx rendered scikit-learn.org.\n",
       "     See: https://github.com/scikit-learn/scikit-learn/issues/21755 */\n",
       "  display: inline-block !important;\n",
       "  position: relative;\n",
       "}\n",
       "\n",
       "#sk-container-id-1 div.sk-text-repr-fallback {\n",
       "  display: none;\n",
       "}\n",
       "\n",
       "div.sk-parallel-item,\n",
       "div.sk-serial,\n",
       "div.sk-item {\n",
       "  /* draw centered vertical line to link estimators */\n",
       "  background-image: linear-gradient(var(--sklearn-color-text-on-default-background), var(--sklearn-color-text-on-default-background));\n",
       "  background-size: 2px 100%;\n",
       "  background-repeat: no-repeat;\n",
       "  background-position: center center;\n",
       "}\n",
       "\n",
       "/* Parallel-specific style estimator block */\n",
       "\n",
       "#sk-container-id-1 div.sk-parallel-item::after {\n",
       "  content: \"\";\n",
       "  width: 100%;\n",
       "  border-bottom: 2px solid var(--sklearn-color-text-on-default-background);\n",
       "  flex-grow: 1;\n",
       "}\n",
       "\n",
       "#sk-container-id-1 div.sk-parallel {\n",
       "  display: flex;\n",
       "  align-items: stretch;\n",
       "  justify-content: center;\n",
       "  background-color: var(--sklearn-color-background);\n",
       "  position: relative;\n",
       "}\n",
       "\n",
       "#sk-container-id-1 div.sk-parallel-item {\n",
       "  display: flex;\n",
       "  flex-direction: column;\n",
       "}\n",
       "\n",
       "#sk-container-id-1 div.sk-parallel-item:first-child::after {\n",
       "  align-self: flex-end;\n",
       "  width: 50%;\n",
       "}\n",
       "\n",
       "#sk-container-id-1 div.sk-parallel-item:last-child::after {\n",
       "  align-self: flex-start;\n",
       "  width: 50%;\n",
       "}\n",
       "\n",
       "#sk-container-id-1 div.sk-parallel-item:only-child::after {\n",
       "  width: 0;\n",
       "}\n",
       "\n",
       "/* Serial-specific style estimator block */\n",
       "\n",
       "#sk-container-id-1 div.sk-serial {\n",
       "  display: flex;\n",
       "  flex-direction: column;\n",
       "  align-items: center;\n",
       "  background-color: var(--sklearn-color-background);\n",
       "  padding-right: 1em;\n",
       "  padding-left: 1em;\n",
       "}\n",
       "\n",
       "\n",
       "/* Toggleable style: style used for estimator/Pipeline/ColumnTransformer box that is\n",
       "clickable and can be expanded/collapsed.\n",
       "- Pipeline and ColumnTransformer use this feature and define the default style\n",
       "- Estimators will overwrite some part of the style using the `sk-estimator` class\n",
       "*/\n",
       "\n",
       "/* Pipeline and ColumnTransformer style (default) */\n",
       "\n",
       "#sk-container-id-1 div.sk-toggleable {\n",
       "  /* Default theme specific background. It is overwritten whether we have a\n",
       "  specific estimator or a Pipeline/ColumnTransformer */\n",
       "  background-color: var(--sklearn-color-background);\n",
       "}\n",
       "\n",
       "/* Toggleable label */\n",
       "#sk-container-id-1 label.sk-toggleable__label {\n",
       "  cursor: pointer;\n",
       "  display: block;\n",
       "  width: 100%;\n",
       "  margin-bottom: 0;\n",
       "  padding: 0.5em;\n",
       "  box-sizing: border-box;\n",
       "  text-align: center;\n",
       "}\n",
       "\n",
       "#sk-container-id-1 label.sk-toggleable__label-arrow:before {\n",
       "  /* Arrow on the left of the label */\n",
       "  content: \"▸\";\n",
       "  float: left;\n",
       "  margin-right: 0.25em;\n",
       "  color: var(--sklearn-color-icon);\n",
       "}\n",
       "\n",
       "#sk-container-id-1 label.sk-toggleable__label-arrow:hover:before {\n",
       "  color: var(--sklearn-color-text);\n",
       "}\n",
       "\n",
       "/* Toggleable content - dropdown */\n",
       "\n",
       "#sk-container-id-1 div.sk-toggleable__content {\n",
       "  max-height: 0;\n",
       "  max-width: 0;\n",
       "  overflow: hidden;\n",
       "  text-align: left;\n",
       "  /* unfitted */\n",
       "  background-color: var(--sklearn-color-unfitted-level-0);\n",
       "}\n",
       "\n",
       "#sk-container-id-1 div.sk-toggleable__content.fitted {\n",
       "  /* fitted */\n",
       "  background-color: var(--sklearn-color-fitted-level-0);\n",
       "}\n",
       "\n",
       "#sk-container-id-1 div.sk-toggleable__content pre {\n",
       "  margin: 0.2em;\n",
       "  border-radius: 0.25em;\n",
       "  color: var(--sklearn-color-text);\n",
       "  /* unfitted */\n",
       "  background-color: var(--sklearn-color-unfitted-level-0);\n",
       "}\n",
       "\n",
       "#sk-container-id-1 div.sk-toggleable__content.fitted pre {\n",
       "  /* unfitted */\n",
       "  background-color: var(--sklearn-color-fitted-level-0);\n",
       "}\n",
       "\n",
       "#sk-container-id-1 input.sk-toggleable__control:checked~div.sk-toggleable__content {\n",
       "  /* Expand drop-down */\n",
       "  max-height: 200px;\n",
       "  max-width: 100%;\n",
       "  overflow: auto;\n",
       "}\n",
       "\n",
       "#sk-container-id-1 input.sk-toggleable__control:checked~label.sk-toggleable__label-arrow:before {\n",
       "  content: \"▾\";\n",
       "}\n",
       "\n",
       "/* Pipeline/ColumnTransformer-specific style */\n",
       "\n",
       "#sk-container-id-1 div.sk-label input.sk-toggleable__control:checked~label.sk-toggleable__label {\n",
       "  color: var(--sklearn-color-text);\n",
       "  background-color: var(--sklearn-color-unfitted-level-2);\n",
       "}\n",
       "\n",
       "#sk-container-id-1 div.sk-label.fitted input.sk-toggleable__control:checked~label.sk-toggleable__label {\n",
       "  background-color: var(--sklearn-color-fitted-level-2);\n",
       "}\n",
       "\n",
       "/* Estimator-specific style */\n",
       "\n",
       "/* Colorize estimator box */\n",
       "#sk-container-id-1 div.sk-estimator input.sk-toggleable__control:checked~label.sk-toggleable__label {\n",
       "  /* unfitted */\n",
       "  background-color: var(--sklearn-color-unfitted-level-2);\n",
       "}\n",
       "\n",
       "#sk-container-id-1 div.sk-estimator.fitted input.sk-toggleable__control:checked~label.sk-toggleable__label {\n",
       "  /* fitted */\n",
       "  background-color: var(--sklearn-color-fitted-level-2);\n",
       "}\n",
       "\n",
       "#sk-container-id-1 div.sk-label label.sk-toggleable__label,\n",
       "#sk-container-id-1 div.sk-label label {\n",
       "  /* The background is the default theme color */\n",
       "  color: var(--sklearn-color-text-on-default-background);\n",
       "}\n",
       "\n",
       "/* On hover, darken the color of the background */\n",
       "#sk-container-id-1 div.sk-label:hover label.sk-toggleable__label {\n",
       "  color: var(--sklearn-color-text);\n",
       "  background-color: var(--sklearn-color-unfitted-level-2);\n",
       "}\n",
       "\n",
       "/* Label box, darken color on hover, fitted */\n",
       "#sk-container-id-1 div.sk-label.fitted:hover label.sk-toggleable__label.fitted {\n",
       "  color: var(--sklearn-color-text);\n",
       "  background-color: var(--sklearn-color-fitted-level-2);\n",
       "}\n",
       "\n",
       "/* Estimator label */\n",
       "\n",
       "#sk-container-id-1 div.sk-label label {\n",
       "  font-family: monospace;\n",
       "  font-weight: bold;\n",
       "  display: inline-block;\n",
       "  line-height: 1.2em;\n",
       "}\n",
       "\n",
       "#sk-container-id-1 div.sk-label-container {\n",
       "  text-align: center;\n",
       "}\n",
       "\n",
       "/* Estimator-specific */\n",
       "#sk-container-id-1 div.sk-estimator {\n",
       "  font-family: monospace;\n",
       "  border: 1px dotted var(--sklearn-color-border-box);\n",
       "  border-radius: 0.25em;\n",
       "  box-sizing: border-box;\n",
       "  margin-bottom: 0.5em;\n",
       "  /* unfitted */\n",
       "  background-color: var(--sklearn-color-unfitted-level-0);\n",
       "}\n",
       "\n",
       "#sk-container-id-1 div.sk-estimator.fitted {\n",
       "  /* fitted */\n",
       "  background-color: var(--sklearn-color-fitted-level-0);\n",
       "}\n",
       "\n",
       "/* on hover */\n",
       "#sk-container-id-1 div.sk-estimator:hover {\n",
       "  /* unfitted */\n",
       "  background-color: var(--sklearn-color-unfitted-level-2);\n",
       "}\n",
       "\n",
       "#sk-container-id-1 div.sk-estimator.fitted:hover {\n",
       "  /* fitted */\n",
       "  background-color: var(--sklearn-color-fitted-level-2);\n",
       "}\n",
       "\n",
       "/* Specification for estimator info (e.g. \"i\" and \"?\") */\n",
       "\n",
       "/* Common style for \"i\" and \"?\" */\n",
       "\n",
       ".sk-estimator-doc-link,\n",
       "a:link.sk-estimator-doc-link,\n",
       "a:visited.sk-estimator-doc-link {\n",
       "  float: right;\n",
       "  font-size: smaller;\n",
       "  line-height: 1em;\n",
       "  font-family: monospace;\n",
       "  background-color: var(--sklearn-color-background);\n",
       "  border-radius: 1em;\n",
       "  height: 1em;\n",
       "  width: 1em;\n",
       "  text-decoration: none !important;\n",
       "  margin-left: 1ex;\n",
       "  /* unfitted */\n",
       "  border: var(--sklearn-color-unfitted-level-1) 1pt solid;\n",
       "  color: var(--sklearn-color-unfitted-level-1);\n",
       "}\n",
       "\n",
       ".sk-estimator-doc-link.fitted,\n",
       "a:link.sk-estimator-doc-link.fitted,\n",
       "a:visited.sk-estimator-doc-link.fitted {\n",
       "  /* fitted */\n",
       "  border: var(--sklearn-color-fitted-level-1) 1pt solid;\n",
       "  color: var(--sklearn-color-fitted-level-1);\n",
       "}\n",
       "\n",
       "/* On hover */\n",
       "div.sk-estimator:hover .sk-estimator-doc-link:hover,\n",
       ".sk-estimator-doc-link:hover,\n",
       "div.sk-label-container:hover .sk-estimator-doc-link:hover,\n",
       ".sk-estimator-doc-link:hover {\n",
       "  /* unfitted */\n",
       "  background-color: var(--sklearn-color-unfitted-level-3);\n",
       "  color: var(--sklearn-color-background);\n",
       "  text-decoration: none;\n",
       "}\n",
       "\n",
       "div.sk-estimator.fitted:hover .sk-estimator-doc-link.fitted:hover,\n",
       ".sk-estimator-doc-link.fitted:hover,\n",
       "div.sk-label-container:hover .sk-estimator-doc-link.fitted:hover,\n",
       ".sk-estimator-doc-link.fitted:hover {\n",
       "  /* fitted */\n",
       "  background-color: var(--sklearn-color-fitted-level-3);\n",
       "  color: var(--sklearn-color-background);\n",
       "  text-decoration: none;\n",
       "}\n",
       "\n",
       "/* Span, style for the box shown on hovering the info icon */\n",
       ".sk-estimator-doc-link span {\n",
       "  display: none;\n",
       "  z-index: 9999;\n",
       "  position: relative;\n",
       "  font-weight: normal;\n",
       "  right: .2ex;\n",
       "  padding: .5ex;\n",
       "  margin: .5ex;\n",
       "  width: min-content;\n",
       "  min-width: 20ex;\n",
       "  max-width: 50ex;\n",
       "  color: var(--sklearn-color-text);\n",
       "  box-shadow: 2pt 2pt 4pt #999;\n",
       "  /* unfitted */\n",
       "  background: var(--sklearn-color-unfitted-level-0);\n",
       "  border: .5pt solid var(--sklearn-color-unfitted-level-3);\n",
       "}\n",
       "\n",
       ".sk-estimator-doc-link.fitted span {\n",
       "  /* fitted */\n",
       "  background: var(--sklearn-color-fitted-level-0);\n",
       "  border: var(--sklearn-color-fitted-level-3);\n",
       "}\n",
       "\n",
       ".sk-estimator-doc-link:hover span {\n",
       "  display: block;\n",
       "}\n",
       "\n",
       "/* \"?\"-specific style due to the `<a>` HTML tag */\n",
       "\n",
       "#sk-container-id-1 a.estimator_doc_link {\n",
       "  float: right;\n",
       "  font-size: 1rem;\n",
       "  line-height: 1em;\n",
       "  font-family: monospace;\n",
       "  background-color: var(--sklearn-color-background);\n",
       "  border-radius: 1rem;\n",
       "  height: 1rem;\n",
       "  width: 1rem;\n",
       "  text-decoration: none;\n",
       "  /* unfitted */\n",
       "  color: var(--sklearn-color-unfitted-level-1);\n",
       "  border: var(--sklearn-color-unfitted-level-1) 1pt solid;\n",
       "}\n",
       "\n",
       "#sk-container-id-1 a.estimator_doc_link.fitted {\n",
       "  /* fitted */\n",
       "  border: var(--sklearn-color-fitted-level-1) 1pt solid;\n",
       "  color: var(--sklearn-color-fitted-level-1);\n",
       "}\n",
       "\n",
       "/* On hover */\n",
       "#sk-container-id-1 a.estimator_doc_link:hover {\n",
       "  /* unfitted */\n",
       "  background-color: var(--sklearn-color-unfitted-level-3);\n",
       "  color: var(--sklearn-color-background);\n",
       "  text-decoration: none;\n",
       "}\n",
       "\n",
       "#sk-container-id-1 a.estimator_doc_link.fitted:hover {\n",
       "  /* fitted */\n",
       "  background-color: var(--sklearn-color-fitted-level-3);\n",
       "}\n",
       "</style><div id=\"sk-container-id-1\" class=\"sk-top-container\"><div class=\"sk-text-repr-fallback\"><pre>DecisionTreeClassifier(class_weight=&#x27;balanced&#x27;, max_depth=5)</pre><b>In a Jupyter environment, please rerun this cell to show the HTML representation or trust the notebook. <br />On GitHub, the HTML representation is unable to render, please try loading this page with nbviewer.org.</b></div><div class=\"sk-container\" hidden><div class=\"sk-item\"><div class=\"sk-estimator fitted sk-toggleable\"><input class=\"sk-toggleable__control sk-hidden--visually\" id=\"sk-estimator-id-1\" type=\"checkbox\" checked><label for=\"sk-estimator-id-1\" class=\"sk-toggleable__label fitted sk-toggleable__label-arrow fitted\">&nbsp;&nbsp;DecisionTreeClassifier<a class=\"sk-estimator-doc-link fitted\" rel=\"noreferrer\" target=\"_blank\" href=\"https://scikit-learn.org/1.5/modules/generated/sklearn.tree.DecisionTreeClassifier.html\">?<span>Documentation for DecisionTreeClassifier</span></a><span class=\"sk-estimator-doc-link fitted\">i<span>Fitted</span></span></label><div class=\"sk-toggleable__content fitted\"><pre>DecisionTreeClassifier(class_weight=&#x27;balanced&#x27;, max_depth=5)</pre></div> </div></div></div></div>"
      ],
      "text/plain": [
       "DecisionTreeClassifier(class_weight='balanced', max_depth=5)"
      ]
     },
     "execution_count": 156,
     "metadata": {},
     "output_type": "execute_result"
    }
   ],
   "source": [
    "from sklearn.tree import DecisionTreeClassifier\n",
    "model = DecisionTreeClassifier(class_weight=\"balanced\",max_depth = 5)\n",
    "model.fit(X, y)"
   ]
  },
  {
   "cell_type": "code",
   "execution_count": null,
   "metadata": {},
   "outputs": [
    {
     "name": "stdout",
     "output_type": "stream",
     "text": [
      "AUC-ROC Score: 0.7301\n",
      "accuracy score: 0.6402\n",
      "precision score: 0.1457\n",
      "recall score: 0.7104\n",
      "f1 score: 0.2417\n",
      "[[53772 31034]\n",
      " [ 2157  5291]]\n",
      "              precision    recall  f1-score   support\n",
      "\n",
      "           0       0.96      0.63      0.76     84806\n",
      "           1       0.15      0.71      0.24      7448\n",
      "\n",
      "    accuracy                           0.64     92254\n",
      "   macro avg       0.55      0.67      0.50     92254\n",
      "weighted avg       0.90      0.64      0.72     92254\n",
      "\n"
     ]
    }
   ],
   "source": [
    "y_pred_proba = model.predict_proba(X_test)[:, 1]  # Probabilities for class 1\n",
    "y_pred = model.predict(X_test)\n",
    "\n",
    "y_pred_proba_train = model.predict_proba(X)[:, 1]  # Probabilities for class 1\n",
    "y_pred_train = model.predict(X)\n",
    "\n",
    "# Compute metrics for train and test sets\n",
    "metrics_train = get_metrics(y, y_pred_train, y_pred_proba_train)\n",
    "metrics_test = get_metrics(y_test, y_pred_new, y_pred_proba)\n",
    "\n",
    "metrics_df  = pd.DataFrame([metrics_train, metrics_test], index=[\"Train\", \"Test\"])\n",
    "\n",
    "# Round values for better readability\n",
    "metrics_df  = metrics_df .round(4)\n",
    "\n",
    "# Display summary table\n",
    "metrics_df .to_csv('Decision_tree.csv')\n",
    "print(metrics_df )\n",
    "\n",
    "print(f\"{confusion_matrix(y_test, y_pred)}\")\n",
    "print(classification_report(y_test, y_pred))"
   ]
  },
  {
   "cell_type": "markdown",
   "metadata": {},
   "source": [
    "f1 score: 0.2417"
   ]
  },
  {
   "cell_type": "markdown",
   "metadata": {},
   "source": [
    "Подберем оптимальный порог для классификации объектов"
   ]
  },
  {
   "cell_type": "code",
   "execution_count": 158,
   "metadata": {},
   "outputs": [
    {
     "name": "stdout",
     "output_type": "stream",
     "text": [
      "Optimal Threshold for Best F1-score: 0.713\n",
      "AUC-ROC Score: 0.7301\n",
      "accuracy score: 0.8602\n",
      "precision score: 0.2726\n",
      "recall score: 0.4385\n",
      "f1 score: 0.3362\n",
      "[[76089  8717]\n",
      " [ 4182  3266]]\n",
      "              precision    recall  f1-score   support\n",
      "\n",
      "           0       0.95      0.90      0.92     84806\n",
      "           1       0.27      0.44      0.34      7448\n",
      "\n",
      "    accuracy                           0.86     92254\n",
      "   macro avg       0.61      0.67      0.63     92254\n",
      "weighted avg       0.89      0.86      0.87     92254\n",
      "\n"
     ]
    }
   ],
   "source": [
    "# Get precision, recall, and thresholds\n",
    "from sklearn.metrics import precision_recall_curve, f1_score\n",
    "precisions, recalls, thresholds = precision_recall_curve(y_test, y_pred_proba)\n",
    "\n",
    "# Compute F1-scores for different thresholds\n",
    "f1_scores = 2 * (precisions * recalls) / (precisions + recalls + 1e-9)  # Avoid division by zero\n",
    "\n",
    "# Find the best threshold\n",
    "best_threshold = thresholds[np.argmax(f1_scores)]\n",
    "\n",
    "print(f\"Optimal Threshold for Best F1-score: {best_threshold:.3f}\")\n",
    "\n",
    "# Evaluate new predictions\n",
    "print(f\"AUC-ROC Score: {roc_auc_score(y_test, y_pred_proba):.4f}\")\n",
    "print(f\"accuracy score: {accuracy_score(y_test, y_pred_new):.4f}\")\n",
    "print(f\"precision score: {precision_score(y_test, y_pred_new):.4f}\")\n",
    "print(f\"recall score: {recall_score(y_test, y_pred_new):.4f}\")\n",
    "print(f\"f1 score: {f1_score(y_test, y_pred_new):.4f}\")\n",
    "print(f\"{confusion_matrix(y_test, y_pred_new)}\")\n",
    "print(classification_report(y_test, y_pred_new))"
   ]
  },
  {
   "cell_type": "markdown",
   "metadata": {},
   "source": [
    "f1 score: 0.3362"
   ]
  },
  {
   "cell_type": "markdown",
   "metadata": {},
   "source": [
    "### Grid Search для дерева решений"
   ]
  },
  {
   "cell_type": "code",
   "execution_count": 159,
   "metadata": {},
   "outputs": [
    {
     "name": "stdout",
     "output_type": "stream",
     "text": [
      "Fitting 5 folds for each of 5 candidates, totalling 25 fits\n",
      "Best parameters: {'max_depth': 5}\n",
      "Best F1-score: 0.24000457882769233\n"
     ]
    }
   ],
   "source": [
    "from sklearn.model_selection import GridSearchCV\n",
    "from sklearn.tree import DecisionTreeClassifier\n",
    "\n",
    "model = DecisionTreeClassifier(class_weight=\"balanced\")\n",
    "\n",
    "# Определение параметров для подбора\n",
    "param_grid = {\n",
    "    \"max_depth\": [2, 3, 5, 10, 15]  \n",
    "}\n",
    "\n",
    "grid_search = GridSearchCV(model, param_grid, scoring=\"f1\", n_jobs=-1, verbose=100)\n",
    "grid_search.fit(X, y)\n",
    "\n",
    "# Print the best parameters and the best score\n",
    "print(\"Best parameters:\", grid_search.best_params_)\n",
    "print(\"Best F1-score:\", grid_search.best_score_)"
   ]
  },
  {
   "cell_type": "markdown",
   "metadata": {},
   "source": [
    "### Случайный лес"
   ]
  },
  {
   "cell_type": "code",
   "execution_count": 160,
   "metadata": {},
   "outputs": [],
   "source": [
    "X = apps_all_train.drop(['TARGET','SK_ID_CURR'], axis=1).copy()\n",
    "y = apps_all_train['TARGET']\n",
    "\n",
    "X_test = apps_all_test.drop(['TARGET','SK_ID_CURR'], axis=1).copy()\n",
    "y_test = apps_all_test['TARGET']"
   ]
  },
  {
   "cell_type": "code",
   "execution_count": 161,
   "metadata": {},
   "outputs": [
    {
     "data": {
      "text/html": [
       "<style>#sk-container-id-2 {\n",
       "  /* Definition of color scheme common for light and dark mode */\n",
       "  --sklearn-color-text: black;\n",
       "  --sklearn-color-line: gray;\n",
       "  /* Definition of color scheme for unfitted estimators */\n",
       "  --sklearn-color-unfitted-level-0: #fff5e6;\n",
       "  --sklearn-color-unfitted-level-1: #f6e4d2;\n",
       "  --sklearn-color-unfitted-level-2: #ffe0b3;\n",
       "  --sklearn-color-unfitted-level-3: chocolate;\n",
       "  /* Definition of color scheme for fitted estimators */\n",
       "  --sklearn-color-fitted-level-0: #f0f8ff;\n",
       "  --sklearn-color-fitted-level-1: #d4ebff;\n",
       "  --sklearn-color-fitted-level-2: #b3dbfd;\n",
       "  --sklearn-color-fitted-level-3: cornflowerblue;\n",
       "\n",
       "  /* Specific color for light theme */\n",
       "  --sklearn-color-text-on-default-background: var(--sg-text-color, var(--theme-code-foreground, var(--jp-content-font-color1, black)));\n",
       "  --sklearn-color-background: var(--sg-background-color, var(--theme-background, var(--jp-layout-color0, white)));\n",
       "  --sklearn-color-border-box: var(--sg-text-color, var(--theme-code-foreground, var(--jp-content-font-color1, black)));\n",
       "  --sklearn-color-icon: #696969;\n",
       "\n",
       "  @media (prefers-color-scheme: dark) {\n",
       "    /* Redefinition of color scheme for dark theme */\n",
       "    --sklearn-color-text-on-default-background: var(--sg-text-color, var(--theme-code-foreground, var(--jp-content-font-color1, white)));\n",
       "    --sklearn-color-background: var(--sg-background-color, var(--theme-background, var(--jp-layout-color0, #111)));\n",
       "    --sklearn-color-border-box: var(--sg-text-color, var(--theme-code-foreground, var(--jp-content-font-color1, white)));\n",
       "    --sklearn-color-icon: #878787;\n",
       "  }\n",
       "}\n",
       "\n",
       "#sk-container-id-2 {\n",
       "  color: var(--sklearn-color-text);\n",
       "}\n",
       "\n",
       "#sk-container-id-2 pre {\n",
       "  padding: 0;\n",
       "}\n",
       "\n",
       "#sk-container-id-2 input.sk-hidden--visually {\n",
       "  border: 0;\n",
       "  clip: rect(1px 1px 1px 1px);\n",
       "  clip: rect(1px, 1px, 1px, 1px);\n",
       "  height: 1px;\n",
       "  margin: -1px;\n",
       "  overflow: hidden;\n",
       "  padding: 0;\n",
       "  position: absolute;\n",
       "  width: 1px;\n",
       "}\n",
       "\n",
       "#sk-container-id-2 div.sk-dashed-wrapped {\n",
       "  border: 1px dashed var(--sklearn-color-line);\n",
       "  margin: 0 0.4em 0.5em 0.4em;\n",
       "  box-sizing: border-box;\n",
       "  padding-bottom: 0.4em;\n",
       "  background-color: var(--sklearn-color-background);\n",
       "}\n",
       "\n",
       "#sk-container-id-2 div.sk-container {\n",
       "  /* jupyter's `normalize.less` sets `[hidden] { display: none; }`\n",
       "     but bootstrap.min.css set `[hidden] { display: none !important; }`\n",
       "     so we also need the `!important` here to be able to override the\n",
       "     default hidden behavior on the sphinx rendered scikit-learn.org.\n",
       "     See: https://github.com/scikit-learn/scikit-learn/issues/21755 */\n",
       "  display: inline-block !important;\n",
       "  position: relative;\n",
       "}\n",
       "\n",
       "#sk-container-id-2 div.sk-text-repr-fallback {\n",
       "  display: none;\n",
       "}\n",
       "\n",
       "div.sk-parallel-item,\n",
       "div.sk-serial,\n",
       "div.sk-item {\n",
       "  /* draw centered vertical line to link estimators */\n",
       "  background-image: linear-gradient(var(--sklearn-color-text-on-default-background), var(--sklearn-color-text-on-default-background));\n",
       "  background-size: 2px 100%;\n",
       "  background-repeat: no-repeat;\n",
       "  background-position: center center;\n",
       "}\n",
       "\n",
       "/* Parallel-specific style estimator block */\n",
       "\n",
       "#sk-container-id-2 div.sk-parallel-item::after {\n",
       "  content: \"\";\n",
       "  width: 100%;\n",
       "  border-bottom: 2px solid var(--sklearn-color-text-on-default-background);\n",
       "  flex-grow: 1;\n",
       "}\n",
       "\n",
       "#sk-container-id-2 div.sk-parallel {\n",
       "  display: flex;\n",
       "  align-items: stretch;\n",
       "  justify-content: center;\n",
       "  background-color: var(--sklearn-color-background);\n",
       "  position: relative;\n",
       "}\n",
       "\n",
       "#sk-container-id-2 div.sk-parallel-item {\n",
       "  display: flex;\n",
       "  flex-direction: column;\n",
       "}\n",
       "\n",
       "#sk-container-id-2 div.sk-parallel-item:first-child::after {\n",
       "  align-self: flex-end;\n",
       "  width: 50%;\n",
       "}\n",
       "\n",
       "#sk-container-id-2 div.sk-parallel-item:last-child::after {\n",
       "  align-self: flex-start;\n",
       "  width: 50%;\n",
       "}\n",
       "\n",
       "#sk-container-id-2 div.sk-parallel-item:only-child::after {\n",
       "  width: 0;\n",
       "}\n",
       "\n",
       "/* Serial-specific style estimator block */\n",
       "\n",
       "#sk-container-id-2 div.sk-serial {\n",
       "  display: flex;\n",
       "  flex-direction: column;\n",
       "  align-items: center;\n",
       "  background-color: var(--sklearn-color-background);\n",
       "  padding-right: 1em;\n",
       "  padding-left: 1em;\n",
       "}\n",
       "\n",
       "\n",
       "/* Toggleable style: style used for estimator/Pipeline/ColumnTransformer box that is\n",
       "clickable and can be expanded/collapsed.\n",
       "- Pipeline and ColumnTransformer use this feature and define the default style\n",
       "- Estimators will overwrite some part of the style using the `sk-estimator` class\n",
       "*/\n",
       "\n",
       "/* Pipeline and ColumnTransformer style (default) */\n",
       "\n",
       "#sk-container-id-2 div.sk-toggleable {\n",
       "  /* Default theme specific background. It is overwritten whether we have a\n",
       "  specific estimator or a Pipeline/ColumnTransformer */\n",
       "  background-color: var(--sklearn-color-background);\n",
       "}\n",
       "\n",
       "/* Toggleable label */\n",
       "#sk-container-id-2 label.sk-toggleable__label {\n",
       "  cursor: pointer;\n",
       "  display: block;\n",
       "  width: 100%;\n",
       "  margin-bottom: 0;\n",
       "  padding: 0.5em;\n",
       "  box-sizing: border-box;\n",
       "  text-align: center;\n",
       "}\n",
       "\n",
       "#sk-container-id-2 label.sk-toggleable__label-arrow:before {\n",
       "  /* Arrow on the left of the label */\n",
       "  content: \"▸\";\n",
       "  float: left;\n",
       "  margin-right: 0.25em;\n",
       "  color: var(--sklearn-color-icon);\n",
       "}\n",
       "\n",
       "#sk-container-id-2 label.sk-toggleable__label-arrow:hover:before {\n",
       "  color: var(--sklearn-color-text);\n",
       "}\n",
       "\n",
       "/* Toggleable content - dropdown */\n",
       "\n",
       "#sk-container-id-2 div.sk-toggleable__content {\n",
       "  max-height: 0;\n",
       "  max-width: 0;\n",
       "  overflow: hidden;\n",
       "  text-align: left;\n",
       "  /* unfitted */\n",
       "  background-color: var(--sklearn-color-unfitted-level-0);\n",
       "}\n",
       "\n",
       "#sk-container-id-2 div.sk-toggleable__content.fitted {\n",
       "  /* fitted */\n",
       "  background-color: var(--sklearn-color-fitted-level-0);\n",
       "}\n",
       "\n",
       "#sk-container-id-2 div.sk-toggleable__content pre {\n",
       "  margin: 0.2em;\n",
       "  border-radius: 0.25em;\n",
       "  color: var(--sklearn-color-text);\n",
       "  /* unfitted */\n",
       "  background-color: var(--sklearn-color-unfitted-level-0);\n",
       "}\n",
       "\n",
       "#sk-container-id-2 div.sk-toggleable__content.fitted pre {\n",
       "  /* unfitted */\n",
       "  background-color: var(--sklearn-color-fitted-level-0);\n",
       "}\n",
       "\n",
       "#sk-container-id-2 input.sk-toggleable__control:checked~div.sk-toggleable__content {\n",
       "  /* Expand drop-down */\n",
       "  max-height: 200px;\n",
       "  max-width: 100%;\n",
       "  overflow: auto;\n",
       "}\n",
       "\n",
       "#sk-container-id-2 input.sk-toggleable__control:checked~label.sk-toggleable__label-arrow:before {\n",
       "  content: \"▾\";\n",
       "}\n",
       "\n",
       "/* Pipeline/ColumnTransformer-specific style */\n",
       "\n",
       "#sk-container-id-2 div.sk-label input.sk-toggleable__control:checked~label.sk-toggleable__label {\n",
       "  color: var(--sklearn-color-text);\n",
       "  background-color: var(--sklearn-color-unfitted-level-2);\n",
       "}\n",
       "\n",
       "#sk-container-id-2 div.sk-label.fitted input.sk-toggleable__control:checked~label.sk-toggleable__label {\n",
       "  background-color: var(--sklearn-color-fitted-level-2);\n",
       "}\n",
       "\n",
       "/* Estimator-specific style */\n",
       "\n",
       "/* Colorize estimator box */\n",
       "#sk-container-id-2 div.sk-estimator input.sk-toggleable__control:checked~label.sk-toggleable__label {\n",
       "  /* unfitted */\n",
       "  background-color: var(--sklearn-color-unfitted-level-2);\n",
       "}\n",
       "\n",
       "#sk-container-id-2 div.sk-estimator.fitted input.sk-toggleable__control:checked~label.sk-toggleable__label {\n",
       "  /* fitted */\n",
       "  background-color: var(--sklearn-color-fitted-level-2);\n",
       "}\n",
       "\n",
       "#sk-container-id-2 div.sk-label label.sk-toggleable__label,\n",
       "#sk-container-id-2 div.sk-label label {\n",
       "  /* The background is the default theme color */\n",
       "  color: var(--sklearn-color-text-on-default-background);\n",
       "}\n",
       "\n",
       "/* On hover, darken the color of the background */\n",
       "#sk-container-id-2 div.sk-label:hover label.sk-toggleable__label {\n",
       "  color: var(--sklearn-color-text);\n",
       "  background-color: var(--sklearn-color-unfitted-level-2);\n",
       "}\n",
       "\n",
       "/* Label box, darken color on hover, fitted */\n",
       "#sk-container-id-2 div.sk-label.fitted:hover label.sk-toggleable__label.fitted {\n",
       "  color: var(--sklearn-color-text);\n",
       "  background-color: var(--sklearn-color-fitted-level-2);\n",
       "}\n",
       "\n",
       "/* Estimator label */\n",
       "\n",
       "#sk-container-id-2 div.sk-label label {\n",
       "  font-family: monospace;\n",
       "  font-weight: bold;\n",
       "  display: inline-block;\n",
       "  line-height: 1.2em;\n",
       "}\n",
       "\n",
       "#sk-container-id-2 div.sk-label-container {\n",
       "  text-align: center;\n",
       "}\n",
       "\n",
       "/* Estimator-specific */\n",
       "#sk-container-id-2 div.sk-estimator {\n",
       "  font-family: monospace;\n",
       "  border: 1px dotted var(--sklearn-color-border-box);\n",
       "  border-radius: 0.25em;\n",
       "  box-sizing: border-box;\n",
       "  margin-bottom: 0.5em;\n",
       "  /* unfitted */\n",
       "  background-color: var(--sklearn-color-unfitted-level-0);\n",
       "}\n",
       "\n",
       "#sk-container-id-2 div.sk-estimator.fitted {\n",
       "  /* fitted */\n",
       "  background-color: var(--sklearn-color-fitted-level-0);\n",
       "}\n",
       "\n",
       "/* on hover */\n",
       "#sk-container-id-2 div.sk-estimator:hover {\n",
       "  /* unfitted */\n",
       "  background-color: var(--sklearn-color-unfitted-level-2);\n",
       "}\n",
       "\n",
       "#sk-container-id-2 div.sk-estimator.fitted:hover {\n",
       "  /* fitted */\n",
       "  background-color: var(--sklearn-color-fitted-level-2);\n",
       "}\n",
       "\n",
       "/* Specification for estimator info (e.g. \"i\" and \"?\") */\n",
       "\n",
       "/* Common style for \"i\" and \"?\" */\n",
       "\n",
       ".sk-estimator-doc-link,\n",
       "a:link.sk-estimator-doc-link,\n",
       "a:visited.sk-estimator-doc-link {\n",
       "  float: right;\n",
       "  font-size: smaller;\n",
       "  line-height: 1em;\n",
       "  font-family: monospace;\n",
       "  background-color: var(--sklearn-color-background);\n",
       "  border-radius: 1em;\n",
       "  height: 1em;\n",
       "  width: 1em;\n",
       "  text-decoration: none !important;\n",
       "  margin-left: 1ex;\n",
       "  /* unfitted */\n",
       "  border: var(--sklearn-color-unfitted-level-1) 1pt solid;\n",
       "  color: var(--sklearn-color-unfitted-level-1);\n",
       "}\n",
       "\n",
       ".sk-estimator-doc-link.fitted,\n",
       "a:link.sk-estimator-doc-link.fitted,\n",
       "a:visited.sk-estimator-doc-link.fitted {\n",
       "  /* fitted */\n",
       "  border: var(--sklearn-color-fitted-level-1) 1pt solid;\n",
       "  color: var(--sklearn-color-fitted-level-1);\n",
       "}\n",
       "\n",
       "/* On hover */\n",
       "div.sk-estimator:hover .sk-estimator-doc-link:hover,\n",
       ".sk-estimator-doc-link:hover,\n",
       "div.sk-label-container:hover .sk-estimator-doc-link:hover,\n",
       ".sk-estimator-doc-link:hover {\n",
       "  /* unfitted */\n",
       "  background-color: var(--sklearn-color-unfitted-level-3);\n",
       "  color: var(--sklearn-color-background);\n",
       "  text-decoration: none;\n",
       "}\n",
       "\n",
       "div.sk-estimator.fitted:hover .sk-estimator-doc-link.fitted:hover,\n",
       ".sk-estimator-doc-link.fitted:hover,\n",
       "div.sk-label-container:hover .sk-estimator-doc-link.fitted:hover,\n",
       ".sk-estimator-doc-link.fitted:hover {\n",
       "  /* fitted */\n",
       "  background-color: var(--sklearn-color-fitted-level-3);\n",
       "  color: var(--sklearn-color-background);\n",
       "  text-decoration: none;\n",
       "}\n",
       "\n",
       "/* Span, style for the box shown on hovering the info icon */\n",
       ".sk-estimator-doc-link span {\n",
       "  display: none;\n",
       "  z-index: 9999;\n",
       "  position: relative;\n",
       "  font-weight: normal;\n",
       "  right: .2ex;\n",
       "  padding: .5ex;\n",
       "  margin: .5ex;\n",
       "  width: min-content;\n",
       "  min-width: 20ex;\n",
       "  max-width: 50ex;\n",
       "  color: var(--sklearn-color-text);\n",
       "  box-shadow: 2pt 2pt 4pt #999;\n",
       "  /* unfitted */\n",
       "  background: var(--sklearn-color-unfitted-level-0);\n",
       "  border: .5pt solid var(--sklearn-color-unfitted-level-3);\n",
       "}\n",
       "\n",
       ".sk-estimator-doc-link.fitted span {\n",
       "  /* fitted */\n",
       "  background: var(--sklearn-color-fitted-level-0);\n",
       "  border: var(--sklearn-color-fitted-level-3);\n",
       "}\n",
       "\n",
       ".sk-estimator-doc-link:hover span {\n",
       "  display: block;\n",
       "}\n",
       "\n",
       "/* \"?\"-specific style due to the `<a>` HTML tag */\n",
       "\n",
       "#sk-container-id-2 a.estimator_doc_link {\n",
       "  float: right;\n",
       "  font-size: 1rem;\n",
       "  line-height: 1em;\n",
       "  font-family: monospace;\n",
       "  background-color: var(--sklearn-color-background);\n",
       "  border-radius: 1rem;\n",
       "  height: 1rem;\n",
       "  width: 1rem;\n",
       "  text-decoration: none;\n",
       "  /* unfitted */\n",
       "  color: var(--sklearn-color-unfitted-level-1);\n",
       "  border: var(--sklearn-color-unfitted-level-1) 1pt solid;\n",
       "}\n",
       "\n",
       "#sk-container-id-2 a.estimator_doc_link.fitted {\n",
       "  /* fitted */\n",
       "  border: var(--sklearn-color-fitted-level-1) 1pt solid;\n",
       "  color: var(--sklearn-color-fitted-level-1);\n",
       "}\n",
       "\n",
       "/* On hover */\n",
       "#sk-container-id-2 a.estimator_doc_link:hover {\n",
       "  /* unfitted */\n",
       "  background-color: var(--sklearn-color-unfitted-level-3);\n",
       "  color: var(--sklearn-color-background);\n",
       "  text-decoration: none;\n",
       "}\n",
       "\n",
       "#sk-container-id-2 a.estimator_doc_link.fitted:hover {\n",
       "  /* fitted */\n",
       "  background-color: var(--sklearn-color-fitted-level-3);\n",
       "}\n",
       "</style><div id=\"sk-container-id-2\" class=\"sk-top-container\"><div class=\"sk-text-repr-fallback\"><pre>RandomForestClassifier()</pre><b>In a Jupyter environment, please rerun this cell to show the HTML representation or trust the notebook. <br />On GitHub, the HTML representation is unable to render, please try loading this page with nbviewer.org.</b></div><div class=\"sk-container\" hidden><div class=\"sk-item\"><div class=\"sk-estimator fitted sk-toggleable\"><input class=\"sk-toggleable__control sk-hidden--visually\" id=\"sk-estimator-id-2\" type=\"checkbox\" checked><label for=\"sk-estimator-id-2\" class=\"sk-toggleable__label fitted sk-toggleable__label-arrow fitted\">&nbsp;&nbsp;RandomForestClassifier<a class=\"sk-estimator-doc-link fitted\" rel=\"noreferrer\" target=\"_blank\" href=\"https://scikit-learn.org/1.5/modules/generated/sklearn.ensemble.RandomForestClassifier.html\">?<span>Documentation for RandomForestClassifier</span></a><span class=\"sk-estimator-doc-link fitted\">i<span>Fitted</span></span></label><div class=\"sk-toggleable__content fitted\"><pre>RandomForestClassifier()</pre></div> </div></div></div></div>"
      ],
      "text/plain": [
       "RandomForestClassifier()"
      ]
     },
     "execution_count": 161,
     "metadata": {},
     "output_type": "execute_result"
    }
   ],
   "source": [
    "from sklearn.ensemble import RandomForestClassifier\n",
    "model = RandomForestClassifier()\n",
    "model.fit(X, y)"
   ]
  },
  {
   "cell_type": "code",
   "execution_count": 162,
   "metadata": {},
   "outputs": [
    {
     "name": "stdout",
     "output_type": "stream",
     "text": [
      "AUC-ROC Score: 0.7271\n",
      "accuracy score: 0.9195\n",
      "precision score: 0.7333\n",
      "recall score: 0.0044\n",
      "f1 score: 0.0088\n",
      "[[84794    12]\n",
      " [ 7415    33]]\n",
      "              precision    recall  f1-score   support\n",
      "\n",
      "           0       0.92      1.00      0.96     84806\n",
      "           1       0.73      0.00      0.01      7448\n",
      "\n",
      "    accuracy                           0.92     92254\n",
      "   macro avg       0.83      0.50      0.48     92254\n",
      "weighted avg       0.90      0.92      0.88     92254\n",
      "\n"
     ]
    }
   ],
   "source": [
    "y_pred_proba = model.predict_proba(X_test)[:, 1]  # Probabilities for class 1\n",
    "y_pred = model.predict(X_test)\n",
    "\n",
    "print(f\"AUC-ROC Score: {roc_auc_score(y_test, y_pred_proba):.4f}\")\n",
    "print(f\"accuracy score: {accuracy_score(y_test, y_pred):.4f}\")\n",
    "print(f\"precision score: {precision_score(y_test, y_pred):.4f}\")\n",
    "print(f\"recall score: {recall_score(y_test, y_pred):.4f}\")\n",
    "print(f\"f1 score: {f1_score(y_test, y_pred):.4f}\")\n",
    "print(f\"{confusion_matrix(y_test, y_pred)}\")\n",
    "print(classification_report(y_test, y_pred))"
   ]
  },
  {
   "cell_type": "markdown",
   "metadata": {},
   "source": [
    "повторим то же самое с resampling"
   ]
  },
  {
   "cell_type": "code",
   "execution_count": 163,
   "metadata": {},
   "outputs": [
    {
     "name": "stdout",
     "output_type": "stream",
     "text": [
      "AUC-ROC Score: 0.7565\n",
      "accuracy score: 0.7018\n",
      "precision score: 0.1688\n",
      "recall score: 0.6861\n",
      "f1 score: 0.2709\n",
      "[[59636 25170]\n",
      " [ 2338  5110]]\n",
      "              precision    recall  f1-score   support\n",
      "\n",
      "           0       0.96      0.70      0.81     84806\n",
      "           1       0.17      0.69      0.27      7448\n",
      "\n",
      "    accuracy                           0.70     92254\n",
      "   macro avg       0.57      0.69      0.54     92254\n",
      "weighted avg       0.90      0.70      0.77     92254\n",
      "\n"
     ]
    }
   ],
   "source": [
    "X = apps_all_train_resampled.drop(['TARGET','SK_ID_CURR'], axis=1).copy()\n",
    "y = apps_all_train_resampled['TARGET']\n",
    "\n",
    "X_test = apps_all_test.drop(['TARGET','SK_ID_CURR'], axis=1).copy()\n",
    "y_test = apps_all_test['TARGET']\n",
    "\n",
    "model = RandomForestClassifier()\n",
    "model.fit(X, y)\n",
    "\n",
    "y_pred_proba = model.predict_proba(X_test)[:, 1]  # Probabilities for class 1\n",
    "y_pred = model.predict(X_test)\n",
    "\n",
    "print(f\"AUC-ROC Score: {roc_auc_score(y_test, y_pred_proba):.4f}\")\n",
    "print(f\"accuracy score: {accuracy_score(y_test, y_pred):.4f}\")\n",
    "print(f\"precision score: {precision_score(y_test, y_pred):.4f}\")\n",
    "print(f\"recall score: {recall_score(y_test, y_pred):.4f}\")\n",
    "print(f\"f1 score: {f1_score(y_test, y_pred):.4f}\")\n",
    "print(f\"{confusion_matrix(y_test, y_pred)}\")\n",
    "print(classification_report(y_test, y_pred))"
   ]
  },
  {
   "cell_type": "markdown",
   "metadata": {},
   "source": [
    "### Логистическая регрессия"
   ]
  },
  {
   "cell_type": "code",
   "execution_count": 164,
   "metadata": {},
   "outputs": [],
   "source": [
    "X = apps_all_train_resampled.drop(['TARGET','SK_ID_CURR'], axis=1).copy()\n",
    "y = apps_all_train_resampled['TARGET']\n",
    "\n",
    "X_test = apps_all_test.drop(['TARGET','SK_ID_CURR'], axis=1).copy()\n",
    "y_test = apps_all_test['TARGET']"
   ]
  },
  {
   "cell_type": "code",
   "execution_count": 165,
   "metadata": {},
   "outputs": [
    {
     "data": {
      "text/html": [
       "<style>#sk-container-id-3 {\n",
       "  /* Definition of color scheme common for light and dark mode */\n",
       "  --sklearn-color-text: black;\n",
       "  --sklearn-color-line: gray;\n",
       "  /* Definition of color scheme for unfitted estimators */\n",
       "  --sklearn-color-unfitted-level-0: #fff5e6;\n",
       "  --sklearn-color-unfitted-level-1: #f6e4d2;\n",
       "  --sklearn-color-unfitted-level-2: #ffe0b3;\n",
       "  --sklearn-color-unfitted-level-3: chocolate;\n",
       "  /* Definition of color scheme for fitted estimators */\n",
       "  --sklearn-color-fitted-level-0: #f0f8ff;\n",
       "  --sklearn-color-fitted-level-1: #d4ebff;\n",
       "  --sklearn-color-fitted-level-2: #b3dbfd;\n",
       "  --sklearn-color-fitted-level-3: cornflowerblue;\n",
       "\n",
       "  /* Specific color for light theme */\n",
       "  --sklearn-color-text-on-default-background: var(--sg-text-color, var(--theme-code-foreground, var(--jp-content-font-color1, black)));\n",
       "  --sklearn-color-background: var(--sg-background-color, var(--theme-background, var(--jp-layout-color0, white)));\n",
       "  --sklearn-color-border-box: var(--sg-text-color, var(--theme-code-foreground, var(--jp-content-font-color1, black)));\n",
       "  --sklearn-color-icon: #696969;\n",
       "\n",
       "  @media (prefers-color-scheme: dark) {\n",
       "    /* Redefinition of color scheme for dark theme */\n",
       "    --sklearn-color-text-on-default-background: var(--sg-text-color, var(--theme-code-foreground, var(--jp-content-font-color1, white)));\n",
       "    --sklearn-color-background: var(--sg-background-color, var(--theme-background, var(--jp-layout-color0, #111)));\n",
       "    --sklearn-color-border-box: var(--sg-text-color, var(--theme-code-foreground, var(--jp-content-font-color1, white)));\n",
       "    --sklearn-color-icon: #878787;\n",
       "  }\n",
       "}\n",
       "\n",
       "#sk-container-id-3 {\n",
       "  color: var(--sklearn-color-text);\n",
       "}\n",
       "\n",
       "#sk-container-id-3 pre {\n",
       "  padding: 0;\n",
       "}\n",
       "\n",
       "#sk-container-id-3 input.sk-hidden--visually {\n",
       "  border: 0;\n",
       "  clip: rect(1px 1px 1px 1px);\n",
       "  clip: rect(1px, 1px, 1px, 1px);\n",
       "  height: 1px;\n",
       "  margin: -1px;\n",
       "  overflow: hidden;\n",
       "  padding: 0;\n",
       "  position: absolute;\n",
       "  width: 1px;\n",
       "}\n",
       "\n",
       "#sk-container-id-3 div.sk-dashed-wrapped {\n",
       "  border: 1px dashed var(--sklearn-color-line);\n",
       "  margin: 0 0.4em 0.5em 0.4em;\n",
       "  box-sizing: border-box;\n",
       "  padding-bottom: 0.4em;\n",
       "  background-color: var(--sklearn-color-background);\n",
       "}\n",
       "\n",
       "#sk-container-id-3 div.sk-container {\n",
       "  /* jupyter's `normalize.less` sets `[hidden] { display: none; }`\n",
       "     but bootstrap.min.css set `[hidden] { display: none !important; }`\n",
       "     so we also need the `!important` here to be able to override the\n",
       "     default hidden behavior on the sphinx rendered scikit-learn.org.\n",
       "     See: https://github.com/scikit-learn/scikit-learn/issues/21755 */\n",
       "  display: inline-block !important;\n",
       "  position: relative;\n",
       "}\n",
       "\n",
       "#sk-container-id-3 div.sk-text-repr-fallback {\n",
       "  display: none;\n",
       "}\n",
       "\n",
       "div.sk-parallel-item,\n",
       "div.sk-serial,\n",
       "div.sk-item {\n",
       "  /* draw centered vertical line to link estimators */\n",
       "  background-image: linear-gradient(var(--sklearn-color-text-on-default-background), var(--sklearn-color-text-on-default-background));\n",
       "  background-size: 2px 100%;\n",
       "  background-repeat: no-repeat;\n",
       "  background-position: center center;\n",
       "}\n",
       "\n",
       "/* Parallel-specific style estimator block */\n",
       "\n",
       "#sk-container-id-3 div.sk-parallel-item::after {\n",
       "  content: \"\";\n",
       "  width: 100%;\n",
       "  border-bottom: 2px solid var(--sklearn-color-text-on-default-background);\n",
       "  flex-grow: 1;\n",
       "}\n",
       "\n",
       "#sk-container-id-3 div.sk-parallel {\n",
       "  display: flex;\n",
       "  align-items: stretch;\n",
       "  justify-content: center;\n",
       "  background-color: var(--sklearn-color-background);\n",
       "  position: relative;\n",
       "}\n",
       "\n",
       "#sk-container-id-3 div.sk-parallel-item {\n",
       "  display: flex;\n",
       "  flex-direction: column;\n",
       "}\n",
       "\n",
       "#sk-container-id-3 div.sk-parallel-item:first-child::after {\n",
       "  align-self: flex-end;\n",
       "  width: 50%;\n",
       "}\n",
       "\n",
       "#sk-container-id-3 div.sk-parallel-item:last-child::after {\n",
       "  align-self: flex-start;\n",
       "  width: 50%;\n",
       "}\n",
       "\n",
       "#sk-container-id-3 div.sk-parallel-item:only-child::after {\n",
       "  width: 0;\n",
       "}\n",
       "\n",
       "/* Serial-specific style estimator block */\n",
       "\n",
       "#sk-container-id-3 div.sk-serial {\n",
       "  display: flex;\n",
       "  flex-direction: column;\n",
       "  align-items: center;\n",
       "  background-color: var(--sklearn-color-background);\n",
       "  padding-right: 1em;\n",
       "  padding-left: 1em;\n",
       "}\n",
       "\n",
       "\n",
       "/* Toggleable style: style used for estimator/Pipeline/ColumnTransformer box that is\n",
       "clickable and can be expanded/collapsed.\n",
       "- Pipeline and ColumnTransformer use this feature and define the default style\n",
       "- Estimators will overwrite some part of the style using the `sk-estimator` class\n",
       "*/\n",
       "\n",
       "/* Pipeline and ColumnTransformer style (default) */\n",
       "\n",
       "#sk-container-id-3 div.sk-toggleable {\n",
       "  /* Default theme specific background. It is overwritten whether we have a\n",
       "  specific estimator or a Pipeline/ColumnTransformer */\n",
       "  background-color: var(--sklearn-color-background);\n",
       "}\n",
       "\n",
       "/* Toggleable label */\n",
       "#sk-container-id-3 label.sk-toggleable__label {\n",
       "  cursor: pointer;\n",
       "  display: block;\n",
       "  width: 100%;\n",
       "  margin-bottom: 0;\n",
       "  padding: 0.5em;\n",
       "  box-sizing: border-box;\n",
       "  text-align: center;\n",
       "}\n",
       "\n",
       "#sk-container-id-3 label.sk-toggleable__label-arrow:before {\n",
       "  /* Arrow on the left of the label */\n",
       "  content: \"▸\";\n",
       "  float: left;\n",
       "  margin-right: 0.25em;\n",
       "  color: var(--sklearn-color-icon);\n",
       "}\n",
       "\n",
       "#sk-container-id-3 label.sk-toggleable__label-arrow:hover:before {\n",
       "  color: var(--sklearn-color-text);\n",
       "}\n",
       "\n",
       "/* Toggleable content - dropdown */\n",
       "\n",
       "#sk-container-id-3 div.sk-toggleable__content {\n",
       "  max-height: 0;\n",
       "  max-width: 0;\n",
       "  overflow: hidden;\n",
       "  text-align: left;\n",
       "  /* unfitted */\n",
       "  background-color: var(--sklearn-color-unfitted-level-0);\n",
       "}\n",
       "\n",
       "#sk-container-id-3 div.sk-toggleable__content.fitted {\n",
       "  /* fitted */\n",
       "  background-color: var(--sklearn-color-fitted-level-0);\n",
       "}\n",
       "\n",
       "#sk-container-id-3 div.sk-toggleable__content pre {\n",
       "  margin: 0.2em;\n",
       "  border-radius: 0.25em;\n",
       "  color: var(--sklearn-color-text);\n",
       "  /* unfitted */\n",
       "  background-color: var(--sklearn-color-unfitted-level-0);\n",
       "}\n",
       "\n",
       "#sk-container-id-3 div.sk-toggleable__content.fitted pre {\n",
       "  /* unfitted */\n",
       "  background-color: var(--sklearn-color-fitted-level-0);\n",
       "}\n",
       "\n",
       "#sk-container-id-3 input.sk-toggleable__control:checked~div.sk-toggleable__content {\n",
       "  /* Expand drop-down */\n",
       "  max-height: 200px;\n",
       "  max-width: 100%;\n",
       "  overflow: auto;\n",
       "}\n",
       "\n",
       "#sk-container-id-3 input.sk-toggleable__control:checked~label.sk-toggleable__label-arrow:before {\n",
       "  content: \"▾\";\n",
       "}\n",
       "\n",
       "/* Pipeline/ColumnTransformer-specific style */\n",
       "\n",
       "#sk-container-id-3 div.sk-label input.sk-toggleable__control:checked~label.sk-toggleable__label {\n",
       "  color: var(--sklearn-color-text);\n",
       "  background-color: var(--sklearn-color-unfitted-level-2);\n",
       "}\n",
       "\n",
       "#sk-container-id-3 div.sk-label.fitted input.sk-toggleable__control:checked~label.sk-toggleable__label {\n",
       "  background-color: var(--sklearn-color-fitted-level-2);\n",
       "}\n",
       "\n",
       "/* Estimator-specific style */\n",
       "\n",
       "/* Colorize estimator box */\n",
       "#sk-container-id-3 div.sk-estimator input.sk-toggleable__control:checked~label.sk-toggleable__label {\n",
       "  /* unfitted */\n",
       "  background-color: var(--sklearn-color-unfitted-level-2);\n",
       "}\n",
       "\n",
       "#sk-container-id-3 div.sk-estimator.fitted input.sk-toggleable__control:checked~label.sk-toggleable__label {\n",
       "  /* fitted */\n",
       "  background-color: var(--sklearn-color-fitted-level-2);\n",
       "}\n",
       "\n",
       "#sk-container-id-3 div.sk-label label.sk-toggleable__label,\n",
       "#sk-container-id-3 div.sk-label label {\n",
       "  /* The background is the default theme color */\n",
       "  color: var(--sklearn-color-text-on-default-background);\n",
       "}\n",
       "\n",
       "/* On hover, darken the color of the background */\n",
       "#sk-container-id-3 div.sk-label:hover label.sk-toggleable__label {\n",
       "  color: var(--sklearn-color-text);\n",
       "  background-color: var(--sklearn-color-unfitted-level-2);\n",
       "}\n",
       "\n",
       "/* Label box, darken color on hover, fitted */\n",
       "#sk-container-id-3 div.sk-label.fitted:hover label.sk-toggleable__label.fitted {\n",
       "  color: var(--sklearn-color-text);\n",
       "  background-color: var(--sklearn-color-fitted-level-2);\n",
       "}\n",
       "\n",
       "/* Estimator label */\n",
       "\n",
       "#sk-container-id-3 div.sk-label label {\n",
       "  font-family: monospace;\n",
       "  font-weight: bold;\n",
       "  display: inline-block;\n",
       "  line-height: 1.2em;\n",
       "}\n",
       "\n",
       "#sk-container-id-3 div.sk-label-container {\n",
       "  text-align: center;\n",
       "}\n",
       "\n",
       "/* Estimator-specific */\n",
       "#sk-container-id-3 div.sk-estimator {\n",
       "  font-family: monospace;\n",
       "  border: 1px dotted var(--sklearn-color-border-box);\n",
       "  border-radius: 0.25em;\n",
       "  box-sizing: border-box;\n",
       "  margin-bottom: 0.5em;\n",
       "  /* unfitted */\n",
       "  background-color: var(--sklearn-color-unfitted-level-0);\n",
       "}\n",
       "\n",
       "#sk-container-id-3 div.sk-estimator.fitted {\n",
       "  /* fitted */\n",
       "  background-color: var(--sklearn-color-fitted-level-0);\n",
       "}\n",
       "\n",
       "/* on hover */\n",
       "#sk-container-id-3 div.sk-estimator:hover {\n",
       "  /* unfitted */\n",
       "  background-color: var(--sklearn-color-unfitted-level-2);\n",
       "}\n",
       "\n",
       "#sk-container-id-3 div.sk-estimator.fitted:hover {\n",
       "  /* fitted */\n",
       "  background-color: var(--sklearn-color-fitted-level-2);\n",
       "}\n",
       "\n",
       "/* Specification for estimator info (e.g. \"i\" and \"?\") */\n",
       "\n",
       "/* Common style for \"i\" and \"?\" */\n",
       "\n",
       ".sk-estimator-doc-link,\n",
       "a:link.sk-estimator-doc-link,\n",
       "a:visited.sk-estimator-doc-link {\n",
       "  float: right;\n",
       "  font-size: smaller;\n",
       "  line-height: 1em;\n",
       "  font-family: monospace;\n",
       "  background-color: var(--sklearn-color-background);\n",
       "  border-radius: 1em;\n",
       "  height: 1em;\n",
       "  width: 1em;\n",
       "  text-decoration: none !important;\n",
       "  margin-left: 1ex;\n",
       "  /* unfitted */\n",
       "  border: var(--sklearn-color-unfitted-level-1) 1pt solid;\n",
       "  color: var(--sklearn-color-unfitted-level-1);\n",
       "}\n",
       "\n",
       ".sk-estimator-doc-link.fitted,\n",
       "a:link.sk-estimator-doc-link.fitted,\n",
       "a:visited.sk-estimator-doc-link.fitted {\n",
       "  /* fitted */\n",
       "  border: var(--sklearn-color-fitted-level-1) 1pt solid;\n",
       "  color: var(--sklearn-color-fitted-level-1);\n",
       "}\n",
       "\n",
       "/* On hover */\n",
       "div.sk-estimator:hover .sk-estimator-doc-link:hover,\n",
       ".sk-estimator-doc-link:hover,\n",
       "div.sk-label-container:hover .sk-estimator-doc-link:hover,\n",
       ".sk-estimator-doc-link:hover {\n",
       "  /* unfitted */\n",
       "  background-color: var(--sklearn-color-unfitted-level-3);\n",
       "  color: var(--sklearn-color-background);\n",
       "  text-decoration: none;\n",
       "}\n",
       "\n",
       "div.sk-estimator.fitted:hover .sk-estimator-doc-link.fitted:hover,\n",
       ".sk-estimator-doc-link.fitted:hover,\n",
       "div.sk-label-container:hover .sk-estimator-doc-link.fitted:hover,\n",
       ".sk-estimator-doc-link.fitted:hover {\n",
       "  /* fitted */\n",
       "  background-color: var(--sklearn-color-fitted-level-3);\n",
       "  color: var(--sklearn-color-background);\n",
       "  text-decoration: none;\n",
       "}\n",
       "\n",
       "/* Span, style for the box shown on hovering the info icon */\n",
       ".sk-estimator-doc-link span {\n",
       "  display: none;\n",
       "  z-index: 9999;\n",
       "  position: relative;\n",
       "  font-weight: normal;\n",
       "  right: .2ex;\n",
       "  padding: .5ex;\n",
       "  margin: .5ex;\n",
       "  width: min-content;\n",
       "  min-width: 20ex;\n",
       "  max-width: 50ex;\n",
       "  color: var(--sklearn-color-text);\n",
       "  box-shadow: 2pt 2pt 4pt #999;\n",
       "  /* unfitted */\n",
       "  background: var(--sklearn-color-unfitted-level-0);\n",
       "  border: .5pt solid var(--sklearn-color-unfitted-level-3);\n",
       "}\n",
       "\n",
       ".sk-estimator-doc-link.fitted span {\n",
       "  /* fitted */\n",
       "  background: var(--sklearn-color-fitted-level-0);\n",
       "  border: var(--sklearn-color-fitted-level-3);\n",
       "}\n",
       "\n",
       ".sk-estimator-doc-link:hover span {\n",
       "  display: block;\n",
       "}\n",
       "\n",
       "/* \"?\"-specific style due to the `<a>` HTML tag */\n",
       "\n",
       "#sk-container-id-3 a.estimator_doc_link {\n",
       "  float: right;\n",
       "  font-size: 1rem;\n",
       "  line-height: 1em;\n",
       "  font-family: monospace;\n",
       "  background-color: var(--sklearn-color-background);\n",
       "  border-radius: 1rem;\n",
       "  height: 1rem;\n",
       "  width: 1rem;\n",
       "  text-decoration: none;\n",
       "  /* unfitted */\n",
       "  color: var(--sklearn-color-unfitted-level-1);\n",
       "  border: var(--sklearn-color-unfitted-level-1) 1pt solid;\n",
       "}\n",
       "\n",
       "#sk-container-id-3 a.estimator_doc_link.fitted {\n",
       "  /* fitted */\n",
       "  border: var(--sklearn-color-fitted-level-1) 1pt solid;\n",
       "  color: var(--sklearn-color-fitted-level-1);\n",
       "}\n",
       "\n",
       "/* On hover */\n",
       "#sk-container-id-3 a.estimator_doc_link:hover {\n",
       "  /* unfitted */\n",
       "  background-color: var(--sklearn-color-unfitted-level-3);\n",
       "  color: var(--sklearn-color-background);\n",
       "  text-decoration: none;\n",
       "}\n",
       "\n",
       "#sk-container-id-3 a.estimator_doc_link.fitted:hover {\n",
       "  /* fitted */\n",
       "  background-color: var(--sklearn-color-fitted-level-3);\n",
       "}\n",
       "</style><div id=\"sk-container-id-3\" class=\"sk-top-container\"><div class=\"sk-text-repr-fallback\"><pre>LogisticRegression(C=1, class_weight=&#x27;balanced&#x27;, max_iter=500, penalty=&#x27;l1&#x27;,\n",
       "                   solver=&#x27;liblinear&#x27;)</pre><b>In a Jupyter environment, please rerun this cell to show the HTML representation or trust the notebook. <br />On GitHub, the HTML representation is unable to render, please try loading this page with nbviewer.org.</b></div><div class=\"sk-container\" hidden><div class=\"sk-item\"><div class=\"sk-estimator fitted sk-toggleable\"><input class=\"sk-toggleable__control sk-hidden--visually\" id=\"sk-estimator-id-3\" type=\"checkbox\" checked><label for=\"sk-estimator-id-3\" class=\"sk-toggleable__label fitted sk-toggleable__label-arrow fitted\">&nbsp;&nbsp;LogisticRegression<a class=\"sk-estimator-doc-link fitted\" rel=\"noreferrer\" target=\"_blank\" href=\"https://scikit-learn.org/1.5/modules/generated/sklearn.linear_model.LogisticRegression.html\">?<span>Documentation for LogisticRegression</span></a><span class=\"sk-estimator-doc-link fitted\">i<span>Fitted</span></span></label><div class=\"sk-toggleable__content fitted\"><pre>LogisticRegression(C=1, class_weight=&#x27;balanced&#x27;, max_iter=500, penalty=&#x27;l1&#x27;,\n",
       "                   solver=&#x27;liblinear&#x27;)</pre></div> </div></div></div></div>"
      ],
      "text/plain": [
       "LogisticRegression(C=1, class_weight='balanced', max_iter=500, penalty='l1',\n",
       "                   solver='liblinear')"
      ]
     },
     "execution_count": 165,
     "metadata": {},
     "output_type": "execute_result"
    }
   ],
   "source": [
    "from sklearn.linear_model import LogisticRegression\n",
    "\n",
    "model = LogisticRegression(max_iter=500,class_weight=\"balanced\",penalty=\"l1\",solver=\"liblinear\",C=1)\n",
    "\n",
    "model.fit(X, y)"
   ]
  },
  {
   "cell_type": "code",
   "execution_count": 166,
   "metadata": {},
   "outputs": [
    {
     "name": "stdout",
     "output_type": "stream",
     "text": [
      "AUC-ROC Score: 0.7651\n",
      "accuracy score: 0.6974\n",
      "precision score: 0.1677\n",
      "recall score: 0.6936\n",
      "f1 score: 0.2702\n",
      "[[59176 25630]\n",
      " [ 2282  5166]]\n",
      "              precision    recall  f1-score   support\n",
      "\n",
      "           0       0.96      0.70      0.81     84806\n",
      "           1       0.17      0.69      0.27      7448\n",
      "\n",
      "    accuracy                           0.70     92254\n",
      "   macro avg       0.57      0.70      0.54     92254\n",
      "weighted avg       0.90      0.70      0.77     92254\n",
      "\n"
     ]
    }
   ],
   "source": [
    "X_test = apps_all_test.drop(['TARGET','SK_ID_CURR'], axis=1).copy()\n",
    "y_test = apps_all_test['TARGET']\n",
    "\n",
    "y_pred_proba = model.predict_proba(X_test)[:, 1]  # Probabilities for class 1\n",
    "y_pred = model.predict(X_test)\n",
    "\n",
    "print(f\"AUC-ROC Score: {roc_auc_score(y_test, y_pred_proba):.4f}\")\n",
    "print(f\"accuracy score: {accuracy_score(y_test, y_pred):.4f}\")\n",
    "print(f\"precision score: {precision_score(y_test, y_pred):.4f}\")\n",
    "print(f\"recall score: {recall_score(y_test, y_pred):.4f}\")\n",
    "print(f\"f1 score: {f1_score(y_test, y_pred):.4f}\")\n",
    "print(f\"{confusion_matrix(y_test, y_pred)}\")\n",
    "print(classification_report(y_test, y_pred))"
   ]
  },
  {
   "cell_type": "code",
   "execution_count": 172,
   "metadata": {},
   "outputs": [
    {
     "name": "stdout",
     "output_type": "stream",
     "text": [
      "       AUC-ROC  Accuracy  Precision  Recall  F1 Score\n",
      "Train   0.7675    0.6973     0.6995  0.6918    0.6956\n",
      "Test    0.7651    0.8602     0.2726  0.4385    0.3362\n"
     ]
    }
   ],
   "source": [
    "y_pred_proba = model.predict_proba(X_test)[:, 1]  # Probabilities for class 1\n",
    "y_pred = model.predict(X_test)\n",
    "\n",
    "y_pred_proba_train = model.predict_proba(X)[:, 1]  # Probabilities for class 1\n",
    "y_pred_train = model.predict(X)\n",
    "\n",
    "# Compute metrics for train and test sets\n",
    "metrics_train = get_metrics(y, y_pred_train, y_pred_proba_train)\n",
    "metrics_test = get_metrics(y_test, y_pred_new, y_pred_proba)\n",
    "\n",
    "metrics_df  = pd.DataFrame([metrics_train, metrics_test], index=[\"Train\", \"Test\"])\n",
    "\n",
    "# Round values for better readability\n",
    "metrics_df  = metrics_df .round(4)\n",
    "\n",
    "# Display summary table\n",
    "metrics_df .to_csv('Log_regression_metrics.csv')\n",
    "print(metrics_df )"
   ]
  },
  {
   "cell_type": "code",
   "execution_count": 167,
   "metadata": {},
   "outputs": [],
   "source": [
    "# X = apps_all_train.drop(['TARGET','SK_ID_CURR'], axis=1).copy()\n",
    "# y = apps_all_train['TARGET']\n",
    "\n",
    "# X_test = apps_all_test.drop(['TARGET','SK_ID_CURR'], axis=1).copy()\n",
    "# y_test = apps_all_test['TARGET']"
   ]
  },
  {
   "cell_type": "code",
   "execution_count": 168,
   "metadata": {},
   "outputs": [],
   "source": [
    "# from sklearn.linear_model import LogisticRegression\n",
    "\n",
    "# model = LogisticRegression(max_iter=500,class_weight=\"balanced\",penalty=\"l1\",solver=\"liblinear\",C=1)\n",
    "\n",
    "# model.fit(X, y)"
   ]
  },
  {
   "cell_type": "markdown",
   "metadata": {},
   "source": [
    "### XXX"
   ]
  }
 ],
 "metadata": {
  "kernelspec": {
   "display_name": "Python 3",
   "language": "python",
   "name": "python3"
  },
  "language_info": {
   "codemirror_mode": {
    "name": "ipython",
    "version": 3
   },
   "file_extension": ".py",
   "mimetype": "text/x-python",
   "name": "python",
   "nbconvert_exporter": "python",
   "pygments_lexer": "ipython3",
   "version": "3.11.5"
  }
 },
 "nbformat": 4,
 "nbformat_minor": 2
}
